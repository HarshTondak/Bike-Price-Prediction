{
 "cells": [
  {
   "cell_type": "code",
   "execution_count": 1,
   "id": "0a9128a2",
   "metadata": {
    "_cell_guid": "b1076dfc-b9ad-4769-8c92-a6c4dae69d19",
    "_uuid": "8f2839f25d086af736a60e9eeb907d3b93b6e0e5",
    "execution": {
     "iopub.execute_input": "2022-11-08T08:25:32.672824Z",
     "iopub.status.busy": "2022-11-08T08:25:32.672139Z",
     "iopub.status.idle": "2022-11-08T08:25:32.691286Z",
     "shell.execute_reply": "2022-11-08T08:25:32.690556Z"
    },
    "papermill": {
     "duration": 0.04022,
     "end_time": "2022-11-08T08:25:32.693760",
     "exception": false,
     "start_time": "2022-11-08T08:25:32.653540",
     "status": "completed"
    },
    "tags": []
   },
   "outputs": [
    {
     "name": "stdout",
     "output_type": "stream",
     "text": [
      "/kaggle/input/bikeprice/sample_submission.csv\n",
      "/kaggle/input/bikeprice/train.csv\n",
      "/kaggle/input/bikeprice/test.csv\n"
     ]
    }
   ],
   "source": [
    "# This Python 3 environment comes with many helpful analytics libraries installed\n",
    "# It is defined by the kaggle/python Docker image: https://github.com/kaggle/docker-python\n",
    "# For example, here's several helpful packages to load\n",
    "\n",
    "import numpy as np # linear algebra\n",
    "import pandas as pd # data processing, CSV file I/O (e.g. pd.read_csv)\n",
    "\n",
    "# Input data files are available in the read-only \"../input/\" directory\n",
    "# For example, running this (by clicking run or pressing Shift+Enter) will list all files under the input directory\n",
    "\n",
    "import os\n",
    "for dirname, _, filenames in os.walk('/kaggle/input'):\n",
    "    for filename in filenames:\n",
    "        print(os.path.join(dirname, filename))\n",
    "\n",
    "# You can write up to 20GB to the current directory (/kaggle/working/) that gets preserved as output when you create a version using \"Save & Run All\" \n",
    "# You can also write temporary files to /kaggle/temp/, but they won't be saved outside of the current session"
   ]
  },
  {
   "cell_type": "markdown",
   "id": "f0aa0d5e",
   "metadata": {
    "papermill": {
     "duration": 0.014108,
     "end_time": "2022-11-08T08:25:32.724419",
     "exception": false,
     "start_time": "2022-11-08T08:25:32.710311",
     "status": "completed"
    },
    "tags": []
   },
   "source": [
    "# **1. Importing Necessary Libraries**"
   ]
  },
  {
   "cell_type": "code",
   "execution_count": 2,
   "id": "4b842be3",
   "metadata": {
    "execution": {
     "iopub.execute_input": "2022-11-08T08:25:32.754550Z",
     "iopub.status.busy": "2022-11-08T08:25:32.754121Z",
     "iopub.status.idle": "2022-11-08T08:25:35.421786Z",
     "shell.execute_reply": "2022-11-08T08:25:35.420551Z"
    },
    "papermill": {
     "duration": 2.686196,
     "end_time": "2022-11-08T08:25:35.424872",
     "exception": false,
     "start_time": "2022-11-08T08:25:32.738676",
     "status": "completed"
    },
    "tags": []
   },
   "outputs": [],
   "source": [
    "import numpy as np # linear algebra\n",
    "import pandas as pd # data processing\n",
    "import seaborn as sns # checking data balancing\n",
    "import plotly.express as px # Data Visualization\n",
    "import matplotlib.pyplot as plt\n",
    "from plotly.subplots import make_subplots # Multiple plots in 1 plot\n",
    "import plotly.graph_objects as go\n",
    "import xgboost as xgb\n",
    "from sklearn.metrics import make_scorer, mean_squared_log_error\n",
    "from sklearn.model_selection import train_test_split, GridSearchCV\n",
    "from sklearn.preprocessing import LabelEncoder"
   ]
  },
  {
   "cell_type": "markdown",
   "id": "143aa995",
   "metadata": {
    "papermill": {
     "duration": 0.013969,
     "end_time": "2022-11-08T08:25:35.454136",
     "exception": false,
     "start_time": "2022-11-08T08:25:35.440167",
     "status": "completed"
    },
    "tags": []
   },
   "source": [
    "# **2. Loading Training Dataset 📊**"
   ]
  },
  {
   "cell_type": "code",
   "execution_count": 3,
   "id": "7bd1d4cc",
   "metadata": {
    "execution": {
     "iopub.execute_input": "2022-11-08T08:25:35.485493Z",
     "iopub.status.busy": "2022-11-08T08:25:35.484505Z",
     "iopub.status.idle": "2022-11-08T08:25:35.545782Z",
     "shell.execute_reply": "2022-11-08T08:25:35.544675Z"
    },
    "papermill": {
     "duration": 0.079555,
     "end_time": "2022-11-08T08:25:35.548360",
     "exception": false,
     "start_time": "2022-11-08T08:25:35.468805",
     "status": "completed"
    },
    "tags": []
   },
   "outputs": [
    {
     "data": {
      "text/html": [
       "<div>\n",
       "<style scoped>\n",
       "    .dataframe tbody tr th:only-of-type {\n",
       "        vertical-align: middle;\n",
       "    }\n",
       "\n",
       "    .dataframe tbody tr th {\n",
       "        vertical-align: top;\n",
       "    }\n",
       "\n",
       "    .dataframe thead th {\n",
       "        text-align: right;\n",
       "    }\n",
       "</style>\n",
       "<table border=\"1\" class=\"dataframe\">\n",
       "  <thead>\n",
       "    <tr style=\"text-align: right;\">\n",
       "      <th></th>\n",
       "      <th>bike_id</th>\n",
       "      <th>model_name</th>\n",
       "      <th>model_year</th>\n",
       "      <th>kms_driven</th>\n",
       "      <th>owner</th>\n",
       "      <th>location</th>\n",
       "      <th>mileage</th>\n",
       "      <th>power</th>\n",
       "      <th>price</th>\n",
       "    </tr>\n",
       "  </thead>\n",
       "  <tbody>\n",
       "    <tr>\n",
       "      <th>0</th>\n",
       "      <td>0</td>\n",
       "      <td>Bajaj V15 150cc 2017</td>\n",
       "      <td>2017</td>\n",
       "      <td>14000 Km</td>\n",
       "      <td>first owner</td>\n",
       "      <td>faridabad</td>\n",
       "      <td>57 kmpl</td>\n",
       "      <td>11.80 bhp</td>\n",
       "      <td>37000</td>\n",
       "    </tr>\n",
       "    <tr>\n",
       "      <th>1</th>\n",
       "      <td>1</td>\n",
       "      <td>Royal Enfield Classic 350cc 2015</td>\n",
       "      <td>2015</td>\n",
       "      <td>25350 Km</td>\n",
       "      <td>first owner</td>\n",
       "      <td>bangalore</td>\n",
       "      <td>35 kmpl</td>\n",
       "      <td>19.80 Bhp</td>\n",
       "      <td>103900</td>\n",
       "    </tr>\n",
       "    <tr>\n",
       "      <th>2</th>\n",
       "      <td>2</td>\n",
       "      <td>TVS Apache RTR 160cc 2019</td>\n",
       "      <td>2019</td>\n",
       "      <td>Mileage 60 Kmpl</td>\n",
       "      <td>first owner</td>\n",
       "      <td>etawah</td>\n",
       "      <td>60 Kmpl</td>\n",
       "      <td>15.2 bhp</td>\n",
       "      <td>85000</td>\n",
       "    </tr>\n",
       "    <tr>\n",
       "      <th>3</th>\n",
       "      <td>3</td>\n",
       "      <td>Royal Enfield Classic 500cc 2017</td>\n",
       "      <td>2017</td>\n",
       "      <td>14000 Km</td>\n",
       "      <td>first owner</td>\n",
       "      <td>bangalore</td>\n",
       "      <td>35 kmpl</td>\n",
       "      <td>27.20 bhp</td>\n",
       "      <td>140000</td>\n",
       "    </tr>\n",
       "    <tr>\n",
       "      <th>4</th>\n",
       "      <td>4</td>\n",
       "      <td>TVS Apache RTR 200 4V FI 2017</td>\n",
       "      <td>2017</td>\n",
       "      <td>Mileage 40 Kmpl</td>\n",
       "      <td>first owner</td>\n",
       "      <td>delhi</td>\n",
       "      <td>40 Kmpl</td>\n",
       "      <td>20.70 bhp</td>\n",
       "      <td>75000</td>\n",
       "    </tr>\n",
       "    <tr>\n",
       "      <th>5</th>\n",
       "      <td>5</td>\n",
       "      <td>TVS Apache RTR 200 4V Carburetor 2017</td>\n",
       "      <td>2017</td>\n",
       "      <td>Mileage 40 Kmpl</td>\n",
       "      <td>first owner</td>\n",
       "      <td>noida</td>\n",
       "      <td>40 Kmpl</td>\n",
       "      <td>20.70 bhp</td>\n",
       "      <td>70000</td>\n",
       "    </tr>\n",
       "    <tr>\n",
       "      <th>6</th>\n",
       "      <td>6</td>\n",
       "      <td>TVS Apache RR310 Slipper Clutch 2019</td>\n",
       "      <td>2019</td>\n",
       "      <td>5000 Km</td>\n",
       "      <td>first owner</td>\n",
       "      <td>delhi</td>\n",
       "      <td>22 kmpl</td>\n",
       "      <td>33 bhp</td>\n",
       "      <td>185000</td>\n",
       "    </tr>\n",
       "    <tr>\n",
       "      <th>7</th>\n",
       "      <td>7</td>\n",
       "      <td>Bajaj Pulsar 220F 2017</td>\n",
       "      <td>2017</td>\n",
       "      <td>20012 Km</td>\n",
       "      <td>first owner</td>\n",
       "      <td>noida</td>\n",
       "      <td>38 kmpl</td>\n",
       "      <td>21 bhp</td>\n",
       "      <td>56000</td>\n",
       "    </tr>\n",
       "    <tr>\n",
       "      <th>8</th>\n",
       "      <td>8</td>\n",
       "      <td>Honda CBR 150R 150cc 2017</td>\n",
       "      <td>2017</td>\n",
       "      <td>Mileage 38 Kmpl</td>\n",
       "      <td>first owner</td>\n",
       "      <td>gurgaon</td>\n",
       "      <td>38 Kmpl</td>\n",
       "      <td>18.28 bhp</td>\n",
       "      <td>70000</td>\n",
       "    </tr>\n",
       "    <tr>\n",
       "      <th>9</th>\n",
       "      <td>9</td>\n",
       "      <td>Hero Passion 100cc  2001</td>\n",
       "      <td>2001</td>\n",
       "      <td>39000 Km</td>\n",
       "      <td>second owner</td>\n",
       "      <td>dharwad</td>\n",
       "      <td>55 kmpl</td>\n",
       "      <td>7.5 Bhp</td>\n",
       "      <td>33100</td>\n",
       "    </tr>\n",
       "  </tbody>\n",
       "</table>\n",
       "</div>"
      ],
      "text/plain": [
       "   bike_id                             model_name  model_year  \\\n",
       "0        0                   Bajaj V15 150cc 2017        2017   \n",
       "1        1       Royal Enfield Classic 350cc 2015        2015   \n",
       "2        2              TVS Apache RTR 160cc 2019        2019   \n",
       "3        3       Royal Enfield Classic 500cc 2017        2017   \n",
       "4        4          TVS Apache RTR 200 4V FI 2017        2017   \n",
       "5        5  TVS Apache RTR 200 4V Carburetor 2017        2017   \n",
       "6        6   TVS Apache RR310 Slipper Clutch 2019        2019   \n",
       "7        7                 Bajaj Pulsar 220F 2017        2017   \n",
       "8        8              Honda CBR 150R 150cc 2017        2017   \n",
       "9        9               Hero Passion 100cc  2001        2001   \n",
       "\n",
       "        kms_driven         owner   location   mileage      power   price  \n",
       "0         14000 Km   first owner  faridabad   57 kmpl  11.80 bhp   37000  \n",
       "1         25350 Km   first owner  bangalore   35 kmpl  19.80 Bhp  103900  \n",
       "2  Mileage 60 Kmpl   first owner     etawah   60 Kmpl   15.2 bhp   85000  \n",
       "3         14000 Km   first owner  bangalore   35 kmpl  27.20 bhp  140000  \n",
       "4  Mileage 40 Kmpl   first owner      delhi   40 Kmpl  20.70 bhp   75000  \n",
       "5  Mileage 40 Kmpl   first owner      noida   40 Kmpl  20.70 bhp   70000  \n",
       "6          5000 Km   first owner      delhi   22 kmpl     33 bhp  185000  \n",
       "7         20012 Km   first owner      noida   38 kmpl     21 bhp   56000  \n",
       "8  Mileage 38 Kmpl   first owner    gurgaon   38 Kmpl  18.28 bhp   70000  \n",
       "9         39000 Km  second owner    dharwad   55 kmpl    7.5 Bhp   33100  "
      ]
     },
     "execution_count": 3,
     "metadata": {},
     "output_type": "execute_result"
    }
   ],
   "source": [
    "train_data = pd.read_csv('../input/bikeprice/train.csv')\n",
    "\n",
    "# Printing first 10 rows of the dataset\n",
    "train_data.head(10)"
   ]
  },
  {
   "cell_type": "markdown",
   "id": "c819ec63",
   "metadata": {
    "papermill": {
     "duration": 0.014477,
     "end_time": "2022-11-08T08:25:35.577636",
     "exception": false,
     "start_time": "2022-11-08T08:25:35.563159",
     "status": "completed"
    },
    "tags": []
   },
   "source": [
    "***📌 Our Dataset is loaded successfully!***"
   ]
  },
  {
   "cell_type": "markdown",
   "id": "6642577b",
   "metadata": {
    "papermill": {
     "duration": 0.014317,
     "end_time": "2022-11-08T08:25:35.606799",
     "exception": false,
     "start_time": "2022-11-08T08:25:35.592482",
     "status": "completed"
    },
    "tags": []
   },
   "source": [
    "# **3. Data Preprocessing 🤓**"
   ]
  },
  {
   "cell_type": "code",
   "execution_count": 4,
   "id": "98c03306",
   "metadata": {
    "execution": {
     "iopub.execute_input": "2022-11-08T08:25:35.638607Z",
     "iopub.status.busy": "2022-11-08T08:25:35.637925Z",
     "iopub.status.idle": "2022-11-08T08:25:35.645553Z",
     "shell.execute_reply": "2022-11-08T08:25:35.644010Z"
    },
    "papermill": {
     "duration": 0.025849,
     "end_time": "2022-11-08T08:25:35.647772",
     "exception": false,
     "start_time": "2022-11-08T08:25:35.621923",
     "status": "completed"
    },
    "tags": []
   },
   "outputs": [
    {
     "name": "stdout",
     "output_type": "stream",
     "text": [
      "The shape of our training set: 5892 Bikes and 8 input features\n",
      "\n",
      "Columns in our dataset:  Index(['bike_id', 'model_name', 'model_year', 'kms_driven', 'owner',\n",
      "       'location', 'mileage', 'power', 'price'],\n",
      "      dtype='object')\n"
     ]
    }
   ],
   "source": [
    "print('The shape of our training set: %s Bikes and %s input features'%(train_data.shape[0],train_data.shape[1] - 1))\n",
    "print(\"\\nColumns in our dataset: \" , train_data.columns)"
   ]
  },
  {
   "cell_type": "markdown",
   "id": "05e3bc91",
   "metadata": {
    "papermill": {
     "duration": 0.014386,
     "end_time": "2022-11-08T08:25:35.677317",
     "exception": false,
     "start_time": "2022-11-08T08:25:35.662931",
     "status": "completed"
    },
    "tags": []
   },
   "source": [
    "***📌 We have 5892 data points and 8 input features.***"
   ]
  },
  {
   "cell_type": "code",
   "execution_count": 5,
   "id": "8a39b840",
   "metadata": {
    "execution": {
     "iopub.execute_input": "2022-11-08T08:25:35.709333Z",
     "iopub.status.busy": "2022-11-08T08:25:35.708134Z",
     "iopub.status.idle": "2022-11-08T08:25:35.726977Z",
     "shell.execute_reply": "2022-11-08T08:25:35.725427Z"
    },
    "papermill": {
     "duration": 0.037663,
     "end_time": "2022-11-08T08:25:35.729613",
     "exception": false,
     "start_time": "2022-11-08T08:25:35.691950",
     "status": "completed"
    },
    "tags": []
   },
   "outputs": [
    {
     "name": "stdout",
     "output_type": "stream",
     "text": [
      "List of Numerical features: \n",
      " ['bike_id', 'model_year', 'price']\n",
      "\n",
      "\n",
      "List of Categorical features: \n",
      " ['model_name', 'kms_driven', 'owner', 'location', 'mileage', 'power']\n"
     ]
    }
   ],
   "source": [
    "print(\"List of Numerical features: \\n\" , train_data.select_dtypes(include=np.number).columns.tolist())\n",
    "print(\"\\n\\nList of Categorical features: \\n\" , train_data.select_dtypes(include=['object']).columns.tolist())"
   ]
  },
  {
   "cell_type": "code",
   "execution_count": 6,
   "id": "07604eb8",
   "metadata": {
    "execution": {
     "iopub.execute_input": "2022-11-08T08:25:35.761686Z",
     "iopub.status.busy": "2022-11-08T08:25:35.760997Z",
     "iopub.status.idle": "2022-11-08T08:25:35.768422Z",
     "shell.execute_reply": "2022-11-08T08:25:35.767473Z"
    },
    "papermill": {
     "duration": 0.026015,
     "end_time": "2022-11-08T08:25:35.770531",
     "exception": false,
     "start_time": "2022-11-08T08:25:35.744516",
     "status": "completed"
    },
    "tags": []
   },
   "outputs": [
    {
     "data": {
      "text/plain": [
       "Index(['bike_id', 'model_name', 'model_year', 'kms_driven', 'owner',\n",
       "       'location', 'mileage', 'power', 'price'],\n",
       "      dtype='object')"
      ]
     },
     "execution_count": 6,
     "metadata": {},
     "output_type": "execute_result"
    }
   ],
   "source": [
    "train_data.columns"
   ]
  },
  {
   "cell_type": "markdown",
   "id": "3009f5d2",
   "metadata": {
    "papermill": {
     "duration": 0.014461,
     "end_time": "2022-11-08T08:25:35.800366",
     "exception": false,
     "start_time": "2022-11-08T08:25:35.785905",
     "status": "completed"
    },
    "tags": []
   },
   "source": [
    "# *3.1 Checking Missing Values*"
   ]
  },
  {
   "cell_type": "code",
   "execution_count": 7,
   "id": "b2eebfbe",
   "metadata": {
    "execution": {
     "iopub.execute_input": "2022-11-08T08:25:35.833546Z",
     "iopub.status.busy": "2022-11-08T08:25:35.832844Z",
     "iopub.status.idle": "2022-11-08T08:25:35.843663Z",
     "shell.execute_reply": "2022-11-08T08:25:35.842656Z"
    },
    "papermill": {
     "duration": 0.029428,
     "end_time": "2022-11-08T08:25:35.845991",
     "exception": false,
     "start_time": "2022-11-08T08:25:35.816563",
     "status": "completed"
    },
    "tags": []
   },
   "outputs": [
    {
     "data": {
      "text/plain": [
       "bike_id        0\n",
       "model_name     0\n",
       "model_year     0\n",
       "kms_driven     0\n",
       "owner          0\n",
       "location      13\n",
       "mileage        9\n",
       "power         23\n",
       "price          0\n",
       "dtype: int64"
      ]
     },
     "execution_count": 7,
     "metadata": {},
     "output_type": "execute_result"
    }
   ],
   "source": [
    "train_data.isnull().sum()"
   ]
  },
  {
   "cell_type": "code",
   "execution_count": 8,
   "id": "777a6be2",
   "metadata": {
    "execution": {
     "iopub.execute_input": "2022-11-08T08:25:35.878389Z",
     "iopub.status.busy": "2022-11-08T08:25:35.877743Z",
     "iopub.status.idle": "2022-11-08T08:25:36.071308Z",
     "shell.execute_reply": "2022-11-08T08:25:36.070459Z"
    },
    "papermill": {
     "duration": 0.2128,
     "end_time": "2022-11-08T08:25:36.073939",
     "exception": false,
     "start_time": "2022-11-08T08:25:35.861139",
     "status": "completed"
    },
    "tags": []
   },
   "outputs": [
    {
     "data": {
      "text/plain": [
       "<AxesSubplot:>"
      ]
     },
     "execution_count": 8,
     "metadata": {},
     "output_type": "execute_result"
    },
    {
     "data": {
      "image/png": "[encoded data removed]",
      "text/plain": [
       "<Figure size 1080x576 with 1 Axes>"
      ]
     },
     "metadata": {
      "needs_background": "light"
     },
     "output_type": "display_data"
    }
   ],
   "source": [
    "missing = train_data.isnull().sum()\n",
    "missing = missing[missing>0]\n",
    "missing.sort_values(inplace=True)\n",
    "plt.figure(figsize=(15,8))\n",
    "missing.plot.bar()"
   ]
  },
  {
   "cell_type": "markdown",
   "id": "e20afc75",
   "metadata": {
    "papermill": {
     "duration": 0.015952,
     "end_time": "2022-11-08T08:25:36.105545",
     "exception": false,
     "start_time": "2022-11-08T08:25:36.089593",
     "status": "completed"
    },
    "tags": []
   },
   "source": [
    "# *3.2 Handling Missing Values*"
   ]
  },
  {
   "cell_type": "markdown",
   "id": "22dbedef",
   "metadata": {
    "papermill": {
     "duration": 0.015178,
     "end_time": "2022-11-08T08:25:36.136564",
     "exception": false,
     "start_time": "2022-11-08T08:25:36.121386",
     "status": "completed"
    },
    "tags": []
   },
   "source": [
    "**A. power**"
   ]
  },
  {
   "cell_type": "code",
   "execution_count": 9,
   "id": "7176e06b",
   "metadata": {
    "execution": {
     "iopub.execute_input": "2022-11-08T08:25:36.170387Z",
     "iopub.status.busy": "2022-11-08T08:25:36.169316Z",
     "iopub.status.idle": "2022-11-08T08:25:36.179876Z",
     "shell.execute_reply": "2022-11-08T08:25:36.178704Z"
    },
    "papermill": {
     "duration": 0.029946,
     "end_time": "2022-11-08T08:25:36.182244",
     "exception": false,
     "start_time": "2022-11-08T08:25:36.152298",
     "status": "completed"
    },
    "tags": []
   },
   "outputs": [
    {
     "data": {
      "text/plain": [
       "19.80 bhp          714\n",
       "13 bhp             259\n",
       "19 bhp             214\n",
       "27.20 bhp          211\n",
       "24.50 bhp          152\n",
       "                  ... \n",
       "159.80 bhp           1\n",
       "16.3 bhp             1\n",
       "25.35 bhp            1\n",
       "29.9 hp / 22 kW      1\n",
       "47.50 bhp            1\n",
       "Name: power, Length: 257, dtype: int64"
      ]
     },
     "execution_count": 9,
     "metadata": {},
     "output_type": "execute_result"
    }
   ],
   "source": [
    "train_data['power'].value_counts()"
   ]
  },
  {
   "cell_type": "code",
   "execution_count": 10,
   "id": "76b454c6",
   "metadata": {
    "execution": {
     "iopub.execute_input": "2022-11-08T08:25:36.216102Z",
     "iopub.status.busy": "2022-11-08T08:25:36.215479Z",
     "iopub.status.idle": "2022-11-08T08:25:36.229494Z",
     "shell.execute_reply": "2022-11-08T08:25:36.228331Z"
    },
    "papermill": {
     "duration": 0.033557,
     "end_time": "2022-11-08T08:25:36.231790",
     "exception": false,
     "start_time": "2022-11-08T08:25:36.198233",
     "status": "completed"
    },
    "tags": []
   },
   "outputs": [
    {
     "data": {
      "text/plain": [
       "bike_id        0\n",
       "model_name     0\n",
       "model_year     0\n",
       "kms_driven     0\n",
       "owner          0\n",
       "location      13\n",
       "mileage        9\n",
       "power          0\n",
       "price          0\n",
       "dtype: int64"
      ]
     },
     "execution_count": 10,
     "metadata": {},
     "output_type": "execute_result"
    }
   ],
   "source": [
    "train_data['power'] = train_data['power'].fillna(train_data['power'].mode()[0])\n",
    "train_data.isnull().sum()"
   ]
  },
  {
   "cell_type": "markdown",
   "id": "51e24622",
   "metadata": {
    "papermill": {
     "duration": 0.015615,
     "end_time": "2022-11-08T08:25:36.263578",
     "exception": false,
     "start_time": "2022-11-08T08:25:36.247963",
     "status": "completed"
    },
    "tags": []
   },
   "source": [
    "**B. mileage**"
   ]
  },
  {
   "cell_type": "code",
   "execution_count": 11,
   "id": "db0f60ae",
   "metadata": {
    "execution": {
     "iopub.execute_input": "2022-11-08T08:25:36.296983Z",
     "iopub.status.busy": "2022-11-08T08:25:36.296340Z",
     "iopub.status.idle": "2022-11-08T08:25:36.305841Z",
     "shell.execute_reply": "2022-11-08T08:25:36.304998Z"
    },
    "papermill": {
     "duration": 0.028812,
     "end_time": "2022-11-08T08:25:36.308110",
     "exception": false,
     "start_time": "2022-11-08T08:25:36.279298",
     "status": "completed"
    },
    "tags": []
   },
   "outputs": [
    {
     "data": {
      "text/plain": [
       " 35 kmpl    815\n",
       "            543\n",
       " 40 kmpl    481\n",
       " 65 Kmpl    328\n",
       " 25 kmpl    246\n",
       "           ... \n",
       " 15 Kmpl      1\n",
       " 68 Kmpl      1\n",
       " 70 kmpl      1\n",
       " 25kmpl       1\n",
       " 55           1\n",
       "Name: mileage, Length: 115, dtype: int64"
      ]
     },
     "execution_count": 11,
     "metadata": {},
     "output_type": "execute_result"
    }
   ],
   "source": [
    "train_data['mileage'].value_counts()"
   ]
  },
  {
   "cell_type": "code",
   "execution_count": 12,
   "id": "bd7f9911",
   "metadata": {
    "execution": {
     "iopub.execute_input": "2022-11-08T08:25:36.342353Z",
     "iopub.status.busy": "2022-11-08T08:25:36.341695Z",
     "iopub.status.idle": "2022-11-08T08:25:36.354168Z",
     "shell.execute_reply": "2022-11-08T08:25:36.352878Z"
    },
    "papermill": {
     "duration": 0.032325,
     "end_time": "2022-11-08T08:25:36.356665",
     "exception": false,
     "start_time": "2022-11-08T08:25:36.324340",
     "status": "completed"
    },
    "tags": []
   },
   "outputs": [
    {
     "data": {
      "text/plain": [
       "bike_id        0\n",
       "model_name     0\n",
       "model_year     0\n",
       "kms_driven     0\n",
       "owner          0\n",
       "location      13\n",
       "mileage        0\n",
       "power          0\n",
       "price          0\n",
       "dtype: int64"
      ]
     },
     "execution_count": 12,
     "metadata": {},
     "output_type": "execute_result"
    }
   ],
   "source": [
    "train_data['mileage'] = train_data['mileage'].fillna(train_data['mileage'].mode()[0])\n",
    "train_data.isnull().sum()"
   ]
  },
  {
   "cell_type": "markdown",
   "id": "d92cf442",
   "metadata": {
    "papermill": {
     "duration": 0.016438,
     "end_time": "2022-11-08T08:25:36.389784",
     "exception": false,
     "start_time": "2022-11-08T08:25:36.373346",
     "status": "completed"
    },
    "tags": []
   },
   "source": [
    "**C. location**"
   ]
  },
  {
   "cell_type": "code",
   "execution_count": 13,
   "id": "9b754c37",
   "metadata": {
    "execution": {
     "iopub.execute_input": "2022-11-08T08:25:36.424226Z",
     "iopub.status.busy": "2022-11-08T08:25:36.423834Z",
     "iopub.status.idle": "2022-11-08T08:25:36.433050Z",
     "shell.execute_reply": "2022-11-08T08:25:36.432123Z"
    },
    "papermill": {
     "duration": 0.029253,
     "end_time": "2022-11-08T08:25:36.435198",
     "exception": false,
     "start_time": "2022-11-08T08:25:36.405945",
     "status": "completed"
    },
    "tags": []
   },
   "outputs": [
    {
     "data": {
      "text/plain": [
       "delhi           1077\n",
       "mumbai           632\n",
       "bangalore        590\n",
       "pune             263\n",
       "hyderabad        257\n",
       "                ... \n",
       "aonla              1\n",
       "nabarangapur       1\n",
       "nalbari            1\n",
       "deoria             1\n",
       "dhrangadhra        1\n",
       "Name: location, Length: 486, dtype: int64"
      ]
     },
     "execution_count": 13,
     "metadata": {},
     "output_type": "execute_result"
    }
   ],
   "source": [
    "train_data['location'].value_counts()"
   ]
  },
  {
   "cell_type": "code",
   "execution_count": 14,
   "id": "8e854bb1",
   "metadata": {
    "execution": {
     "iopub.execute_input": "2022-11-08T08:25:36.469604Z",
     "iopub.status.busy": "2022-11-08T08:25:36.468930Z",
     "iopub.status.idle": "2022-11-08T08:25:36.480910Z",
     "shell.execute_reply": "2022-11-08T08:25:36.479692Z"
    },
    "papermill": {
     "duration": 0.032033,
     "end_time": "2022-11-08T08:25:36.483413",
     "exception": false,
     "start_time": "2022-11-08T08:25:36.451380",
     "status": "completed"
    },
    "tags": []
   },
   "outputs": [
    {
     "data": {
      "text/plain": [
       "bike_id       0\n",
       "model_name    0\n",
       "model_year    0\n",
       "kms_driven    0\n",
       "owner         0\n",
       "location      0\n",
       "mileage       0\n",
       "power         0\n",
       "price         0\n",
       "dtype: int64"
      ]
     },
     "execution_count": 14,
     "metadata": {},
     "output_type": "execute_result"
    }
   ],
   "source": [
    "train_data['location'] = train_data['location'].fillna(train_data['location'].mode()[0])\n",
    "train_data.isnull().sum()"
   ]
  },
  {
   "cell_type": "markdown",
   "id": "fc5770cd",
   "metadata": {
    "papermill": {
     "duration": 0.016031,
     "end_time": "2022-11-08T08:25:36.516524",
     "exception": false,
     "start_time": "2022-11-08T08:25:36.500493",
     "status": "completed"
    },
    "tags": []
   },
   "source": [
    "# *3.3 Checking Outliers*"
   ]
  },
  {
   "cell_type": "code",
   "execution_count": 15,
   "id": "72018e72",
   "metadata": {
    "execution": {
     "iopub.execute_input": "2022-11-08T08:25:36.551241Z",
     "iopub.status.busy": "2022-11-08T08:25:36.550591Z",
     "iopub.status.idle": "2022-11-08T08:25:37.855345Z",
     "shell.execute_reply": "2022-11-08T08:25:37.854470Z"
    },
    "papermill": {
     "duration": 1.325399,
     "end_time": "2022-11-08T08:25:37.858345",
     "exception": false,
     "start_time": "2022-11-08T08:25:36.532946",
     "status": "completed"
    },
    "tags": []
   },
   "outputs": [
    {
     "data": {
      "text/html": [
       "        <script type=\"text/javascript\">\n",
       "        window.PlotlyConfig = {MathJaxConfig: 'local'};\n",
       "        if (window.MathJax && window.MathJax.Hub && window.MathJax.Hub.Config) {window.MathJax.Hub.Config({SVG: {font: \"STIX-Web\"}});}\n",
       "        if (typeof require !== 'undefined') {\n",
       "        require.undef(\"plotly\");\n",
       "        requirejs.config({\n",
       "            paths: {\n",
       "                'plotly': ['https://cdn.plot.ly/plotly-2.14.0.min']\n",
       "            }\n",
       "        });\n",
       "        require(['plotly'], function(Plotly) {\n",
       "            window._Plotly = Plotly;\n",
       "        });\n",
       "        }\n",
       "        </script>\n",
       "        "
      ]
     },
     "metadata": {},
     "output_type": "display_data"
    },
    {
     "data": {
      "text/html": [
       "<div>                            <div id=\"28f48bbc-d178-448b-a1e5-0539c47ca1ea\" class=\"plotly-graph-div\" style=\"height:600px; width:800px;\"></div>            <script type=\"text/javascript\">                require([\"plotly\"], function(Plotly) {                    window.PLOTLYENV=window.PLOTLYENV || {};                                    if (document.getElementById(\"28f48bbc-d178-448b-a1e5-0539c47ca1ea\")) {                    Plotly.newPlot(                        \"28f48bbc-d178-448b-a1e5-0539c47ca1ea\",                        [{\"alignmentgroup\":\"True\",\"hovertemplate\":\"<b>%{hovertext}</b><br><br>model_year=2017<br>price=%{y}<extra></extra>\",\"hovertext\":[0.0,3.0,4.0,5.0,7.0,8.0,10.0,19.0,35.0,38.0,44.0,58.0,69.0,72.0,83.0,84.0,86.0,89.0,93.0,94.0,96.0,97.0,98.0,106.0,109.0,112.0,131.0,139.0,143.0,146.0,147.0,187.0,191.0,193.0,215.0,232.0,237.0,241.0,244.0,247.0,252.0,255.0,262.0,272.0,283.0,290.0,293.0,294.0,295.0,310.0,324.0,326.0,335.0,349.0,367.0,369.0,375.0,381.0,382.0,385.0,387.0,389.0,392.0,400.0,406.0,411.0,412.0,416.0,428.0,433.0,438.0,442.0,450.0,457.0,459.0,461.0,465.0,481.0,486.0,488.0,499.0,513.0,515.0,521.0,522.0,527.0,533.0,534.0,549.0,550.0,560.0,565.0,578.0,582.0,590.0,596.0,597.0,633.0,634.0,641.0,644.0,646.0,648.0,653.0,657.0,660.0,662.0,665.0,667.0,670.0,689.0,701.0,703.0,707.0,710.0,717.0,728.0,729.0,740.0,742.0,748.0,753.0,756.0,758.0,759.0,761.0,767.0,784.0,794.0,798.0,803.0,807.0,815.0,819.0,820.0,831.0,832.0,841.0,842.0,845.0,847.0,849.0,862.0,863.0,866.0,875.0,877.0,890.0,897.0,898.0,903.0,923.0,925.0,927.0,931.0,932.0,940.0,950.0,955.0,959.0,967.0,978.0,981.0,983.0,986.0,992.0,1013.0,1014.0,1018.0,1024.0,1028.0,1032.0,1034.0,1040.0,1047.0,1048.0,1052.0,1057.0,1059.0,1062.0,1076.0,1077.0,1086.0,1089.0,1100.0,1101.0,1107.0,1110.0,1120.0,1133.0,1142.0,1148.0,1149.0,1152.0,1162.0,1173.0,1177.0,1178.0,1188.0,1201.0,1206.0,1207.0,1212.0,1219.0,1235.0,1247.0,1260.0,1261.0,1270.0,1288.0,1300.0,1308.0,1323.0,1333.0,1353.0,1382.0,1397.0,1398.0,1399.0,1403.0,1408.0,1413.0,1433.0,1436.0,1461.0,1462.0,1465.0,1472.0,1474.0,1482.0,1483.0,1497.0,1501.0,1502.0,1532.0,1538.0,1540.0,1542.0,1547.0,1548.0,1559.0,1561.0,1566.0,1582.0,1598.0,1600.0,1601.0,1603.0,1606.0,1607.0,1615.0,1624.0,1630.0,1636.0,1646.0,1648.0,1657.0,1663.0,1670.0,1681.0,1692.0,1705.0,1706.0,1714.0,1730.0,1738.0,1766.0,1773.0,1781.0,1782.0,1796.0,1800.0,1804.0,1809.0,1811.0,1821.0,1828.0,1841.0,1845.0,1881.0,1882.0,1883.0,1896.0,1906.0,1915.0,1917.0,1920.0,1921.0,1935.0,1939.0,1956.0,1969.0,1972.0,1977.0,1987.0,1988.0,2004.0,2005.0,2018.0,2022.0,2035.0,2042.0,2049.0,2053.0,2070.0,2073.0,2076.0,2100.0,2102.0,2103.0,2115.0,2116.0,2127.0,2134.0,2140.0,2142.0,2148.0,2150.0,2166.0,2181.0,2188.0,2196.0,2204.0,2215.0,2219.0,2221.0,2222.0,2227.0,2228.0,2233.0,2235.0,2238.0,2239.0,2240.0,2251.0,2254.0,2265.0,2270.0,2281.0,2282.0,2289.0,2314.0,2315.0,2316.0,2318.0,2322.0,2325.0,2326.0,2347.0,2351.0,2358.0,2364.0,2372.0,2374.0,2375.0,2377.0,2379.0,2390.0,2395.0,2398.0,2409.0,2410.0,2416.0,2420.0,2424.0,2437.0,2443.0,2451.0,2452.0,2454.0,2474.0,2481.0,2482.0,2497.0,2500.0,2501.0,2512.0,2513.0,2523.0,2525.0,2534.0,2535.0,2539.0,2540.0,2544.0,2551.0,2553.0,2555.0,2559.0,2564.0,2573.0,2580.0,2591.0,2594.0,2605.0,2611.0,2613.0,2617.0,2621.0,2626.0,2635.0,2639.0,2640.0,2646.0,2672.0,2679.0,2692.0,2693.0,2694.0,2698.0,2704.0,2706.0,2712.0,2720.0,2726.0,2730.0,2732.0,2735.0,2742.0,2749.0,2762.0,2775.0,2777.0,2781.0,2785.0,2791.0,2795.0,2798.0,2800.0,2806.0,2822.0,2827.0,2834.0,2856.0,2862.0,2882.0,2887.0,2888.0,2897.0,2901.0,2902.0,2911.0,2914.0,2917.0,2926.0,2938.0,2959.0,2966.0,2974.0,2983.0,2992.0,2998.0,3004.0,3014.0,3017.0,3021.0,3025.0,3038.0,3040.0,3041.0,3042.0,3051.0,3053.0,3061.0,3063.0,3064.0,3065.0,3068.0,3072.0,3075.0,3086.0,3089.0,3092.0,3094.0,3096.0,3098.0,3117.0,3119.0,3129.0,3143.0,3147.0,3151.0,3152.0,3157.0,3168.0,3169.0,3179.0,3180.0,3181.0,3186.0,3192.0,3193.0,3194.0,3196.0,3223.0,3230.0,3233.0,3240.0,3241.0,3244.0,3249.0,3257.0,3264.0,3266.0,3268.0,3272.0,3275.0,3279.0,3283.0,3284.0,3289.0,3290.0,3291.0,3298.0,3300.0,3317.0,3325.0,3328.0,3332.0,3335.0,3347.0,3356.0,3361.0,3371.0,3377.0,3393.0,3404.0,3406.0,3418.0,3426.0,3428.0,3431.0,3434.0,3447.0,3466.0,3472.0,3481.0,3498.0,3500.0,3504.0,3513.0,3518.0,3530.0,3531.0,3545.0,3554.0,3555.0,3559.0,3571.0,3579.0,3589.0,3591.0,3596.0,3633.0,3635.0,3642.0,3644.0,3652.0,3654.0,3665.0,3670.0,3686.0,3689.0,3694.0,3695.0,3700.0,3704.0,3706.0,3708.0,3719.0,3722.0,3752.0,3758.0,3760.0,3783.0,3792.0,3797.0,3801.0,3802.0,3814.0,3815.0,3826.0,3827.0,3836.0,3841.0,3845.0,3847.0,3849.0,3854.0,3861.0,3863.0,3864.0,3880.0,3887.0,3893.0,3898.0,3908.0,3916.0,3920.0,3923.0,3929.0,3935.0,3938.0,3949.0,3951.0,3954.0,3955.0,3960.0,3967.0,3978.0,3982.0,3986.0,3991.0,4008.0,4014.0,4044.0,4045.0,4047.0,4050.0,4056.0,4070.0,4093.0,4097.0,4102.0,4113.0,4124.0,4129.0,4154.0,4171.0,4172.0,4179.0,4187.0,4195.0,4200.0,4204.0,4219.0,4221.0,4229.0,4234.0,4241.0,4265.0,4271.0,4274.0,4275.0,4283.0,4288.0,4289.0,4291.0,4292.0,4294.0,4312.0,4315.0,4328.0,4329.0,4333.0,4337.0,4339.0,4355.0,4356.0,4368.0,4376.0,4382.0,4395.0,4413.0,4415.0,4417.0,4423.0,4425.0,4440.0,4459.0,4461.0,4467.0,4469.0,4472.0,4475.0,4476.0,4482.0,4503.0,4507.0,4511.0,4515.0,4520.0,4525.0,4538.0,4546.0,4549.0,4550.0,4552.0,4554.0,4564.0,4578.0,4581.0,4588.0,4598.0,4610.0,4619.0,4660.0,4690.0,4691.0,4692.0,4694.0,4696.0,4700.0,4706.0,4713.0,4716.0,4722.0,4723.0,4734.0,4736.0,4738.0,4742.0,4743.0,4768.0,4773.0,4783.0,4784.0,4786.0,4798.0,4803.0,4806.0,4808.0,4825.0,4834.0,4856.0,4865.0,4869.0,4870.0,4872.0,4873.0,4894.0,4896.0,4904.0,4909.0,4913.0,4917.0,4921.0,4924.0,4934.0,4939.0,4949.0,4950.0,4954.0,4957.0,4959.0,4967.0,4976.0,4993.0,4995.0,5021.0,5024.0,5026.0,5030.0,5041.0,5042.0,5045.0,5053.0,5055.0,5057.0,5060.0,5065.0,5067.0,5070.0,5080.0,5084.0,5086.0,5109.0,5129.0,5133.0,5144.0,5145.0,5148.0,5151.0,5164.0,5170.0,5176.0,5196.0,5220.0,5231.0,5252.0,5260.0,5261.0,5263.0,5266.0,5267.0,5279.0,5280.0,5286.0,5289.0,5290.0,5298.0,5303.0,5308.0,5334.0,5337.0,5339.0,5348.0,5357.0,5369.0,5372.0,5383.0,5385.0,5386.0,5387.0,5388.0,5390.0,5392.0,5394.0,5399.0,5404.0,5432.0,5433.0,5435.0,5457.0,5463.0,5471.0,5486.0,5528.0,5533.0,5536.0,5539.0,5541.0,5551.0,5553.0,5556.0,5560.0,5588.0,5594.0,5597.0,5603.0,5604.0,5610.0,5625.0,5628.0,5629.0,5630.0,5633.0,5634.0,5639.0,5643.0,5648.0,5654.0,5672.0,5674.0,5680.0,5681.0,5693.0,5696.0,5697.0,5700.0,5721.0,5724.0,5729.0,5733.0,5738.0,5742.0,5751.0,5774.0,5781.0,5792.0,5796.0,5807.0,5811.0,5812.0,5813.0,5815.0,5817.0,5818.0,5831.0,5835.0,5840.0,5845.0,5851.0,5853.0,5858.0,5872.0,5876.0,5884.0,5886.0,5887.0,5891.0],\"legendgroup\":\"2017\",\"marker\":{\"color\":\"#636efa\"},\"name\":\"2017\",\"notched\":false,\"offsetgroup\":\"2017\",\"orientation\":\"v\",\"showlegend\":true,\"x0\":\" \",\"xaxis\":\"x\",\"y\":[37000,140000,75000,70000,56000,70000,23000,126500,102400,119000,346600,56300,132300,69000,69000,62000,46500,66300,45000,130000,175000,60000,80000,75000,56400,36000,94000,68000,140000,130000,110000,56000,125000,200000,31000,140000,125000,80000,466875,52000,52400,155000,58000,135000,40000,87000,26365,178000,138880,39400,110000,189100,150000,44000,75300,158000,118000,84000,155000,114700,38708,95000,115000,66700,95000,135000,80000,115000,56700,38000,114000,95000,75000,133920,89100,60000,35000,52400,77815,62900,45050,75000,35000,125000,148000,590000,95000,80000,60000,53500,60000,70000,86219,97750,50000,100700,850000,60000,100000,120000,64000,93000,120000,90600,105000,67700,115000,1200000,120000,173400,43000,89999,92665,508600,70400,78000,55000,121000,55000,72000,68000,70000,150000,84900,37700,174600,90000,150000,56000,51000,110000,125000,48000,62000,125000,120000,32000,150000,42500,75000,465000,137000,51900,69000,75000,51000,850000,650000,110000,145000,114900,44000,39000,124500,60000,90000,38000,100000,160000,76000,148000,151000,72500,132000,70000,30000,52200,60000,60000,120000,110000,38000,39200,295000,85000,80000,102000,450000,75000,84400,54000,229000,58000,119100,80000,32250,99000,45000,85000,66000,170000,170000,96000,160000,29339,40000,116000,62100,121100,65000,41000,125000,65000,130000,125000,110000,38000,215000,78000,18000,69569,110000,150000,80000,125000,100000,135000,129700,120000,97800,75000,68000,60400,218000,72000,58200,145000,232000,56950,52000,76800,138880,700000,90000,181000,85000,85000,38000,33000,140000,45000,115000,92100,85000,95000,75000,60000,55300,158097,130000,126200,127500,121000,38000,160000,27000,135000,129000,130000,117700,85000,150000,62000,42000,95000,75000,110200,76000,69000,87500,380000,116848,49000,135000,70000,120000,42000,115700,80000,135000,320000,60900,90000,105500,480000,55600,122000,58800,64600,115700,96698,48000,62000,95000,66000,58200,185000,125000,69500,130000,42000,130000,62400,150000,79000,105000,94700,55000,125000,120000,140000,115700,100000,180000,120000,71000,65000,44000,140000,230000,60000,40000,120000,125000,79000,57000,45000,32500,72000,130000,130000,80000,70000,70000,480000,1000000,75000,52000,54000,61000,110000,109000,110000,45000,53000,59900,155000,220000,150000,120000,60800,140000,30144,170000,450000,87200,40000,35740,66000,50000,118000,1500000,85000,44000,36000,127500,150000,124100,48500,60000,55000,115800,30000,110000,69999,110000,125000,88000,130000,85000,80400,75000,85000,120000,363125,89000,499999,132700,145000,133400,73000,310000,150000,130000,85000,32000,60000,161793,100000,135000,70000,67500,145700,60000,85000,135000,65000,121000,22500,450000,51000,37000,260000,135400,77000,259375,44000,90000,40000,120000,80000,1400000,100000,68000,114900,58000,250000,72300,109999,55000,110000,120000,183333,140000,140000,118000,138000,75000,75000,21000,220000,230000,150000,36000,250000,125000,58000,58000,81000,130100,153400,67500,112100,110000,40000,80000,800000,260000,160000,110000,70000,115000,85000,35000,107500,198200,120000,500000,154000,54000,36000,45400,150000,130000,122550,76000,119500,59000,90000,76000,120000,165000,57000,51000,115000,145000,40000,135000,56300,57500,106000,145000,46000,57000,32250,77812,106000,134400,101697,90000,28000,133000,130000,70000,120000,165000,69825,100000,150000,47000,190000,155000,125000,80000,115000,130000,142000,82200,45000,68900,51000,69000,115000,67000,75000,105000,119400,127500,65000,425000,65000,61000,145000,190000,70900,145300,70000,112000,150000,45000,76600,92800,125600,505000,155000,63309,125000,51000,135000,131000,170000,120000,129700,49000,85000,125000,110400,139500,90000,140000,118000,115000,33000,1245000,128000,39000,130900,195000,124500,120000,1150000,95250,120000,399000,110000,386000,60000,150000,72000,121000,70000,37204,107900,180000,120000,110000,150000,87700,810000,69000,90000,135000,56100,115000,58000,30000,139900,100000,42500,180000,43000,110000,58000,90000,45000,130000,94000,50000,23000,123000,150000,117200,38000,66000,91600,45000,985625,120000,60000,32000,160000,34000,50000,124000,150000,52000,114000,65000,175000,50000,134400,100288,300000,56000,64000,150000,90000,113000,140000,145000,145000,150000,170000,145000,160000,73000,39000,33680,135000,625000,100000,128000,75000,66900,139999,62100,57000,75000,37000,69000,80000,58000,122900,96050,67000,89500,135000,65533,89000,160000,99650,120000,119000,98000,58000,80000,300000,90000,370000,40000,600000,69000,155000,72000,160000,60800,131500,76500,55500,60500,86000,149000,80000,160000,40000,69000,110000,60000,220000,105000,130000,76000,155000,100000,110000,165000,140000,85999,510000,62000,119900,1500000,60000,127500,155000,95000,120000,128000,150000,53300,70000,105000,123000,31000,92000,75000,80000,58000,235000,135800,125000,110000,59000,49500,55000,140000,60000,149900,75000,130000,75000,43000,125000,95000,155000,125000,55000,120000,95000,90000,70000,124000,85000,41000,112600,150500,42000,230000,340000,152000,43000,70000,230000,45000,31000,69400,75000,150000,65000,38000,65000,74000,77300,123700,65000,37500,100000,113000,159700,61500,85000,56000,105000,115000,145000,115000,140000,84800,120000,93000,80000,70000,122000,65000,45000,99000,110000,86475,63000,125000,195000,129000,40000,52000,70000,56000,100000,55000,48000,65000,69000,145250,108000,50390,80000,225000,37500,146006,450000,80000,54000,500000,48000,150000,113600,230000,32000,120000,99000,38000,200000,55000,101300,95000,58900,45000,141000,35000,60800,60000,70000,115900,68000,5000,75000,47000,120000,68000,100000,200000,120000,45000,70000,45000,55000,30000,140000,56600,110000,130000,45500,47475,70000,205000,90000,670000,169912,290000,55000,134400,91400,58700,71600,39000,155000,58400,83000,125000,155000,130000,35000],\"y0\":\" \",\"yaxis\":\"y\",\"type\":\"box\"},{\"alignmentgroup\":\"True\",\"hovertemplate\":\"<b>%{hovertext}</b><br><br>model_year=2015<br>price=%{y}<extra></extra>\",\"hovertext\":[1.0,11.0,25.0,28.0,29.0,47.0,52.0,57.0,60.0,61.0,65.0,74.0,79.0,88.0,99.0,128.0,136.0,141.0,145.0,151.0,152.0,194.0,200.0,210.0,212.0,214.0,217.0,240.0,258.0,277.0,282.0,317.0,354.0,355.0,366.0,373.0,376.0,377.0,409.0,422.0,445.0,446.0,454.0,464.0,473.0,480.0,485.0,498.0,523.0,528.0,529.0,544.0,551.0,567.0,612.0,622.0,638.0,645.0,647.0,655.0,691.0,694.0,700.0,711.0,713.0,744.0,749.0,763.0,768.0,778.0,781.0,782.0,791.0,805.0,821.0,827.0,870.0,889.0,894.0,902.0,906.0,948.0,953.0,956.0,969.0,972.0,977.0,985.0,1007.0,1025.0,1033.0,1038.0,1051.0,1054.0,1067.0,1073.0,1099.0,1104.0,1118.0,1136.0,1170.0,1171.0,1176.0,1181.0,1184.0,1189.0,1198.0,1202.0,1237.0,1243.0,1267.0,1278.0,1289.0,1291.0,1297.0,1298.0,1342.0,1343.0,1368.0,1380.0,1386.0,1389.0,1392.0,1401.0,1407.0,1431.0,1437.0,1442.0,1456.0,1466.0,1484.0,1487.0,1505.0,1515.0,1517.0,1527.0,1529.0,1543.0,1554.0,1586.0,1588.0,1594.0,1602.0,1610.0,1621.0,1627.0,1695.0,1707.0,1710.0,1719.0,1721.0,1722.0,1726.0,1728.0,1743.0,1746.0,1760.0,1806.0,1842.0,1856.0,1875.0,1892.0,1893.0,1901.0,1902.0,1911.0,1918.0,1919.0,1927.0,1934.0,1936.0,1942.0,1945.0,1946.0,1962.0,1964.0,1989.0,1997.0,1998.0,1999.0,2000.0,2008.0,2013.0,2016.0,2023.0,2039.0,2060.0,2074.0,2080.0,2095.0,2099.0,2108.0,2113.0,2119.0,2121.0,2133.0,2144.0,2160.0,2162.0,2167.0,2191.0,2205.0,2218.0,2226.0,2234.0,2237.0,2248.0,2275.0,2292.0,2293.0,2299.0,2301.0,2321.0,2336.0,2337.0,2345.0,2353.0,2369.0,2376.0,2385.0,2393.0,2415.0,2435.0,2442.0,2450.0,2461.0,2468.0,2486.0,2489.0,2494.0,2502.0,2504.0,2529.0,2531.0,2533.0,2557.0,2584.0,2604.0,2650.0,2661.0,2662.0,2674.0,2677.0,2682.0,2684.0,2685.0,2689.0,2734.0,2737.0,2746.0,2752.0,2757.0,2768.0,2770.0,2779.0,2786.0,2787.0,2793.0,2796.0,2797.0,2816.0,2819.0,2821.0,2831.0,2845.0,2853.0,2873.0,2880.0,2894.0,2903.0,2918.0,2925.0,2929.0,2940.0,2941.0,2954.0,2957.0,2969.0,2976.0,2987.0,2988.0,2996.0,3007.0,3018.0,3024.0,3027.0,3036.0,3046.0,3073.0,3074.0,3083.0,3090.0,3097.0,3124.0,3130.0,3137.0,3162.0,3205.0,3209.0,3211.0,3214.0,3219.0,3220.0,3225.0,3236.0,3238.0,3254.0,3270.0,3286.0,3288.0,3301.0,3307.0,3311.0,3326.0,3333.0,3343.0,3355.0,3368.0,3373.0,3403.0,3405.0,3414.0,3439.0,3442.0,3446.0,3461.0,3464.0,3473.0,3475.0,3490.0,3492.0,3502.0,3506.0,3528.0,3551.0,3556.0,3562.0,3566.0,3573.0,3583.0,3592.0,3599.0,3623.0,3625.0,3626.0,3629.0,3631.0,3641.0,3679.0,3681.0,3699.0,3703.0,3720.0,3727.0,3738.0,3745.0,3750.0,3772.0,3794.0,3799.0,3804.0,3823.0,3842.0,3844.0,3858.0,3862.0,3872.0,3877.0,3888.0,3903.0,3906.0,3910.0,3913.0,3914.0,3915.0,3940.0,3945.0,3958.0,3966.0,3973.0,3983.0,3985.0,4003.0,4026.0,4028.0,4064.0,4071.0,4078.0,4081.0,4083.0,4086.0,4089.0,4092.0,4100.0,4106.0,4118.0,4119.0,4132.0,4156.0,4168.0,4183.0,4188.0,4189.0,4236.0,4244.0,4248.0,4249.0,4257.0,4259.0,4260.0,4264.0,4267.0,4270.0,4277.0,4278.0,4299.0,4302.0,4306.0,4317.0,4320.0,4322.0,4324.0,4330.0,4351.0,4365.0,4367.0,4381.0,4402.0,4419.0,4421.0,4435.0,4437.0,4441.0,4442.0,4445.0,4450.0,4452.0,4460.0,4464.0,4480.0,4489.0,4495.0,4497.0,4501.0,4532.0,4539.0,4540.0,4545.0,4561.0,4563.0,4576.0,4587.0,4593.0,4594.0,4600.0,4601.0,4602.0,4621.0,4650.0,4656.0,4658.0,4673.0,4684.0,4693.0,4719.0,4749.0,4776.0,4796.0,4815.0,4824.0,4849.0,4875.0,4906.0,4914.0,4916.0,4927.0,4940.0,4948.0,4961.0,4964.0,4980.0,4984.0,4994.0,4996.0,4997.0,4999.0,5013.0,5022.0,5025.0,5031.0,5052.0,5075.0,5078.0,5081.0,5087.0,5094.0,5110.0,5113.0,5116.0,5121.0,5132.0,5143.0,5147.0,5150.0,5154.0,5157.0,5159.0,5163.0,5169.0,5180.0,5192.0,5211.0,5218.0,5222.0,5223.0,5224.0,5233.0,5235.0,5237.0,5248.0,5253.0,5269.0,5273.0,5274.0,5287.0,5306.0,5311.0,5316.0,5331.0,5352.0,5353.0,5355.0,5361.0,5379.0,5381.0,5396.0,5405.0,5406.0,5407.0,5413.0,5443.0,5445.0,5447.0,5449.0,5450.0,5453.0,5466.0,5477.0,5479.0,5483.0,5487.0,5492.0,5495.0,5499.0,5508.0,5525.0,5538.0,5543.0,5546.0,5552.0,5561.0,5566.0,5575.0,5595.0,5601.0,5624.0,5627.0,5632.0,5657.0,5661.0,5662.0,5667.0,5688.0,5689.0,5691.0,5701.0,5704.0,5716.0,5782.0,5783.0,5790.0,5826.0,5844.0,5850.0,5856.0,5862.0,5885.0],\"legendgroup\":\"2015\",\"marker\":{\"color\":\"#EF553B\"},\"name\":\"2015\",\"notched\":false,\"offsetgroup\":\"2015\",\"orientation\":\"v\",\"showlegend\":true,\"x0\":\" \",\"xaxis\":\"x\",\"y\":[103900,52000,125000,39400,55000,325000,30000,44000,132100,45000,90000,85000,115300,45000,45625,140000,125000,22222,115000,45000,109400,47500,120000,85000,48000,120000,99000,114999,26000,145000,950000,48500,115000,41000,45000,95000,60000,105000,54300,130000,95000,45000,97209,101000,20517,55000,95000,95000,100000,110000,40000,85000,36000,27000,154000,63375,50000,275000,40000,100000,113900,88057,90000,120000,430000,85000,78000,36000,95000,100000,141375,108000,30000,900000,169000,30000,80000,45000,57400,41300,93000,90000,109800,71800,48400,55000,105000,34500,75000,110000,1500000,52000,160000,430000,47000,110000,100000,110000,89900,147000,112300,115000,60000,80000,150000,130600,300000,67000,50000,23000,44000,90000,150000,45000,95000,42000,65000,129687,440937,35216,135000,400000,110000,50400,95000,47000,57612,36500,52000,52800,43800,30000,105000,72000,70000,80000,40000,85000,275000,70000,48400,44100,45000,99999,108000,47800,29000,110000,99000,33200,95000,22000,120000,110000,28000,76300,90000,145000,120500,41300,45000,113000,35000,38500,125000,51000,63000,75000,35000,85000,140000,55000,115000,38000,108000,115000,42500,67000,55000,160000,135000,40000,115000,95000,52000,58000,55000,55000,67000,73600,65000,29760,110000,128600,30000,35145,54000,72000,145000,112300,175000,125000,45000,120000,108000,400000,149600,47000,38000,45000,95000,100000,32000,85000,48000,115000,48000,35000,80300,46000,30500,85000,71100,56550,60148,129800,44324,41000,60000,320000,100000,130000,155000,220000,21500,60966,45000,105000,135000,120000,159500,43065,70000,29800,32000,82000,90000,110000,26500,135000,150000,133100,25000,32000,70700,106000,44000,70000,89900,95000,95000,419700,110000,45000,580000,92700,39800,95000,103800,65000,40000,0,102200,360000,35000,41300,52000,100000,625000,70000,120000,130000,103750,41600,95000,51000,48750,50000,45000,95000,60000,88150,110000,315000,45000,389100,125000,150000,120000,55000,48100,73000,49000,78000,80900,83000,75000,32000,48900,925000,60000,119000,45000,115300,48000,115000,80000,110000,60000,130000,31250,96000,60000,72000,210000,100000,138029,31977,45000,45000,85000,25000,55000,93000,66000,49940,400000,122883,30000,23925,46000,26500,30000,475000,44000,120000,85000,1025000,55000,120000,99999,45000,123400,110000,41000,87500,95000,62600,46000,33500,33500,111000,28000,80000,50000,87000,28200,25500,36300,180000,205000,44000,47040,57400,95000,47300,79999,21000,99100,135000,135000,45000,180000,85000,85000,750000,55000,95000,90001,95000,37500,54000,65000,84000,25000,90000,105000,27000,108000,65000,125000,62500,85000,34000,39000,125000,42000,105000,20000,99000,50000,107000,365000,105000,120000,105000,32500,62000,90000,75000,330000,110000,110000,50000,35000,36000,106000,85000,135000,58000,105000,40000,1900000,55000,111200,100000,300875,110000,45000,120000,85000,60000,150100,53100,85400,118000,66000,50000,90000,41900,139999,32000,35000,125000,80000,390000,120000,65000,82000,54000,270000,98000,73000,87000,38800,65000,120000,54468,102000,25000,77000,31000,38000,90000,54999,130000,25000,45000,48000,40500,370000,75000,778125,135000,88000,26000,120000,93000,90000,85000,99902,103000,110000,80218,85000,65000,170700,127700,118000,28600,110000,120000,30000,102075,140000,37389,90000,50000,112000,48000,42000,32000,35000,40000,29000,38000,98000,35000,49000,80000,80000,24000,105000,80000,48400,70000,130440,59000,28000,108000,28000,60000,43300,778125,674375,110000,110000,25000,60000,54400,70000,40000,62000,108000,170000,115000,45000,75000,75000,45000,52000,25000,88000,95000,62000,125000,80000,45000,50000,52400,57700,60000,570625,35000,24500,115000,37200,325000,580000,27000,112200,33000,42000,90000,120000,110000,48600,55000,95000,165000,389100,569400,135000,100000,76500,110900,110800],\"y0\":\" \",\"yaxis\":\"y\",\"type\":\"box\"},{\"alignmentgroup\":\"True\",\"hovertemplate\":\"<b>%{hovertext}</b><br><br>model_year=2019<br>price=%{y}<extra></extra>\",\"hovertext\":[2.0,6.0,14.0,17.0,23.0,26.0,30.0,32.0,33.0,62.0,67.0,71.0,75.0,82.0,85.0,92.0,101.0,116.0,124.0,127.0,134.0,138.0,144.0,161.0,167.0,175.0,179.0,181.0,189.0,199.0,204.0,213.0,219.0,223.0,224.0,227.0,231.0,236.0,243.0,249.0,264.0,274.0,288.0,291.0,297.0,301.0,307.0,312.0,336.0,345.0,348.0,350.0,356.0,368.0,384.0,386.0,396.0,398.0,404.0,420.0,425.0,431.0,436.0,451.0,468.0,474.0,501.0,506.0,509.0,511.0,518.0,526.0,531.0,538.0,542.0,564.0,566.0,587.0,594.0,605.0,608.0,619.0,621.0,627.0,632.0,654.0,681.0,686.0,705.0,723.0,732.0,736.0,738.0,741.0,751.0,775.0,780.0,785.0,810.0,817.0,822.0,830.0,846.0,854.0,873.0,893.0,896.0,908.0,915.0,924.0,926.0,930.0,934.0,938.0,939.0,945.0,952.0,962.0,963.0,982.0,990.0,1000.0,1001.0,1012.0,1016.0,1022.0,1043.0,1046.0,1063.0,1066.0,1069.0,1070.0,1075.0,1083.0,1087.0,1088.0,1092.0,1102.0,1112.0,1122.0,1132.0,1141.0,1156.0,1158.0,1165.0,1168.0,1180.0,1183.0,1190.0,1194.0,1199.0,1203.0,1209.0,1217.0,1218.0,1221.0,1224.0,1227.0,1238.0,1242.0,1249.0,1253.0,1257.0,1258.0,1259.0,1262.0,1268.0,1284.0,1306.0,1309.0,1314.0,1320.0,1332.0,1337.0,1338.0,1348.0,1358.0,1362.0,1384.0,1402.0,1406.0,1411.0,1417.0,1428.0,1432.0,1435.0,1454.0,1458.0,1467.0,1469.0,1470.0,1480.0,1488.0,1492.0,1518.0,1525.0,1535.0,1555.0,1564.0,1570.0,1576.0,1578.0,1579.0,1614.0,1617.0,1620.0,1631.0,1649.0,1651.0,1662.0,1665.0,1666.0,1669.0,1672.0,1675.0,1685.0,1689.0,1700.0,1711.0,1717.0,1718.0,1729.0,1732.0,1737.0,1744.0,1749.0,1761.0,1775.0,1793.0,1795.0,1807.0,1823.0,1826.0,1830.0,1835.0,1839.0,1843.0,1844.0,1847.0,1854.0,1871.0,1889.0,1890.0,1897.0,1900.0,1903.0,1928.0,1937.0,1948.0,1950.0,1973.0,1974.0,1994.0,1995.0,2006.0,2014.0,2017.0,2020.0,2024.0,2027.0,2033.0,2037.0,2046.0,2048.0,2072.0,2084.0,2085.0,2094.0,2097.0,2114.0,2124.0,2135.0,2143.0,2149.0,2157.0,2185.0,2187.0,2206.0,2210.0,2230.0,2242.0,2244.0,2245.0,2249.0,2252.0,2261.0,2268.0,2283.0,2296.0,2300.0,2306.0,2320.0,2331.0,2338.0,2341.0,2342.0,2359.0,2381.0,2386.0,2391.0,2392.0,2397.0,2404.0,2411.0,2412.0,2418.0,2426.0,2444.0,2471.0,2490.0,2492.0,2493.0,2510.0,2514.0,2520.0,2549.0,2556.0,2570.0,2575.0,2576.0,2589.0,2599.0,2615.0,2622.0,2627.0,2630.0,2645.0,2647.0,2676.0,2678.0,2686.0,2695.0,2705.0,2747.0,2773.0,2799.0,2802.0,2809.0,2810.0,2823.0,2838.0,2840.0,2858.0,2863.0,2878.0,2890.0,2905.0,2915.0,2916.0,2920.0,2921.0,2934.0,2953.0,2958.0,2993.0,3002.0,3008.0,3015.0,3032.0,3052.0,3062.0,3080.0,3082.0,3087.0,3108.0,3114.0,3121.0,3128.0,3135.0,3146.0,3148.0,3153.0,3160.0,3163.0,3166.0,3172.0,3185.0,3189.0,3198.0,3202.0,3206.0,3218.0,3228.0,3235.0,3247.0,3255.0,3258.0,3277.0,3294.0,3295.0,3299.0,3305.0,3316.0,3340.0,3349.0,3352.0,3354.0,3369.0,3378.0,3380.0,3392.0,3394.0,3424.0,3433.0,3441.0,3449.0,3456.0,3465.0,3468.0,3479.0,3485.0,3493.0,3503.0,3519.0,3522.0,3523.0,3538.0,3541.0,3550.0,3565.0,3567.0,3575.0,3586.0,3587.0,3602.0,3606.0,3615.0,3630.0,3650.0,3660.0,3668.0,3673.0,3678.0,3683.0,3684.0,3690.0,3692.0,3702.0,3748.0,3773.0,3775.0,3780.0,3785.0,3786.0,3796.0,3800.0,3816.0,3855.0,3856.0,3869.0,3884.0,3885.0,3904.0,3909.0,3912.0,3922.0,3924.0,3937.0,3944.0,3946.0,3947.0,3956.0,3961.0,3964.0,3980.0,3993.0,3994.0,3998.0,4020.0,4038.0,4049.0,4053.0,4057.0,4058.0,4061.0,4065.0,4077.0,4084.0,4095.0,4110.0,4112.0,4125.0,4130.0,4135.0,4136.0,4137.0,4138.0,4165.0,4169.0,4192.0,4196.0,4199.0,4201.0,4206.0,4218.0,4230.0,4243.0,4245.0,4250.0,4254.0,4279.0,4281.0,4284.0,4321.0,4326.0,4332.0,4357.0,4359.0,4364.0,4371.0,4386.0,4388.0,4390.0,4407.0,4416.0,4433.0,4439.0,4447.0,4457.0,4478.0,4487.0,4490.0,4492.0,4506.0,4521.0,4531.0,4534.0,4537.0,4568.0,4572.0,4573.0,4595.0,4629.0,4637.0,4645.0,4648.0,4668.0,4669.0,4675.0,4676.0,4677.0,4682.0,4687.0,4695.0,4697.0,4703.0,4726.0,4733.0,4739.0,4750.0,4756.0,4760.0,4763.0,4781.0,4782.0,4785.0,4793.0,4809.0,4812.0,4822.0,4826.0,4833.0,4835.0,4840.0,4844.0,4866.0,4871.0,4898.0,4905.0,4920.0,4953.0,4956.0,4966.0,4971.0,4973.0,4989.0,5005.0,5011.0,5027.0,5071.0,5072.0,5079.0,5091.0,5098.0,5111.0,5126.0,5146.0,5155.0,5160.0,5161.0,5183.0,5191.0,5202.0,5204.0,5213.0,5215.0,5219.0,5230.0,5259.0,5268.0,5272.0,5288.0,5292.0,5346.0,5395.0,5400.0,5401.0,5417.0,5418.0,5421.0,5439.0,5442.0,5446.0,5451.0,5452.0,5455.0,5468.0,5473.0,5491.0,5511.0,5526.0,5531.0,5554.0,5559.0,5562.0,5565.0,5569.0,5579.0,5582.0,5587.0,5619.0,5622.0,5637.0,5642.0,5664.0,5665.0,5669.0,5673.0,5677.0,5694.0,5717.0,5718.0,5720.0,5723.0,5728.0,5730.0,5732.0,5736.0,5744.0,5746.0,5769.0,5775.0,5784.0,5804.0,5806.0,5827.0,5841.0,5852.0,5861.0,5863.0,5868.0,5869.0,5882.0,5888.0],\"legendgroup\":\"2019\",\"marker\":{\"color\":\"#00cc96\"},\"name\":\"2019\",\"notched\":false,\"offsetgroup\":\"2019\",\"orientation\":\"v\",\"showlegend\":true,\"x0\":\" \",\"xaxis\":\"x\",\"y\":[85000,185000,171187,650000,120000,36000,180000,57000,277500,48500,95000,58000,92000,167600,141300,105600,83999,81800,190000,80000,260000,190000,54000,93000,80000,124900,80000,47000,259373,70000,90000,45000,100000,186750,100000,60000,72000,52600,30000,245000,168000,150000,110000,51300,193193,295687,59200,41347,70000,88800,130000,70000,165000,60000,118800,67000,150437,175000,100000,175000,175000,190000,208800,149000,78800,129000,51400,760000,186750,200000,41000,78000,195000,295000,86000,93500,85000,82000,250000,58700,60000,110000,48000,92000,50000,165000,180000,100000,175000,78000,181562,200000,95000,139000,150000,78000,165000,123750,144000,52300,155000,130000,233437,80100,129999,139000,85000,35000,111500,92000,105000,70000,185000,157000,60000,60000,53000,195000,175300,155000,57600,90100,75000,150000,180000,119312,55900,180000,90000,210800,45000,56000,150000,70000,150000,36000,110000,45000,100000,114125,150000,62000,137800,62000,44550,99000,520000,51000,255000,98000,85000,90000,190000,600000,75000,120500,136000,100000,200000,95000,140000,181562,500000,90000,178000,130000,166000,45000,98000,75000,72500,295000,120000,50000,310000,25000,175000,125000,162000,56160,160000,57000,200000,440000,101675,162000,62000,177982,178600,78000,165000,60000,77200,87700,133000,60000,74700,82200,55000,105000,155000,197125,80000,185000,207500,86600,143840,138000,155000,160000,60000,155000,55000,60000,197125,60000,172000,130000,150000,143000,50000,67700,170000,70000,73000,120000,290000,150000,180000,197900,70000,186750,48000,110000,68000,145000,186750,104999,110000,125000,1299000,140000,175000,150500,90000,41000,120400,170000,92000,185000,100000,83800,269000,155000,110000,88900,855000,73000,133300,111300,60000,88000,900000,42000,76000,50000,35000,25000,185000,68800,105000,105100,140000,56000,45000,575000,155000,181562,220000,210000,195000,85000,112500,195000,93500,59000,86600,63000,145000,53214,87600,83300,256000,55000,142000,49000,170000,299000,80000,85000,180000,165000,142000,107400,1050000,109999,181562,150000,269750,175000,56500,75000,45000,181562,264000,111100,55000,210000,65000,59000,38000,79999,76000,130000,95000,182000,150000,1490000,175000,330000,130000,78000,93800,60000,186750,44000,68000,100000,165000,93375,180000,130000,165000,85000,47000,163700,23500,59000,170000,90000,191937,881875,181562,195500,65000,165000,118000,168000,78500,270000,155100,132000,155000,64000,74625,155000,129687,48000,80000,75000,1300000,124500,60000,600000,274700,53000,46100,108000,210000,160000,138750,67000,70000,227000,91300,165000,199999,75000,100000,57150,290000,95000,311250,82000,140000,125000,190000,45000,181562,420000,72800,135000,136500,80000,53000,64000,150000,56000,45600,190000,124500,96500,80000,94000,155000,168000,225000,65000,181562,60000,185000,137000,435262,60000,150000,105000,81000,145000,105000,82450,100700,150000,128000,78000,32000,60000,90000,48000,87000,91000,160000,190000,205000,160000,65000,60000,28500,39500,90000,130500,133500,175000,74700,53000,145000,190000,399000,46350,82000,145000,47000,105000,75000,133800,168000,210500,60000,63000,68000,82400,145000,186750,115000,275000,90000,78700,186750,95000,175000,85000,140000,160000,155625,190000,60000,1375000,55000,60000,50250,54000,197200,140900,210000,140000,114125,280000,170000,40000,74700,210000,150000,75000,46000,114000,130000,52000,90000,175000,175000,102086,78000,160000,95000,110000,50000,85000,39000,83000,130000,300000,90000,63500,41000,128000,185000,186750,63000,48000,190000,90000,145250,67000,150000,58700,135000,100000,60000,65000,136000,68000,260000,170000,82000,50000,43500,176375,180000,85000,120000,124350,110000,190000,98800,150437,55000,90000,55000,95800,138500,125000,137000,86565,175000,163680,140000,85000,270000,95000,73000,135000,85000,95000,64700,110000,95000,53000,85000,85000,54000,163600,96000,110000,95000,250000,88187,310000,85000,170000,83000,185000,49400,44400,120000,83000,184100,155000,90200,50000,60000,65000,210000,245600,137000,265000,81000,110000,195000,115000,95000,155000,160000,74600,160000,170000,145000,165000,84490,163000,150000,197125,145600,124500,300000,64000,176375,152000,55000,105000,140000,125000,700700,274700,93000,140000,50000,165000,75000,190000,54000,168400,53500,120000,52500,180000,95600,130000,60000,100000,132500,88000,150600,184000,210000,56000,95000,170000,79200,80000,195000,128000,185000,164000,75550,170000],\"y0\":\" \",\"yaxis\":\"y\",\"type\":\"box\"},{\"alignmentgroup\":\"True\",\"hovertemplate\":\"<b>%{hovertext}</b><br><br>model_year=2001<br>price=%{y}<extra></extra>\",\"hovertext\":[9.0,280.0,855.0,2241.0,2279.0,3832.0,4827.0,5115.0,5478.0],\"legendgroup\":\"2001\",\"marker\":{\"color\":\"#ab63fa\"},\"name\":\"2001\",\"notched\":false,\"offsetgroup\":\"2001\",\"orientation\":\"v\",\"showlegend\":true,\"x0\":\" \",\"xaxis\":\"x\",\"y\":[33100,180000,20000,18500,10000,25000,100000,130000,15000],\"y0\":\" \",\"yaxis\":\"y\",\"type\":\"box\"},{\"alignmentgroup\":\"True\",\"hovertemplate\":\"<b>%{hovertext}</b><br><br>model_year=2012<br>price=%{y}<extra></extra>\",\"hovertext\":[12.0,13.0,36.0,51.0,120.0,126.0,155.0,165.0,169.0,174.0,180.0,182.0,184.0,186.0,188.0,218.0,302.0,331.0,352.0,424.0,439.0,443.0,493.0,500.0,532.0,541.0,545.0,568.0,576.0,591.0,603.0,607.0,613.0,650.0,672.0,680.0,709.0,772.0,795.0,812.0,911.0,921.0,937.0,965.0,994.0,1004.0,1027.0,1029.0,1036.0,1037.0,1061.0,1113.0,1116.0,1139.0,1155.0,1167.0,1220.0,1254.0,1269.0,1295.0,1307.0,1313.0,1316.0,1318.0,1319.0,1346.0,1350.0,1377.0,1390.0,1429.0,1443.0,1444.0,1478.0,1489.0,1528.0,1599.0,1618.0,1642.0,1688.0,1723.0,1740.0,1805.0,1810.0,1817.0,1837.0,1846.0,1859.0,1860.0,1861.0,1887.0,1960.0,2007.0,2015.0,2032.0,2054.0,2061.0,2090.0,2093.0,2111.0,2202.0,2259.0,2286.0,2311.0,2402.0,2430.0,2431.0,2455.0,2464.0,2476.0,2503.0,2506.0,2507.0,2663.0,2665.0,2696.0,2707.0,2718.0,2761.0,2780.0,2801.0,2807.0,2814.0,2818.0,2865.0,2877.0,2960.0,2965.0,2989.0,2997.0,3081.0,3102.0,3122.0,3141.0,3176.0,3178.0,3182.0,3183.0,3201.0,3273.0,3302.0,3342.0,3345.0,3389.0,3425.0,3437.0,3480.0,3505.0,3536.0,3549.0,3560.0,3564.0,3585.0,3616.0,3647.0,3716.0,3726.0,3730.0,3731.0,3769.0,3795.0,3812.0,3813.0,3886.0,3896.0,3931.0,3932.0,3939.0,3997.0,4015.0,4024.0,4027.0,4034.0,4036.0,4085.0,4123.0,4131.0,4174.0,4197.0,4293.0,4309.0,4347.0,4373.0,4392.0,4394.0,4406.0,4429.0,4431.0,4432.0,4444.0,4486.0,4498.0,4527.0,4553.0,4571.0,4575.0,4582.0,4586.0,4628.0,4649.0,4653.0,4663.0,4671.0,4710.0,4714.0,4735.0,4744.0,4747.0,4757.0,4790.0,4816.0,4832.0,4848.0,4852.0,4922.0,4928.0,4931.0,4947.0,5018.0,5032.0,5073.0,5083.0,5122.0,5138.0,5236.0,5241.0,5242.0,5304.0,5374.0,5410.0,5412.0,5440.0,5488.0,5489.0,5527.0,5609.0,5640.0,5650.0,5658.0,5686.0,5757.0,5785.0,5794.0,5802.0,5808.0,5836.0,5870.0,5879.0],\"legendgroup\":\"2012\",\"marker\":{\"color\":\"#FFA15A\"},\"name\":\"2012\",\"notched\":false,\"offsetgroup\":\"2012\",\"orientation\":\"v\",\"showlegend\":true,\"x0\":\" \",\"xaxis\":\"x\",\"y\":[0,25000,25000,19000,28000,33000,376300,24000,37350,85400,65000,23000,39000,96900,80000,22500,23800,32000,62000,32000,18800,25000,73000,30000,25000,37575,90000,30000,24100,25000,19542,22000,45000,86000,72378,48300,22000,20000,80000,22000,26000,22125,20000,60000,52100,74000,20000,38000,34000,121771,20000,25000,42000,86200,25800,45000,28000,200000,0,20400,96100,34600,40000,31080,85000,55000,30000,25000,30000,45000,27000,30000,0,32000,150000,17400,80000,38000,60000,30000,75000,20000,14000,90000,12000,55000,20000,27500,75000,21000,75000,105000,82000,30000,26000,135000,85000,24100,58000,750000,26751,2000,50000,70000,96400,25000,70100,37000,130000,28000,41300,26000,75000,65000,33000,23400,49000,18600,78400,55000,85000,20000,35000,480000,75000,70550,17200,24500,98300,21000,35500,38500,20000,82000,20000,34700,43000,25000,20000,89500,80000,69000,75000,80000,32000,200000,138900,85000,56900,71299,45000,14500,68100,55000,24000,31000,18000,23000,33000,90000,25000,22000,33000,65000,81300,26000,35000,60000,65000,22000,40000,300000,25400,35000,64200,26000,7500,85000,51000,30000,85000,97700,18000,50000,45000,79000,50000,60000,29500,16000,32900,45000,40000,42500,22200,26000,28000,45000,40000,106667,34000,56600,63400,50000,63400,57000,32500,32000,190000,63375,18500,30000,20000,30000,42000,80000,40000,22000,21000,415000,62900,35000,20000,26000,28000,25000,27000,26000,21000,27500,22000,18000,38000,22000,35000,72600,20000,212100,20100,51000,119000,60000,800000,40580,70000,0,39000],\"y0\":\" \",\"yaxis\":\"y\",\"type\":\"box\"},{\"alignmentgroup\":\"True\",\"hovertemplate\":\"<b>%{hovertext}</b><br><br>model_year=2018<br>price=%{y}<extra></extra>\",\"hovertext\":[15.0,20.0,31.0,37.0,48.0,50.0,54.0,55.0,59.0,63.0,73.0,78.0,90.0,105.0,118.0,119.0,121.0,122.0,125.0,129.0,135.0,149.0,154.0,176.0,195.0,202.0,205.0,208.0,225.0,226.0,229.0,230.0,233.0,234.0,245.0,253.0,259.0,263.0,268.0,276.0,281.0,292.0,303.0,305.0,308.0,314.0,318.0,320.0,321.0,323.0,328.0,329.0,332.0,341.0,346.0,359.0,401.0,403.0,413.0,415.0,426.0,440.0,447.0,449.0,467.0,472.0,483.0,484.0,489.0,491.0,497.0,503.0,505.0,530.0,543.0,546.0,552.0,559.0,570.0,571.0,574.0,580.0,592.0,595.0,598.0,609.0,611.0,615.0,620.0,630.0,635.0,637.0,643.0,651.0,671.0,676.0,677.0,678.0,682.0,690.0,692.0,696.0,698.0,706.0,712.0,750.0,779.0,789.0,826.0,834.0,836.0,837.0,840.0,843.0,848.0,852.0,869.0,871.0,874.0,879.0,880.0,882.0,892.0,901.0,904.0,929.0,933.0,935.0,949.0,957.0,958.0,975.0,987.0,993.0,995.0,1005.0,1015.0,1021.0,1041.0,1042.0,1050.0,1056.0,1065.0,1071.0,1093.0,1094.0,1097.0,1114.0,1123.0,1126.0,1131.0,1140.0,1146.0,1147.0,1150.0,1153.0,1159.0,1175.0,1185.0,1196.0,1204.0,1208.0,1210.0,1216.0,1229.0,1230.0,1241.0,1248.0,1256.0,1272.0,1274.0,1277.0,1281.0,1286.0,1312.0,1324.0,1328.0,1339.0,1344.0,1347.0,1351.0,1360.0,1367.0,1370.0,1372.0,1378.0,1381.0,1388.0,1395.0,1400.0,1409.0,1418.0,1422.0,1427.0,1439.0,1449.0,1459.0,1460.0,1491.0,1494.0,1499.0,1504.0,1506.0,1514.0,1533.0,1537.0,1541.0,1544.0,1552.0,1558.0,1567.0,1577.0,1589.0,1595.0,1623.0,1645.0,1658.0,1660.0,1674.0,1676.0,1677.0,1678.0,1683.0,1687.0,1698.0,1712.0,1734.0,1735.0,1736.0,1748.0,1751.0,1753.0,1755.0,1762.0,1763.0,1770.0,1779.0,1783.0,1792.0,1803.0,1818.0,1822.0,1825.0,1833.0,1838.0,1840.0,1849.0,1850.0,1862.0,1863.0,1868.0,1874.0,1884.0,1894.0,1895.0,1905.0,1908.0,1923.0,1938.0,1940.0,1951.0,1958.0,1965.0,1971.0,1975.0,1982.0,1993.0,2009.0,2043.0,2045.0,2055.0,2056.0,2063.0,2064.0,2086.0,2088.0,2091.0,2092.0,2104.0,2112.0,2125.0,2131.0,2137.0,2138.0,2146.0,2152.0,2153.0,2154.0,2159.0,2164.0,2168.0,2171.0,2177.0,2182.0,2193.0,2195.0,2197.0,2201.0,2203.0,2207.0,2208.0,2216.0,2217.0,2220.0,2231.0,2247.0,2262.0,2271.0,2298.0,2305.0,2309.0,2319.0,2324.0,2332.0,2334.0,2354.0,2360.0,2362.0,2365.0,2373.0,2378.0,2384.0,2419.0,2467.0,2473.0,2477.0,2483.0,2484.0,2488.0,2491.0,2495.0,2508.0,2509.0,2517.0,2536.0,2543.0,2552.0,2561.0,2571.0,2574.0,2578.0,2581.0,2582.0,2588.0,2595.0,2606.0,2607.0,2609.0,2616.0,2624.0,2625.0,2641.0,2651.0,2654.0,2657.0,2659.0,2670.0,2671.0,2673.0,2675.0,2688.0,2690.0,2702.0,2703.0,2717.0,2719.0,2727.0,2738.0,2745.0,2754.0,2758.0,2759.0,2763.0,2764.0,2767.0,2769.0,2772.0,2784.0,2811.0,2820.0,2824.0,2828.0,2869.0,2881.0,2885.0,2886.0,2889.0,2892.0,2895.0,2906.0,2907.0,2909.0,2912.0,2919.0,2923.0,2927.0,2935.0,2945.0,2946.0,2948.0,2949.0,2956.0,2970.0,2986.0,2995.0,2999.0,3009.0,3028.0,3037.0,3039.0,3048.0,3049.0,3060.0,3071.0,3076.0,3100.0,3125.0,3134.0,3138.0,3139.0,3142.0,3144.0,3150.0,3177.0,3187.0,3191.0,3197.0,3204.0,3212.0,3217.0,3251.0,3253.0,3260.0,3265.0,3276.0,3303.0,3304.0,3309.0,3320.0,3330.0,3334.0,3339.0,3344.0,3370.0,3372.0,3374.0,3385.0,3397.0,3400.0,3411.0,3412.0,3419.0,3436.0,3470.0,3471.0,3477.0,3478.0,3486.0,3495.0,3499.0,3501.0,3512.0,3521.0,3524.0,3525.0,3535.0,3537.0,3539.0,3557.0,3569.0,3578.0,3582.0,3584.0,3601.0,3610.0,3622.0,3636.0,3637.0,3653.0,3655.0,3657.0,3659.0,3662.0,3687.0,3701.0,3707.0,3715.0,3718.0,3729.0,3732.0,3733.0,3734.0,3740.0,3743.0,3744.0,3749.0,3765.0,3770.0,3774.0,3777.0,3781.0,3791.0,3805.0,3843.0,3848.0,3850.0,3857.0,3892.0,3895.0,3899.0,3907.0,3917.0,3918.0,3925.0,3942.0,3959.0,3963.0,3970.0,3990.0,3992.0,4000.0,4004.0,4011.0,4018.0,4023.0,4029.0,4030.0,4031.0,4033.0,4037.0,4041.0,4052.0,4054.0,4055.0,4066.0,4068.0,4073.0,4080.0,4087.0,4088.0,4099.0,4104.0,4111.0,4142.0,4145.0,4149.0,4151.0,4160.0,4166.0,4175.0,4176.0,4182.0,4185.0,4186.0,4193.0,4194.0,4211.0,4216.0,4223.0,4226.0,4227.0,4235.0,4237.0,4238.0,4239.0,4253.0,4255.0,4261.0,4273.0,4280.0,4282.0,4303.0,4305.0,4314.0,4325.0,4327.0,4334.0,4335.0,4336.0,4338.0,4344.0,4345.0,4350.0,4352.0,4366.0,4379.0,4380.0,4389.0,4391.0,4396.0,4398.0,4408.0,4409.0,4422.0,4451.0,4456.0,4468.0,4479.0,4484.0,4491.0,4500.0,4504.0,4517.0,4524.0,4530.0,4533.0,4544.0,4547.0,4565.0,4567.0,4579.0,4580.0,4583.0,4585.0,4589.0,4590.0,4597.0,4599.0,4604.0,4605.0,4608.0,4609.0,4617.0,4620.0,4623.0,4626.0,4634.0,4635.0,4636.0,4641.0,4643.0,4644.0,4659.0,4662.0,4664.0,4666.0,4672.0,4685.0,4698.0,4704.0,4720.0,4731.0,4737.0,4740.0,4741.0,4754.0,4759.0,4766.0,4767.0,4769.0,4789.0,4791.0,4800.0,4814.0,4817.0,4821.0,4830.0,4836.0,4838.0,4839.0,4841.0,4857.0,4861.0,4864.0,4867.0,4874.0,4876.0,4878.0,4893.0,4908.0,4911.0,4919.0,4925.0,4930.0,4932.0,4935.0,4938.0,4942.0,4963.0,4977.0,5006.0,5007.0,5009.0,5017.0,5019.0,5033.0,5035.0,5046.0,5047.0,5061.0,5063.0,5066.0,5069.0,5082.0,5085.0,5088.0,5106.0,5108.0,5128.0,5130.0,5131.0,5135.0,5136.0,5152.0,5153.0,5162.0,5178.0,5181.0,5189.0,5190.0,5193.0,5195.0,5205.0,5217.0,5226.0,5240.0,5254.0,5255.0,5278.0,5285.0,5293.0,5294.0,5295.0,5301.0,5307.0,5314.0,5319.0,5320.0,5326.0,5327.0,5342.0,5344.0,5354.0,5360.0,5362.0,5366.0,5382.0,5384.0,5397.0,5398.0,5403.0,5414.0,5423.0,5431.0,5434.0,5437.0,5438.0,5444.0,5459.0,5461.0,5464.0,5472.0,5485.0,5504.0,5506.0,5509.0,5510.0,5513.0,5514.0,5519.0,5520.0,5521.0,5547.0,5550.0,5564.0,5570.0,5571.0,5576.0,5589.0,5592.0,5596.0,5598.0,5599.0,5600.0,5602.0,5612.0,5617.0,5618.0,5623.0,5645.0,5646.0,5647.0,5656.0,5659.0,5660.0,5666.0,5676.0,5682.0,5699.0,5707.0,5708.0,5710.0,5712.0,5734.0,5737.0,5747.0,5759.0,5760.0,5761.0,5768.0,5778.0,5787.0,5791.0,5799.0,5810.0,5821.0,5828.0,5830.0,5833.0,5839.0,5846.0,5847.0,5849.0,5855.0,5860.0,5867.0,5889.0],\"legendgroup\":\"2018\",\"marker\":{\"color\":\"#19d3f3\"},\"name\":\"2018\",\"notched\":false,\"offsetgroup\":\"2018\",\"orientation\":\"v\",\"showlegend\":true,\"x0\":\" \",\"xaxis\":\"x\",\"y\":[66000,130000,130000,130000,88000,155000,128000,44000,82000,90000,696824,56000,32000,53000,43000,155625,79999,120000,135000,45000,150000,110000,78000,210000,170000,75000,199000,76500,80000,60000,127000,128000,120800,48000,112000,30000,160000,75500,55600,516600,58000,75000,165000,830000,145000,53000,142000,78999,65000,70000,85000,180000,472800,180000,90000,70000,78600,40000,60000,150000,60000,290000,58000,155000,155000,80000,190000,175000,150000,140000,45000,145250,150000,130000,196500,135000,70000,290000,36000,200000,98500,170000,96500,210000,22500,124000,85000,65000,96750,55000,135000,104000,140000,150000,41000,150000,139999,466875,149000,69650,91662,100000,77500,69000,470000,79999,62200,145100,200000,166000,130000,699000,172000,155000,160000,85000,515000,94999,148700,1261000,45000,73500,250430,35000,51864,70000,135000,95000,170000,70000,85000,123000,95000,60000,65000,48000,160000,85000,50000,52000,70000,200000,120000,75000,42000,425000,138000,72000,176375,64553,135000,160000,90000,85000,130000,60000,88000,140800,170000,135000,107900,149000,150000,63750,62000,55000,64800,140000,58416,88187,140000,40000,52000,75400,70000,75800,130000,65999,97500,41900,126000,149900,67851,65000,82750,110000,50000,136300,140000,65000,75000,176000,87000,89999,1025000,450000,87000,80000,91000,134500,85000,75000,75000,55000,135000,36000,190550,150000,272100,84000,185000,52000,160000,171700,45000,752187,134000,150000,85000,76999,105000,116000,147100,135000,86000,95000,1450000,125000,205000,117000,170000,150000,53000,61200,65000,22500,70900,109059,170000,115000,125000,560000,75000,830000,136000,74000,47040,433000,141400,86500,185000,76000,43000,105000,112546,73300,70000,220000,57000,200000,185000,42000,75900,47175,103522,1070500,35000,726250,72037,190000,50000,526300,148000,55000,64500,35000,70000,119200,85000,75000,83500,71000,146600,130000,133500,76600,112000,142800,96000,160000,145000,80000,120000,40000,52000,85000,100000,90000,80000,160000,42000,165000,109000,135000,466875,60000,190000,167000,48000,1141250,88187,174500,85000,75000,135000,78000,85000,74000,45000,45000,160000,134600,98102,144200,170000,534000,120000,135000,130000,70000,200000,105000,197000,62800,115800,40000,120000,120000,135000,90000,125000,140000,101000,150000,120000,535000,125000,145000,77000,140000,65000,77400,55000,70000,125000,139600,75800,125000,70000,191500,73322,75400,165000,77812,133500,129600,153100,120000,38000,120000,153000,57000,79000,110000,110000,65000,79400,45000,33000,43000,86000,115600,48000,37500,60700,137000,136424,850750,81000,85000,47414,880837,75000,140000,65000,56000,119000,180000,114080,78000,260000,53950,580000,165000,72500,130000,108000,135000,41500,78000,60000,142000,82000,160000,80100,170000,120200,70000,175000,75000,52500,40000,130500,70000,64200,150000,55400,140000,64100,78500,32000,515000,207100,43000,145000,75500,115000,165000,95000,145250,23500,42000,73100,109000,110200,45000,780000,170000,70986,150100,58000,58500,70000,75000,170000,32000,135000,155000,100000,466875,75000,130000,145000,160000,180000,45000,58800,115000,185000,45000,78000,90000,77900,27000,49000,39000,115000,50000,112000,215000,145000,77175,97000,58000,59000,47000,138000,100000,160000,210000,115000,470000,520000,59000,108937,60000,120000,38000,90000,125000,95000,52600,170000,42000,97950,45000,150000,141500,60000,148000,115000,70000,80000,142000,40000,170000,115000,150000,150000,45131,42000,165000,259375,100000,135000,85000,130000,133700,70000,72000,65000,118000,130000,140000,84000,136900,74000,30000,76000,33000,85000,170000,90000,73000,75000,34000,420000,175000,75000,140000,150000,150000,74000,46000,170000,40200,31125,90000,95000,175000,59000,70000,28000,127000,70000,150000,230000,72000,55900,25000,195000,60000,131400,165000,180000,90000,115000,93000,500000,42248,71400,124000,800000,170000,700000,53000,74500,47000,78000,150000,95000,80000,41500,55000,93500,155000,220000,82000,145000,72500,228800,76775,76000,145000,45000,130000,105000,148000,450000,126600,70000,95000,56000,64999,128600,99000,125000,36500,140000,82000,175000,80000,95000,135000,64000,1500000,115000,41000,52000,91000,48000,117000,80000,92500,148000,72000,220000,48000,73800,145000,85000,55250,75600,145000,72000,40000,81000,190000,100000,140000,80000,67000,95000,110000,45000,57000,105000,48750,130500,205000,50000,125000,125000,30000,85000,161100,160000,85000,120000,60500,156000,155400,69600,1000000,60000,160000,80000,270000,78000,130000,142500,135000,199000,166000,148000,207500,280000,155000,96000,120000,65000,500000,190000,160000,155800,66000,35000,56000,170000,138200,75100,80000,85000,165000,150000,150000,51000,145000,125000,726250,100000,80000,154900,166000,132500,135000,88187,165000,80000,175000,82600,120000,80000,165000,75000,38000,85000,176375,120000,45000,35000,195000,157000,175000,221000,80000,110000,530000,66000,58900,140000,100000,66000,190100,140000,55000,52000,75000,150000,96000,68500,42200,34000,58000,155000,125000,40000,150000,72100,150000,74000,60000,55000,149000,85000,142400,94000,200000,30000,160700,40000,165000,114400,150000,74000,85000,104300,155625,120000,48000,66795,58000,85000,170000,110000,62000,175000,60000,90200,137000,72000,55000,68000,120000,150000,52000,75000,63000,88000,139500,22500,136000,98000,23500,75000,63000,75000,135000,68500,135000,165000,135000,50000,85000,55000,49999,120000],\"y0\":\" \",\"yaxis\":\"y\",\"type\":\"box\"},{\"alignmentgroup\":\"True\",\"hovertemplate\":\"<b>%{hovertext}</b><br><br>model_year=2016<br>price=%{y}<extra></extra>\",\"hovertext\":[16.0,22.0,42.0,46.0,64.0,81.0,104.0,107.0,115.0,123.0,140.0,153.0,156.0,160.0,178.0,183.0,192.0,196.0,206.0,207.0,209.0,222.0,238.0,239.0,242.0,248.0,251.0,265.0,279.0,287.0,289.0,298.0,304.0,311.0,313.0,319.0,327.0,334.0,339.0,344.0,362.0,378.0,379.0,380.0,390.0,391.0,397.0,405.0,408.0,410.0,414.0,418.0,430.0,437.0,441.0,444.0,455.0,479.0,492.0,495.0,496.0,512.0,514.0,516.0,520.0,535.0,536.0,547.0,553.0,561.0,583.0,599.0,600.0,604.0,625.0,626.0,628.0,636.0,639.0,642.0,652.0,658.0,664.0,666.0,675.0,695.0,704.0,708.0,715.0,718.0,719.0,722.0,734.0,737.0,739.0,752.0,760.0,764.0,765.0,766.0,771.0,773.0,777.0,792.0,796.0,799.0,800.0,814.0,816.0,824.0,835.0,844.0,851.0,857.0,858.0,860.0,865.0,883.0,886.0,895.0,905.0,909.0,914.0,919.0,942.0,951.0,954.0,971.0,976.0,989.0,996.0,999.0,1002.0,1011.0,1017.0,1020.0,1030.0,1060.0,1068.0,1072.0,1074.0,1081.0,1096.0,1106.0,1124.0,1125.0,1130.0,1134.0,1138.0,1154.0,1157.0,1163.0,1166.0,1169.0,1182.0,1191.0,1195.0,1213.0,1214.0,1222.0,1223.0,1228.0,1234.0,1239.0,1245.0,1252.0,1271.0,1273.0,1279.0,1290.0,1292.0,1296.0,1305.0,1310.0,1317.0,1322.0,1325.0,1327.0,1331.0,1335.0,1340.0,1354.0,1357.0,1359.0,1369.0,1376.0,1387.0,1405.0,1415.0,1441.0,1446.0,1448.0,1452.0,1468.0,1473.0,1475.0,1477.0,1485.0,1486.0,1490.0,1496.0,1498.0,1513.0,1530.0,1534.0,1539.0,1545.0,1549.0,1550.0,1553.0,1560.0,1565.0,1571.0,1581.0,1583.0,1584.0,1593.0,1609.0,1612.0,1616.0,1629.0,1633.0,1640.0,1643.0,1656.0,1682.0,1690.0,1693.0,1697.0,1701.0,1704.0,1708.0,1715.0,1733.0,1747.0,1756.0,1758.0,1764.0,1768.0,1784.0,1794.0,1797.0,1799.0,1815.0,1819.0,1829.0,1832.0,1853.0,1855.0,1864.0,1866.0,1869.0,1873.0,1878.0,1879.0,1891.0,1898.0,1904.0,1907.0,1922.0,1932.0,1933.0,1941.0,1947.0,1949.0,1954.0,1959.0,1961.0,1967.0,1976.0,1980.0,1983.0,1984.0,1985.0,2011.0,2019.0,2025.0,2026.0,2028.0,2031.0,2034.0,2036.0,2047.0,2058.0,2065.0,2066.0,2069.0,2077.0,2082.0,2083.0,2105.0,2118.0,2126.0,2147.0,2151.0,2156.0,2158.0,2173.0,2176.0,2179.0,2180.0,2186.0,2198.0,2200.0,2243.0,2256.0,2263.0,2266.0,2285.0,2295.0,2297.0,2310.0,2317.0,2328.0,2330.0,2333.0,2339.0,2340.0,2343.0,2344.0,2352.0,2361.0,2367.0,2370.0,2371.0,2387.0,2399.0,2400.0,2408.0,2417.0,2421.0,2425.0,2428.0,2438.0,2439.0,2440.0,2453.0,2456.0,2460.0,2472.0,2485.0,2498.0,2511.0,2522.0,2528.0,2532.0,2538.0,2548.0,2554.0,2566.0,2568.0,2572.0,2577.0,2583.0,2586.0,2593.0,2598.0,2612.0,2623.0,2631.0,2636.0,2637.0,2638.0,2643.0,2697.0,2701.0,2729.0,2733.0,2741.0,2751.0,2766.0,2771.0,2778.0,2804.0,2808.0,2815.0,2835.0,2836.0,2839.0,2847.0,2848.0,2850.0,2852.0,2859.0,2866.0,2867.0,2868.0,2874.0,2884.0,2891.0,2896.0,2899.0,2908.0,2931.0,2933.0,2937.0,2939.0,2947.0,2950.0,2951.0,2952.0,2967.0,2968.0,2972.0,2978.0,2979.0,2980.0,2981.0,2982.0,3001.0,3010.0,3011.0,3012.0,3013.0,3029.0,3030.0,3044.0,3054.0,3057.0,3058.0,3069.0,3070.0,3093.0,3104.0,3105.0,3110.0,3111.0,3113.0,3120.0,3127.0,3133.0,3145.0,3149.0,3155.0,3164.0,3165.0,3171.0,3173.0,3188.0,3190.0,3195.0,3199.0,3200.0,3203.0,3213.0,3215.0,3222.0,3224.0,3231.0,3232.0,3242.0,3248.0,3256.0,3263.0,3274.0,3282.0,3306.0,3308.0,3315.0,3322.0,3323.0,3341.0,3364.0,3386.0,3387.0,3390.0,3395.0,3399.0,3401.0,3407.0,3413.0,3417.0,3420.0,3423.0,3432.0,3438.0,3444.0,3448.0,3450.0,3453.0,3454.0,3457.0,3462.0,3487.0,3489.0,3508.0,3509.0,3510.0,3516.0,3517.0,3527.0,3532.0,3534.0,3542.0,3547.0,3552.0,3558.0,3563.0,3593.0,3595.0,3600.0,3609.0,3614.0,3620.0,3632.0,3634.0,3648.0,3663.0,3666.0,3674.0,3688.0,3725.0,3739.0,3746.0,3747.0,3753.0,3755.0,3756.0,3762.0,3764.0,3771.0,3789.0,3806.0,3811.0,3817.0,3822.0,3825.0,3851.0,3852.0,3867.0,3870.0,3873.0,3882.0,3889.0,3894.0,3905.0,3921.0,3933.0,3936.0,3950.0,3952.0,3953.0,3962.0,3974.0,3976.0,3977.0,3984.0,3988.0,3995.0,4005.0,4010.0,4013.0,4022.0,4025.0,4035.0,4040.0,4042.0,4043.0,4063.0,4069.0,4072.0,4074.0,4082.0,4091.0,4096.0,4109.0,4114.0,4115.0,4121.0,4143.0,4150.0,4153.0,4157.0,4158.0,4162.0,4180.0,4184.0,4198.0,4203.0,4212.0,4213.0,4215.0,4233.0,4246.0,4258.0,4266.0,4285.0,4286.0,4304.0,4311.0,4316.0,4318.0,4319.0,4343.0,4349.0,4358.0,4369.0,4377.0,4385.0,4387.0,4397.0,4400.0,4405.0,4414.0,4424.0,4446.0,4448.0,4454.0,4477.0,4483.0,4494.0,4509.0,4519.0,4543.0,4557.0,4558.0,4559.0,4566.0,4574.0,4592.0,4612.0,4614.0,4616.0,4618.0,4624.0,4638.0,4639.0,4646.0,4651.0,4665.0,4674.0,4688.0,4702.0,4707.0,4718.0,4725.0,4732.0,4746.0,4765.0,4774.0,4780.0,4788.0,4794.0,4818.0,4823.0,4828.0,4829.0,4837.0,4846.0,4850.0,4851.0,4853.0,4862.0,4881.0,4885.0,4887.0,4889.0,4891.0,4902.0,4918.0,4933.0,4936.0,4943.0,4960.0,4975.0,5003.0,5004.0,5008.0,5010.0,5029.0,5074.0,5077.0,5100.0,5102.0,5117.0,5124.0,5125.0,5139.0,5166.0,5174.0,5179.0,5186.0,5187.0,5200.0,5201.0,5203.0,5207.0,5238.0,5239.0,5245.0,5246.0,5249.0,5257.0,5258.0,5265.0,5271.0,5291.0,5297.0,5299.0,5302.0,5310.0,5312.0,5318.0,5322.0,5332.0,5333.0,5335.0,5336.0,5338.0,5341.0,5343.0,5349.0,5373.0,5376.0,5380.0,5391.0,5393.0,5409.0,5420.0,5422.0,5424.0,5427.0,5448.0,5456.0,5458.0,5460.0,5494.0,5497.0,5501.0,5502.0,5518.0,5522.0,5523.0,5534.0,5540.0,5544.0,5545.0,5574.0,5578.0,5583.0,5584.0,5605.0,5616.0,5620.0,5621.0,5636.0,5653.0,5655.0,5670.0,5675.0,5678.0,5679.0,5684.0,5703.0,5705.0,5711.0,5715.0,5731.0,5735.0,5740.0,5743.0,5748.0,5749.0,5750.0,5756.0,5758.0,5763.0,5780.0,5788.0,5795.0,5797.0,5816.0,5857.0,5878.0],\"legendgroup\":\"2016\",\"marker\":{\"color\":\"#FF6692\"},\"name\":\"2016\",\"notched\":false,\"offsetgroup\":\"2016\",\"orientation\":\"v\",\"showlegend\":true,\"x0\":\" \",\"xaxis\":\"x\",\"y\":[209500,39000,83000,120000,85000,48000,20800,60000,150000,51500,390000,50000,51000,79900,42000,110000,42000,40000,53000,140000,115000,64000,66000,110000,54100,218100,80000,84400,337187,94100,44400,90000,130000,60000,51000,38000,65000,100000,161300,35000,1900000,120000,52800,34000,59250,137999,42000,42600,38600,125000,56748,180000,95000,101900,150000,64804,100000,47000,70000,150000,60000,55000,57501,85000,155000,45000,125000,53900,90000,90000,56000,121700,40000,145000,118700,100500,310000,49999,52000,70000,28000,120000,51800,149100,48000,65000,118150,73500,31694,31000,123100,41250,60000,75000,150000,131700,90000,50000,141100,50175,125000,46992,52000,140000,32000,102500,35800,115000,120000,105000,145000,40000,52000,118000,125000,76000,337500,45000,25000,40000,22950,92700,128000,98000,57700,140000,59475,27400,93200,110000,55000,52000,55000,125000,51480,130000,52000,95999,117600,75000,36000,38400,47000,30000,70000,160000,315000,46000,90000,107000,42000,30999,149000,47500,45600,38000,30000,45000,85500,60000,140000,110000,70523,220000,60000,51100,75000,120000,70000,120000,94100,53800,35242,123500,110000,102000,75000,60000,57900,80000,55000,55000,52000,100000,90000,276000,95000,47000,52000,53950,55000,72000,85000,63000,45000,35000,165000,43500,120000,110000,35000,80000,92000,50000,53900,98000,26000,58000,85000,233437,52700,95000,110000,60000,115000,82050,37000,140000,60000,180000,85000,99750,130000,70000,25500,48000,38900,58000,400000,117000,35000,360000,50000,108000,58283,50000,265000,125000,65000,45000,65000,250000,61740,497000,56000,100000,119300,59000,110000,330000,35000,599999,120000,96000,48000,54000,117000,55000,55000,155000,53000,160000,135000,67000,140000,48000,46000,65000,145000,146000,72625,46500,130000,131918,69000,70000,67222,41000,135000,51000,100000,95000,39500,44700,50000,110000,56969,58036,295000,160000,42999,69999,75000,39000,85000,50000,135000,200000,55000,50000,105000,75000,108000,53000,45000,29000,140000,33000,325000,65000,56526,58500,105000,110000,130600,89280,70000,75000,478000,54800,115000,60000,33172,145000,44600,50000,135000,197200,185000,57100,171000,55000,53000,26000,120000,28000,170000,80000,20100,85700,95000,42000,111000,95000,64000,60000,26000,61500,80000,35999,65000,69999,82000,85000,56400,68000,48800,125000,105000,48000,46000,160000,145000,180000,120000,140000,575000,45000,48000,32000,65000,48000,140000,45000,46000,125000,50700,86250,125000,124375,120500,44200,58200,19425,65000,82000,71500,65000,60000,48500,38700,52000,150000,34000,57000,950000,35100,85000,128000,37500,40000,45000,56430,55000,70000,160000,120000,65000,56000,50000,47000,35000,43000,42000,129000,65000,85500,37462,68000,60000,130700,42000,75000,99500,58267,94275,102850,82100,65000,48000,50000,85000,110000,90000,50000,38500,115000,20700,42000,35000,65000,72000,47000,120000,80000,37000,35000,37000,44000,36000,135000,233437,86250,58727,40180,32000,50000,160000,85000,33433,58100,112000,90000,167130,42000,92197,130000,27500,48000,120000,45000,46000,68000,395000,70000,38500,103000,52000,123000,115600,50000,60000,112000,66300,162899,105000,47000,160000,105000,26000,39000,105200,92800,95000,38500,101000,1078000,68200,610000,126100,75000,80000,62000,100000,210000,70000,450000,50000,38000,125000,140000,105875,127300,140000,120000,39797,34600,51000,110000,90000,115000,50000,385200,85000,119000,60000,203921,100000,105000,42200,100000,40000,140000,30000,350000,62000,58150,140000,180000,50200,40000,95000,170000,114200,55000,55000,95000,110000,255000,228250,53000,150000,160000,27000,52200,128000,100000,140000,112100,83000,45000,48750,135000,490000,120000,85000,70000,49000,85000,46000,630000,92200,115000,47700,35400,105000,63000,43000,38000,93000,59153,80000,36000,50900,65000,45000,70700,101200,55000,180000,51480,110000,105000,59800,53000,350000,58000,100000,80000,115000,140000,48500,48015,86000,26000,62000,69837,120000,61600,123100,50000,83000,390000,750000,58000,67437,48750,33840,75000,50000,58000,77100,90000,150000,52100,125000,65000,355000,26000,130000,105000,75000,95000,147500,70000,30000,102200,155000,75000,68000,41000,50000,110000,120000,80000,220000,102300,270000,54000,70000,103500,33000,175000,125000,75000,60000,105000,42000,1141250,45000,95000,60000,40000,50400,136400,50000,94800,112800,65000,130000,69837,35000,94836,96000,130000,65000,114125,120000,100000,1141250,128000,80999,900000,115000,38000,21075,31000,40000,45000,55000,67437,596562,150000,135000,120000,33000,30000,156000,42000,155000,123250,100000,151045,390000,300000,415000,40000,134000,66000,48800,47000,171125,30000,55000,65000,337187,66700,98800,65000,145250,112600,150000,60000,43400,92000,58500,1000000,27000,41500,138000,85000,70000,39450,49300,86800,49500,60000,110000,150000,120000,58000,69800,110900,63592,55000,33500,85000,145000,30000,40000,85000,120000,63000,51000,70000,105786,35000,360200,95000,71500,37500,42000,115000,55000,90000,110000,230000,28000,75000,175000,124500,58000,570625,65000],\"y0\":\" \",\"yaxis\":\"y\",\"type\":\"box\"},{\"alignmentgroup\":\"True\",\"hovertemplate\":\"<b>%{hovertext}</b><br><br>model_year=2009<br>price=%{y}<extra></extra>\",\"hovertext\":[18.0,102.0,168.0,278.0,299.0,365.0,399.0,453.0,593.0,659.0,720.0,762.0,770.0,786.0,825.0,928.0,1006.0,1161.0,1187.0,1233.0,1250.0,1321.0,1356.0,1379.0,1385.0,1440.0,1493.0,1516.0,1562.0,1619.0,1622.0,1635.0,1668.0,1694.0,1754.0,1767.0,1776.0,1886.0,1888.0,1926.0,1931.0,1952.0,2029.0,2062.0,2223.0,2229.0,2403.0,2436.0,2447.0,2448.0,2462.0,2649.0,2668.0,2687.0,2709.0,2714.0,2724.0,2913.0,2936.0,2943.0,2944.0,2963.0,3000.0,3079.0,3116.0,3118.0,3126.0,3156.0,3174.0,3259.0,3310.0,3346.0,3350.0,3351.0,3359.0,3408.0,3469.0,3543.0,3597.0,3618.0,3763.0,3838.0,3957.0,3999.0,4075.0,4105.0,4141.0,4178.0,4209.0,4287.0,4307.0,4313.0,4438.0,4462.0,4471.0,4485.0,4488.0,4510.0,4555.0,4560.0,4642.0,4705.0,4801.0,4868.0,4915.0,4946.0,4987.0,4990.0,4991.0,5049.0,5058.0,5093.0,5097.0,5140.0,5141.0,5209.0,5243.0,5351.0,5364.0,5429.0,5441.0,5476.0,5516.0,5702.0],\"legendgroup\":\"2009\",\"marker\":{\"color\":\"#B6E880\"},\"name\":\"2009\",\"notched\":false,\"offsetgroup\":\"2009\",\"orientation\":\"v\",\"showlegend\":true,\"x0\":\" \",\"xaxis\":\"x\",\"y\":[60000,22000,10500,22000,55000,0,60000,15000,25000,9400,35000,20000,15000,50000,20000,28000,65000,17500,75000,30000,35000,30000,170000,20000,22000,17100,18000,15000,16000,17000,28000,15000,21700,18900,45000,16000,15000,24304,25000,31125,10125,16500,40000,70000,30000,33000,75000,25000,21000,27000,14000,50000,45000,18000,40000,15000,12000,22000,18000,17000,98000,63700,18600,14000,18500,25000,22700,15000,12000,30000,60000,35000,25000,24000,16000,25000,29500,13300,49834,15000,10000,25000,25000,28000,20000,23000,22000,17500,25000,90000,14000,15000,15000,0,80000,15000,15400,17945,14000,19000,8700,80000,30000,12000,35000,33200,19600,12000,19800,15200,15200,47000,16444,13300,80000,15000,60000,15000,52000,19000,83000,15000,25000,0],\"y0\":\" \",\"yaxis\":\"y\",\"type\":\"box\"},{\"alignmentgroup\":\"True\",\"hovertemplate\":\"<b>%{hovertext}</b><br><br>model_year=2007<br>price=%{y}<extra></extra>\",\"hovertext\":[21.0,39.0,197.0,286.0,577.0,585.0,721.0,745.0,797.0,1003.0,1115.0,1135.0,1144.0,1197.0,1285.0,1352.0,1404.0,1536.0,1585.0,1613.0,1632.0,1647.0,1777.0,1943.0,1955.0,1970.0,2067.0,2110.0,2128.0,2178.0,2232.0,2250.0,2327.0,2432.0,2459.0,2656.0,2710.0,2725.0,2760.0,2833.0,2900.0,3170.0,3261.0,3319.0,3459.0,3680.0,3788.0,3808.0,3878.0,3901.0,4222.0,4542.0,4715.0,4799.0,4820.0,5036.0,5188.0,5214.0,5296.0,5368.0,5484.0,5714.0],\"legendgroup\":\"2007\",\"marker\":{\"color\":\"#FF97FF\"},\"name\":\"2007\",\"notched\":false,\"offsetgroup\":\"2007\",\"orientation\":\"v\",\"showlegend\":true,\"x0\":\" \",\"xaxis\":\"x\",\"y\":[11500,33000,36000,19500,12000,13000,20999,12200,16000,17000,18000,62500,12200,17000,11250,15000,60300,27000,40000,9000,12000,10900,20000,19000,12000,11000,8500,11900,48000,72000,89000,15000,18000,10000,14000,14000,16400,13500,35000,12000,78000,15000,15000,12000,15000,12200,15800,20000,61000,10000,25000,53600,72000,27000,14000,8175,10500,15000,16000,12500,16333,68000],\"y0\":\" \",\"yaxis\":\"y\",\"type\":\"box\"},{\"alignmentgroup\":\"True\",\"hovertemplate\":\"<b>%{hovertext}</b><br><br>model_year=2014<br>price=%{y}<extra></extra>\",\"hovertext\":[24.0,40.0,49.0,68.0,87.0,91.0,95.0,108.0,111.0,130.0,133.0,137.0,142.0,159.0,166.0,170.0,171.0,172.0,201.0,211.0,228.0,260.0,269.0,271.0,284.0,306.0,322.0,325.0,337.0,340.0,342.0,347.0,357.0,358.0,372.0,383.0,393.0,394.0,402.0,417.0,427.0,432.0,448.0,456.0,462.0,463.0,487.0,502.0,504.0,554.0,556.0,563.0,569.0,572.0,584.0,588.0,602.0,629.0,631.0,640.0,649.0,663.0,669.0,673.0,685.0,730.0,731.0,733.0,743.0,754.0,769.0,787.0,833.0,872.0,881.0,887.0,912.0,920.0,922.0,946.0,960.0,961.0,970.0,980.0,984.0,998.0,1044.0,1045.0,1055.0,1080.0,1095.0,1098.0,1108.0,1117.0,1121.0,1127.0,1129.0,1137.0,1174.0,1186.0,1193.0,1226.0,1246.0,1263.0,1287.0,1293.0,1299.0,1326.0,1334.0,1341.0,1361.0,1366.0,1371.0,1393.0,1396.0,1410.0,1416.0,1419.0,1425.0,1426.0,1447.0,1450.0,1451.0,1479.0,1508.0,1510.0,1512.0,1521.0,1531.0,1546.0,1551.0,1563.0,1572.0,1591.0,1597.0,1605.0,1625.0,1626.0,1637.0,1638.0,1655.0,1661.0,1684.0,1691.0,1702.0,1713.0,1739.0,1741.0,1745.0,1778.0,1787.0,1788.0,1789.0,1808.0,1820.0,1831.0,1836.0,1851.0,1865.0,1870.0,1913.0,1914.0,1930.0,1966.0,1968.0,1991.0,1996.0,2041.0,2044.0,2078.0,2079.0,2087.0,2101.0,2106.0,2107.0,2117.0,2136.0,2141.0,2190.0,2213.0,2214.0,2224.0,2267.0,2269.0,2277.0,2294.0,2329.0,2346.0,2383.0,2394.0,2406.0,2433.0,2434.0,2466.0,2478.0,2480.0,2487.0,2516.0,2519.0,2530.0,2545.0,2560.0,2563.0,2565.0,2567.0,2569.0,2579.0,2590.0,2596.0,2601.0,2618.0,2648.0,2683.0,2700.0,2723.0,2728.0,2743.0,2755.0,2783.0,2790.0,2805.0,2813.0,2817.0,2829.0,2846.0,2849.0,2851.0,2854.0,2855.0,2860.0,2864.0,2872.0,2893.0,2904.0,2910.0,2930.0,2942.0,2961.0,2990.0,2991.0,2994.0,3006.0,3020.0,3023.0,3026.0,3033.0,3034.0,3045.0,3047.0,3055.0,3056.0,3088.0,3107.0,3112.0,3131.0,3132.0,3184.0,3207.0,3221.0,3226.0,3229.0,3237.0,3239.0,3243.0,3281.0,3292.0,3293.0,3296.0,3318.0,3321.0,3331.0,3336.0,3348.0,3358.0,3365.0,3376.0,3388.0,3396.0,3416.0,3427.0,3430.0,3451.0,3467.0,3482.0,3483.0,3533.0,3546.0,3553.0,3568.0,3577.0,3580.0,3590.0,3598.0,3607.0,3608.0,3621.0,3645.0,3661.0,3671.0,3672.0,3712.0,3713.0,3714.0,3724.0,3735.0,3737.0,3741.0,3761.0,3766.0,3787.0,3820.0,3821.0,3824.0,3831.0,3846.0,3859.0,3865.0,3875.0,3881.0,3941.0,3943.0,3969.0,3975.0,3981.0,4001.0,4012.0,4019.0,4062.0,4076.0,4079.0,4090.0,4127.0,4134.0,4140.0,4144.0,4173.0,4177.0,4191.0,4205.0,4224.0,4228.0,4252.0,4256.0,4263.0,4323.0,4331.0,4342.0,4353.0,4362.0,4363.0,4372.0,4374.0,4375.0,4383.0,4410.0,4411.0,4434.0,4453.0,4463.0,4465.0,4466.0,4496.0,4499.0,4526.0,4528.0,4551.0,4631.0,4632.0,4654.0,4657.0,4670.0,4686.0,4699.0,4701.0,4709.0,4712.0,4717.0,4724.0,4727.0,4729.0,4730.0,4748.0,4778.0,4779.0,4795.0,4807.0,4813.0,4858.0,4884.0,4888.0,4901.0,4903.0,4926.0,4929.0,4937.0,4955.0,4972.0,4978.0,4992.0,5002.0,5016.0,5039.0,5043.0,5048.0,5056.0,5059.0,5062.0,5089.0,5101.0,5114.0,5119.0,5167.0,5173.0,5198.0,5208.0,5210.0,5216.0,5228.0,5232.0,5256.0,5264.0,5270.0,5275.0,5276.0,5281.0,5300.0,5321.0,5328.0,5329.0,5356.0,5371.0,5378.0,5416.0,5425.0,5469.0,5474.0,5480.0,5490.0,5515.0,5517.0,5548.0,5585.0,5606.0,5607.0,5611.0,5635.0,5709.0,5722.0,5726.0,5727.0,5754.0,5755.0,5762.0,5764.0,5770.0,5771.0,5772.0,5773.0,5776.0,5779.0,5789.0,5820.0,5832.0,5843.0,5848.0,5865.0,5874.0,5877.0,5881.0],\"legendgroup\":\"2014\",\"marker\":{\"color\":\"#FECB52\"},\"name\":\"2014\",\"notched\":false,\"offsetgroup\":\"2014\",\"orientation\":\"v\",\"showlegend\":true,\"x0\":\" \",\"xaxis\":\"x\",\"y\":[355000,35000,85000,36000,110000,20000,50000,40500,70000,43650,22000,38000,99000,40000,45000,16000,55000,44000,105000,39000,38800,115000,29000,37000,105000,22000,42000,26000,65000,56000,95000,80000,36312,36814,400000,35000,91600,28000,54800,118000,26000,27000,39856,115000,26333,59000,41000,41400,351500,110000,41000,34850,97900,59000,75000,325000,42000,42800,85000,360000,102500,380700,30000,54000,45700,90000,87000,99500,90000,21000,110000,110000,78750,35999,0,100000,90000,35000,35000,90000,19000,46000,83000,125000,55000,28000,19000,57000,60000,89000,119500,19500,90000,30000,38000,32000,165000,90000,155000,66900,114500,41500,35000,115000,46000,95000,17500,30000,18000,50000,25000,39000,80000,112800,42000,600000,120000,52500,25000,110000,75000,26000,50000,65300,54000,280000,40000,25000,100000,90000,45000,95182,68000,25999,44100,99999,110000,75000,28000,20000,325000,77572,125000,42000,99000,45000,30000,33000,80400,45000,48000,30000,49000,550000,140000,48000,40173,115000,77000,70000,38800,42200,137400,70000,49000,35880,33000,80000,90000,27693,100000,49800,75000,41500,35000,95000,45000,75000,100000,95000,64100,94000,130000,230000,120000,60000,25000,43400,30000,306000,109500,96000,75000,39000,47100,58500,57062,270200,79000,455000,27000,44200,28000,55000,48000,39285,61000,349000,105000,91100,57000,57700,311000,100000,97300,44000,65000,50000,22500,35000,49000,21000,35000,340000,80000,50000,140000,78000,130000,400000,35000,23000,99000,46000,130000,28000,71300,85000,47000,335000,90400,32500,35000,91000,90000,34500,80000,31500,55000,78500,95000,0,83500,40000,310000,100000,115000,30000,145000,28000,120000,35000,25000,34500,98000,46700,125000,32500,20300,95000,70000,112000,86500,110000,38000,75000,41400,90000,50000,28130,37000,68500,60000,95000,21900,42100,115000,30000,39000,37500,24910,350000,57541,30000,26900,550000,78000,107900,73100,90000,148800,31840,81000,38300,43500,112000,44000,80000,120000,25800,50000,37000,55000,50000,20000,95000,99000,95000,52000,441142,27000,120000,65000,391000,317565,35000,65000,33000,65000,550000,28500,55000,35000,50000,27000,22500,24000,22000,28000,45000,180000,27000,34000,100000,100000,124300,1000000,39000,38000,30000,41000,65000,34000,105000,40000,107300,29800,375000,69000,103000,35000,72000,72000,90000,71500,75000,130000,30000,70000,90000,35000,22000,48000,390000,110200,26000,39000,41000,47000,75000,120000,125000,85000,80000,85000,35000,110000,115051,53950,90000,104000,45000,22000,98000,34000,30000,40000,58000,38600,82000,80000,97500,40000,28000,50000,38000,55786,30000,45400,42000,25000,95000,35000,130000,32000,41000,310000,135000,27000,40000,40000,107000,925000,33000,33000,38000,30000,28000,80000,70000,924999,62600,17958,93999,60000,32000,63300,36000,14250,53728,95000,50000,90000,85000,50000,81100,47000,114000,85000,55000,20000,45000,38400,34000,300000,35000,240000,71800,25000,37000,38000,40680,29900,109300,100000,125000,750000,85000,19300],\"y0\":\" \",\"yaxis\":\"y\",\"type\":\"box\"},{\"alignmentgroup\":\"True\",\"hovertemplate\":\"<b>%{hovertext}</b><br><br>model_year=2021<br>price=%{y}<extra></extra>\",\"hovertext\":[27.0,100.0,198.0,273.0,300.0,330.0,478.0,618.0,829.0,839.0,947.0,964.0,1064.0,1085.0,1275.0,1336.0,1355.0,1503.0,1507.0,1574.0,1774.0,1813.0,1824.0,1852.0,2335.0,2537.0,2658.0,2736.0,3101.0,3136.0,3474.0,3646.0,3649.0,3698.0,4006.0,4122.0,4147.0,4202.0,4220.0,4225.0,4341.0,4370.0,4420.0,4474.0,4728.0,4758.0,4772.0,4804.0,4979.0,4982.0,5076.0,5120.0,5227.0,5247.0,5277.0,5309.0,5358.0,5375.0,5415.0,5580.0,5590.0,5641.0,5651.0,5767.0,5805.0],\"legendgroup\":\"2021\",\"marker\":{\"color\":\"#636efa\"},\"name\":\"2021\",\"notched\":false,\"offsetgroup\":\"2021\",\"orientation\":\"v\",\"showlegend\":true,\"x0\":\" \",\"xaxis\":\"x\",\"y\":[69600,192000,190000,300000,127500,140700,207500,175000,210000,80000,250000,125000,207500,88000,125000,210000,81999,164000,120000,172000,233437,315000,210000,73000,220000,150000,195000,180000,225000,172100,145000,180000,217875,125000,147800,88275,140000,180000,52000,135000,55300,145000,123100,233437,78000,236000,160000,150000,124300,107000,55000,121500,105000,61000,220000,228250,74000,155600,125000,155000,249000,72400,220000,103000,225000],\"y0\":\" \",\"yaxis\":\"y\",\"type\":\"box\"},{\"alignmentgroup\":\"True\",\"hovertemplate\":\"<b>%{hovertext}</b><br><br>model_year=2011<br>price=%{y}<extra></extra>\",\"hovertext\":[34.0,43.0,45.0,76.0,77.0,110.0,185.0,256.0,315.0,351.0,353.0,370.0,458.0,469.0,470.0,508.0,537.0,562.0,573.0,579.0,589.0,617.0,683.0,724.0,735.0,793.0,806.0,867.0,878.0,917.0,918.0,936.0,973.0,1035.0,1039.0,1205.0,1211.0,1240.0,1276.0,1280.0,1294.0,1301.0,1364.0,1375.0,1391.0,1420.0,1423.0,1424.0,1455.0,1457.0,1471.0,1495.0,1523.0,1556.0,1569.0,1596.0,1644.0,1650.0,1653.0,1731.0,1757.0,1771.0,1772.0,1877.0,1978.0,1981.0,1986.0,2021.0,2030.0,2109.0,2169.0,2172.0,2174.0,2189.0,2194.0,2209.0,2253.0,2272.0,2291.0,2368.0,2401.0,2457.0,2465.0,2470.0,2496.0,2524.0,2527.0,2542.0,2587.0,2614.0,2628.0,2629.0,2633.0,2744.0,2765.0,2774.0,2776.0,2789.0,2794.0,2832.0,2883.0,2985.0,3016.0,3050.0,3067.0,3161.0,3210.0,3278.0,3287.0,3324.0,3329.0,3337.0,3338.0,3357.0,3410.0,3421.0,3455.0,3484.0,3494.0,3507.0,3511.0,3529.0,3605.0,3656.0,3711.0,3751.0,3754.0,3778.0,3779.0,3809.0,3830.0,3835.0,3839.0,3840.0,3876.0,3890.0,3911.0,3930.0,3965.0,3971.0,3996.0,4007.0,4108.0,4117.0,4128.0,4217.0,4247.0,4251.0,4290.0,4300.0,4301.0,4412.0,4436.0,4470.0,4508.0,4518.0,4569.0,4570.0,4591.0,4606.0,4611.0,4615.0,4625.0,4627.0,4640.0,4647.0,4680.0,4683.0,4689.0,4708.0,4745.0,4755.0,4787.0,4879.0,4907.0,4923.0,4944.0,4945.0,4952.0,4970.0,4988.0,5000.0,5037.0,5068.0,5095.0,5112.0,5149.0,5156.0,5158.0,5172.0,5229.0,5377.0,5408.0,5498.0,5503.0,5507.0,5558.0,5573.0,5614.0,5644.0,5671.0,5725.0,5753.0,5766.0,5819.0,5838.0],\"legendgroup\":\"2011\",\"marker\":{\"color\":\"#EF553B\"},\"name\":\"2011\",\"notched\":false,\"offsetgroup\":\"2011\",\"orientation\":\"v\",\"showlegend\":true,\"x0\":\" \",\"xaxis\":\"x\",\"y\":[12500,35000,25000,21000,25000,20000,28000,27499,43000,29000,30000,17000,26950,15000,23200,43500,25000,90000,24000,13000,24000,30000,680000,20000,25000,25000,20000,35000,22100,27899,26000,21000,70000,20400,19280,20000,22000,21000,35000,28000,35000,80000,26000,80000,59000,19900,23000,28838,110000,20000,24000,25000,40000,9999,20000,28000,53000,45000,22000,18500,12000,98000,18000,23900,23000,32000,25000,15000,48000,25000,85000,95000,19000,30000,15000,25000,29300,21000,25000,35000,21200,23000,810000,320000,19000,25000,28300,28000,70000,75000,30000,24000,18800,24000,25000,85700,82000,150000,35000,25000,33000,78501,35000,18000,23000,17000,26000,18000,25500,32000,35000,21500,85000,30000,58000,48000,70000,24500,16000,18000,40000,50000,46800,28000,23000,23400,29000,22800,16500,25000,15900,30000,20500,34000,60000,20000,43500,30000,30000,20000,60000,22000,21796,25000,20000,12000,35000,26950,15311,28000,41111,21000,66000,88000,22000,18000,29500,22000,0,97100,98000,20000,100000,16000,45000,17000,25000,34000,22000,30000,26000,75000,19000,22900,22000,84000,21000,27000,16000,75000,18000,61500,32000,19000,34100,20000,80000,55500,90000,180000,30200,329000,21100,55000,30000,47000,23455,32500,38000,46000,23000,15000,27499,101700,29000,23200],\"y0\":\" \",\"yaxis\":\"y\",\"type\":\"box\"},{\"alignmentgroup\":\"True\",\"hovertemplate\":\"<b>%{hovertext}</b><br><br>model_year=2003<br>price=%{y}<extra></extra>\",\"hovertext\":[41.0,519.0,1251.0,1716.0,1876.0,2255.0,4667.0,5234.0],\"legendgroup\":\"2003\",\"marker\":{\"color\":\"#00cc96\"},\"name\":\"2003\",\"notched\":false,\"offsetgroup\":\"2003\",\"orientation\":\"v\",\"showlegend\":true,\"x0\":\" \",\"xaxis\":\"x\",\"y\":[39999,25000,24501,12000,63375,160000,16000,130000],\"y0\":\" \",\"yaxis\":\"y\",\"type\":\"box\"},{\"alignmentgroup\":\"True\",\"hovertemplate\":\"<b>%{hovertext}</b><br><br>model_year=2020<br>price=%{y}<extra></extra>\",\"hovertext\":[53.0,103.0,113.0,117.0,132.0,157.0,163.0,173.0,177.0,221.0,246.0,285.0,309.0,338.0,363.0,374.0,395.0,421.0,434.0,435.0,482.0,494.0,507.0,548.0,557.0,601.0,606.0,661.0,668.0,674.0,679.0,684.0,714.0,725.0,726.0,727.0,746.0,757.0,801.0,856.0,864.0,885.0,891.0,907.0,913.0,997.0,1019.0,1109.0,1119.0,1160.0,1164.0,1172.0,1192.0,1200.0,1244.0,1265.0,1283.0,1303.0,1311.0,1329.0,1434.0,1511.0,1557.0,1590.0,1604.0,1628.0,1652.0,1673.0,1679.0,1680.0,1686.0,1703.0,1709.0,1725.0,1752.0,1785.0,1786.0,1790.0,1801.0,1857.0,1867.0,1872.0,1885.0,1899.0,1910.0,1963.0,1990.0,1992.0,2001.0,2002.0,2050.0,2052.0,2059.0,2071.0,2075.0,2096.0,2120.0,2129.0,2132.0,2145.0,2161.0,2170.0,2175.0,2212.0,2258.0,2260.0,2280.0,2303.0,2307.0,2313.0,2357.0,2363.0,2388.0,2407.0,2413.0,2445.0,2449.0,2463.0,2475.0,2505.0,2541.0,2546.0,2562.0,2592.0,2600.0,2608.0,2610.0,2632.0,2666.0,2669.0,2711.0,2753.0,2792.0,2830.0,2837.0,2842.0,2857.0,2871.0,2955.0,2964.0,2977.0,3005.0,3078.0,3084.0,3095.0,3234.0,3269.0,3271.0,3297.0,3314.0,3366.0,3367.0,3391.0,3422.0,3443.0,3445.0,3458.0,3460.0,3488.0,3540.0,3548.0,3572.0,3581.0,3588.0,3612.0,3627.0,3628.0,3639.0,3643.0,3651.0,3658.0,3667.0,3669.0,3675.0,3693.0,3709.0,3721.0,3723.0,3736.0,3768.0,3782.0,3874.0,3879.0,3883.0,3902.0,3928.0,3934.0,3972.0,3987.0,4021.0,4032.0,4046.0,4060.0,4120.0,4126.0,4139.0,4207.0,4208.0,4210.0,4214.0,4231.0,4240.0,4242.0,4268.0,4269.0,4295.0,4296.0,4308.0,4340.0,4354.0,4361.0,4378.0,4384.0,4399.0,4427.0,4428.0,4473.0,4512.0,4513.0,4514.0,4535.0,4541.0,4562.0,4607.0,4661.0,4721.0,4751.0,4771.0,4797.0,4810.0,4842.0,4855.0,4860.0,4863.0,4890.0,4941.0,4951.0,4962.0,4965.0,4981.0,4986.0,5012.0,5015.0,5023.0,5038.0,5051.0,5064.0,5103.0,5105.0,5123.0,5134.0,5177.0,5199.0,5221.0,5282.0,5305.0,5313.0,5317.0,5340.0,5347.0,5363.0,5365.0,5428.0,5430.0,5436.0,5470.0,5493.0,5512.0,5524.0,5577.0,5581.0,5591.0,5593.0,5608.0,5638.0,5685.0,5690.0,5692.0,5719.0,5800.0,5809.0,5824.0,5834.0,5859.0,5880.0],\"legendgroup\":\"2020\",\"marker\":{\"color\":\"#ab63fa\"},\"name\":\"2020\",\"notched\":false,\"offsetgroup\":\"2020\",\"orientation\":\"v\",\"showlegend\":true,\"x0\":\" \",\"xaxis\":\"x\",\"y\":[257000,84150,97800,67000,337187,200000,90000,220000,66000,100000,97000,528425,150000,61400,49000,80000,200000,155625,119000,81000,158000,61000,147000,100000,94525,65000,62000,58700,119000,125000,150000,59700,118000,150000,84200,165000,96700,150000,400000,341700,900000,112000,80000,90000,94900,210000,197125,73000,200000,87548,260000,197125,160000,90000,68500,207500,160000,74400,56000,79000,167000,260000,204100,63500,85000,202312,209000,129940,62100,277466,190000,100000,1866057,190000,118000,165000,100000,115000,80000,269750,210000,150000,83000,132000,60000,129000,230000,80000,100000,154700,150000,315000,207500,259375,95520,199999,190000,160000,103000,62300,180000,120000,466875,93000,65000,600000,185000,60000,120000,51000,86400,600000,135000,150000,280000,100000,52500,186750,140000,250000,295000,158000,65000,159000,165000,170000,180000,190000,263000,175000,92500,120000,150000,190000,227000,210000,55400,347562,115000,98200,148000,69000,180000,201000,530000,207500,164400,125000,230000,100000,63000,162900,112999,185000,105000,51500,190000,220000,66000,112800,200000,190000,86000,62000,58000,300000,280125,128000,80000,200000,55000,65925,206462,80000,61000,71500,61000,166000,105000,65000,105000,157000,145000,55200,191958,150000,280000,129000,77815,520000,370000,150000,150000,94000,65000,220000,197125,180000,173300,99000,230000,181562,175000,207500,202300,165000,155000,1150000,220000,55800,110000,195000,207500,352750,82000,65000,215000,52200,525000,41000,314800,95000,90000,74300,179000,215000,77400,93000,205000,91000,200000,155000,596562,1450000,265000,515000,230600,185000,44900,148800,110000,72000,1089375,100000,81500,74000,175000,188000,82000,134200,244000,265000,146000,103750,115000,200000,207500,240000,197500,125100,186750,111000,160000,143000,100500,152000,147000,155625,105000,40800,165000,165000,185000,215000,300000,80000,105000,170000,220000,300000,220000,85100,340000,220000,74000],\"y0\":\" \",\"yaxis\":\"y\",\"type\":\"box\"},{\"alignmentgroup\":\"True\",\"hovertemplate\":\"<b>%{hovertext}</b><br><br>model_year=2013<br>price=%{y}<extra></extra>\",\"hovertext\":[56.0,80.0,148.0,162.0,164.0,203.0,254.0,257.0,267.0,275.0,360.0,364.0,371.0,388.0,429.0,460.0,476.0,510.0,539.0,540.0,575.0,610.0,614.0,624.0,687.0,693.0,697.0,699.0,702.0,716.0,747.0,755.0,776.0,790.0,808.0,818.0,823.0,853.0,861.0,868.0,876.0,884.0,888.0,900.0,910.0,916.0,941.0,943.0,944.0,966.0,968.0,974.0,979.0,988.0,1008.0,1023.0,1049.0,1053.0,1079.0,1082.0,1105.0,1111.0,1179.0,1215.0,1225.0,1231.0,1232.0,1255.0,1282.0,1302.0,1315.0,1363.0,1365.0,1374.0,1383.0,1438.0,1453.0,1481.0,1509.0,1519.0,1524.0,1526.0,1568.0,1573.0,1587.0,1592.0,1608.0,1639.0,1654.0,1659.0,1664.0,1667.0,1699.0,1720.0,1727.0,1765.0,1769.0,1780.0,1791.0,1798.0,1812.0,1814.0,1858.0,1880.0,1909.0,1924.0,1944.0,1953.0,2012.0,2038.0,2051.0,2057.0,2081.0,2089.0,2122.0,2123.0,2130.0,2139.0,2163.0,2183.0,2192.0,2236.0,2246.0,2264.0,2273.0,2287.0,2348.0,2349.0,2366.0,2380.0,2382.0,2389.0,2396.0,2422.0,2446.0,2458.0,2518.0,2521.0,2550.0,2585.0,2602.0,2619.0,2634.0,2642.0,2655.0,2660.0,2667.0,2680.0,2699.0,2708.0,2713.0,2716.0,2722.0,2731.0,2739.0,2740.0,2788.0,2812.0,2825.0,2826.0,2844.0,2861.0,2870.0,2875.0,2928.0,2971.0,2973.0,3003.0,3019.0,3077.0,3085.0,3091.0,3103.0,3109.0,3123.0,3154.0,3158.0,3208.0,3216.0,3227.0,3246.0,3252.0,3327.0,3381.0,3382.0,3402.0,3435.0,3491.0,3515.0,3520.0,3544.0,3574.0,3594.0,3603.0,3604.0,3611.0,3613.0,3617.0,3624.0,3640.0,3664.0,3676.0,3677.0,3682.0,3705.0,3710.0,3759.0,3767.0,3776.0,3784.0,3793.0,3807.0,3818.0,3828.0,3829.0,3833.0,3853.0,3860.0,3868.0,3871.0,3891.0,3900.0,3927.0,4017.0,4048.0,4059.0,4098.0,4101.0,4103.0,4116.0,4133.0,4146.0,4152.0,4159.0,4161.0,4163.0,4164.0,4170.0,4232.0,4276.0,4297.0,4346.0,4360.0,4403.0,4430.0,4443.0,4449.0,4455.0,4481.0,4548.0,4556.0,4584.0,4603.0,4655.0,4679.0,4681.0,4711.0,4762.0,4775.0,4802.0,4811.0,4819.0,4845.0,4859.0,4880.0,4882.0,4886.0,4892.0,4897.0,4910.0,4912.0,4958.0,4968.0,5028.0,5034.0,5044.0,5054.0,5096.0,5127.0,5137.0,5142.0,5165.0,5168.0,5182.0,5185.0,5197.0,5206.0,5212.0,5225.0,5244.0,5250.0,5251.0,5284.0,5315.0,5323.0,5330.0,5350.0,5402.0,5465.0,5467.0,5475.0,5481.0,5500.0,5532.0,5537.0,5549.0,5555.0,5557.0,5567.0,5568.0,5586.0,5615.0,5626.0,5649.0,5668.0,5687.0,5698.0,5741.0,5745.0,5765.0,5798.0,5801.0,5803.0,5814.0,5822.0,5823.0,5825.0,5829.0,5837.0,5854.0,5866.0,5875.0],\"legendgroup\":\"2013\",\"marker\":{\"color\":\"#FFA15A\"},\"name\":\"2013\",\"notched\":false,\"offsetgroup\":\"2013\",\"orientation\":\"v\",\"showlegend\":true,\"x0\":\" \",\"xaxis\":\"x\",\"y\":[17500,43000,32000,33000,28000,40000,102100,25000,16400,79900,35000,18500,32000,45000,140000,23000,130000,111400,40000,70000,33000,115000,22000,22000,77000,32000,37000,90000,103200,89000,25500,120000,32000,104600,75000,40000,80000,50300,37000,120000,34600,699000,35000,43000,26900,30000,104000,45000,52000,45000,27000,35000,160000,25000,90000,36400,93000,70000,20200,45000,40000,32000,45000,85000,80000,30000,35000,59600,34895,385000,50000,100000,40200,50000,41500,27000,110000,45000,40000,60000,37500,106683,72000,35000,34000,37000,44000,30300,130000,21000,54000,51700,84100,23000,30000,65000,30000,40000,85000,42000,52300,27899,53200,31000,34400,49600,60000,70000,105000,49003,545000,38000,95000,515000,50000,37000,27000,40000,48400,38000,38700,32000,35000,40000,18000,116400,50000,28000,88000,110000,28000,24735,31500,35000,16500,65000,27000,29100,0,70000,45800,63300,17600,29050,25000,32000,40000,70000,25000,25000,70000,32000,45000,30000,21700,51000,35400,25000,26000,80000,85000,22500,97100,35000,25062,275000,115000,32000,425000,44000,33500,42000,42000,24000,42000,100999,49000,38000,38000,70000,59520,120000,38000,40500,23000,45000,90000,19200,118800,75000,41000,39999,74400,45000,33600,86000,28000,27000,45000,70000,70000,21000,30000,99000,81200,97000,30000,40000,23000,48000,39425,32000,825000,25300,30000,40000,30000,570625,38000,30000,31000,112000,45000,21800,110000,118200,24000,45000,35000,58000,32000,80000,35800,110000,95000,850000,37000,25000,84575,45000,30000,29025,35000,1299999,650000,30000,55000,45000,93500,31000,37000,400000,39000,59999,47100,45000,89600,42000,20000,63000,35000,90800,125000,17800,30000,950000,28500,29000,35000,16700,80000,110000,38000,100000,34720,24800,195000,69999,80600,22000,35000,33000,26000,85000,35600,36500,38000,80000,25000,40000,95000,44000,98700,97000,35400,105000,41400,47000,32175,23500,46000,70000,110000,23000,26000,14400,65000,22000,30000,34000,27000,22000,22000,69999,59000,61000,30000,20800,101000,80000,29499,23000,40000,35000,32000,190000,79000,40000,27000,45000,25000,27000],\"y0\":\" \",\"yaxis\":\"y\",\"type\":\"box\"},{\"alignmentgroup\":\"True\",\"hovertemplate\":\"<b>%{hovertext}</b><br><br>model_year=2006<br>price=%{y}<extra></extra>\",\"hovertext\":[66.0,250.0,333.0,452.0,517.0,555.0,616.0,899.0,1026.0,1090.0,1742.0,1816.0,2068.0,2284.0,2350.0,2427.0,2756.0,2876.0,2898.0,3035.0,3043.0,3106.0,3313.0,3363.0,3379.0,3819.0,3926.0,3989.0,4016.0,4393.0,4418.0,4516.0,4596.0,4831.0,4900.0,4983.0,5462.0,5496.0,5505.0,5535.0,5663.0,5890.0],\"legendgroup\":\"2006\",\"marker\":{\"color\":\"#19d3f3\"},\"name\":\"2006\",\"notched\":false,\"offsetgroup\":\"2006\",\"orientation\":\"v\",\"showlegend\":true,\"x0\":\" \",\"xaxis\":\"x\",\"y\":[10000,12500,11000,90000,9900,18000,12000,70000,15333,22050,10000,8600,12000,11500,17000,9200,16500,20000,10400,15000,20000,125000,26000,9600,20000,50000,5850,22000,15244,10500,11900,14500,15000,25000,9000,58700,42000,47000,15000,11200,20000,18000],\"y0\":\" \",\"yaxis\":\"y\",\"type\":\"box\"},{\"alignmentgroup\":\"True\",\"hovertemplate\":\"<b>%{hovertext}</b><br><br>model_year=2010<br>price=%{y}<extra></extra>\",\"hovertext\":[70.0,158.0,216.0,220.0,235.0,261.0,296.0,316.0,419.0,423.0,466.0,471.0,525.0,581.0,586.0,774.0,788.0,811.0,813.0,1058.0,1078.0,1084.0,1128.0,1151.0,1236.0,1266.0,1345.0,1373.0,1414.0,1421.0,1463.0,1476.0,1575.0,1580.0,1641.0,1671.0,1724.0,1750.0,1802.0,1827.0,1834.0,1912.0,1925.0,1957.0,2003.0,2040.0,2184.0,2199.0,2257.0,2278.0,2288.0,2290.0,2304.0,2308.0,2323.0,2356.0,2405.0,2414.0,2423.0,2429.0,2441.0,2499.0,2515.0,2526.0,2547.0,2558.0,2597.0,2603.0,2620.0,2644.0,2652.0,2653.0,2715.0,2721.0,2782.0,2803.0,2879.0,2922.0,2924.0,2932.0,2975.0,2984.0,3031.0,3059.0,3066.0,3115.0,3140.0,3159.0,3167.0,3175.0,3262.0,3267.0,3353.0,3360.0,3362.0,3375.0,3383.0,3398.0,3409.0,3440.0,3452.0,3514.0,3526.0,3638.0,3685.0,3696.0,3697.0,3837.0,3948.0,3979.0,4002.0,4009.0,4051.0,4094.0,4148.0,4155.0,4181.0,4190.0,4426.0,4502.0,4523.0,4613.0,4630.0,4752.0,4764.0,4792.0,4805.0,4854.0,4877.0,4969.0,4974.0,4985.0,4998.0,5014.0,5050.0,5092.0,5107.0,5184.0,5194.0,5262.0,5325.0,5370.0,5411.0,5482.0,5542.0,5563.0,5652.0,5695.0,5739.0,5752.0,5777.0,5786.0,5864.0,5871.0,5883.0],\"legendgroup\":\"2010\",\"marker\":{\"color\":\"#FF6692\"},\"name\":\"2010\",\"notched\":false,\"offsetgroup\":\"2010\",\"orientation\":\"v\",\"showlegend\":true,\"x0\":\" \",\"xaxis\":\"x\",\"y\":[17000,16000,56500,30000,20000,33830,16666,19300,69000,17000,14800,55000,23000,27500,20800,74000,24010,19000,18000,16000,32000,83000,53775,172000,65900,25000,21000,20000,17000,42000,20000,18000,21000,24000,25000,24000,18000,19000,19269,19600,29000,170000,14000,19000,18000,20000,14000,12000,34000,17250,21000,50000,42100,10000,180000,30000,60000,14000,17500,30000,24750,28000,21800,50000,40000,19215,32000,21750,24999,60000,16000,23500,69512,16500,21000,40000,60000,20000,20000,23000,20000,15000,65000,21000,0,12000,28000,18000,30000,71000,42000,29500,20000,71400,27000,63499,70000,30000,24000,16500,78000,35000,22540,70000,20000,14700,16000,18000,25000,14000,100000,40000,35000,22000,24999,18000,18000,34000,12000,21500,28000,12000,23000,30898,40000,78700,16900,65000,30087,30000,19000,16000,51000,15700,16000,62700,16500,799999,20000,30000,39500,22000,34000,25000,89889,58050,24000,26000,28000,23000,60000,14100,31000,88000,15000],\"y0\":\" \",\"yaxis\":\"y\",\"type\":\"box\"},{\"alignmentgroup\":\"True\",\"hovertemplate\":\"<b>%{hovertext}</b><br><br>model_year=2005<br>price=%{y}<extra></extra>\",\"hovertext\":[114.0,783.0,838.0,1009.0,1103.0,1430.0,1611.0,1634.0,2225.0,2479.0,2664.0,3280.0,3285.0,3742.0,3798.0,3810.0,3866.0,3897.0,4505.0,4577.0,4753.0,4761.0,4770.0,4895.0,5001.0,5104.0,5367.0,5389.0,5426.0,5454.0,5529.0,5572.0],\"legendgroup\":\"2005\",\"marker\":{\"color\":\"#B6E880\"},\"name\":\"2005\",\"notched\":false,\"offsetgroup\":\"2005\",\"orientation\":\"v\",\"showlegend\":true,\"x0\":\" \",\"xaxis\":\"x\",\"y\":[27000,0,30000,12000,32000,120000,7500,13000,76000,38000,9000,15000,16000,10300,18000,17000,19000,20000,15000,11000,11250,54300,18000,7000,35000,25000,15000,10000,40000,10000,28000,9000],\"y0\":\" \",\"yaxis\":\"y\",\"type\":\"box\"},{\"alignmentgroup\":\"True\",\"hovertemplate\":\"<b>%{hovertext}</b><br><br>model_year=2008<br>price=%{y}<extra></extra>\",\"hovertext\":[150.0,266.0,270.0,343.0,361.0,407.0,475.0,490.0,524.0,656.0,688.0,802.0,828.0,1010.0,1031.0,1091.0,1143.0,1264.0,1394.0,1445.0,1464.0,1500.0,1520.0,1522.0,1696.0,1759.0,1848.0,2098.0,2155.0,2276.0,2962.0,3022.0,3245.0,3312.0,3384.0,3497.0,3570.0,3576.0,3691.0,3717.0,3790.0,4067.0,4107.0,4167.0,4272.0,4298.0,4348.0,4401.0,4404.0,4536.0,4633.0,4652.0,4678.0,4777.0,4843.0,4847.0,4883.0,5020.0,5040.0,5099.0,5118.0,5171.0,5359.0,5613.0,5631.0,5683.0,5713.0,5793.0,5842.0],\"legendgroup\":\"2008\",\"marker\":{\"color\":\"#FF97FF\"},\"name\":\"2008\",\"notched\":false,\"offsetgroup\":\"2008\",\"orientation\":\"v\",\"showlegend\":true,\"x0\":\" \",\"xaxis\":\"x\",\"y\":[17000,11999,125000,14000,19000,19784,13000,29500,13600,24500,57000,20000,17000,15000,13000,18000,140000,16300,25000,115000,20000,30000,30000,27500,15000,0,22000,15000,55000,14000,18000,28000,64200,15000,30000,44000,65000,30000,18000,19500,19000,15600,16000,0,9150,15500,65000,0,16500,22000,19655,22000,32000,30000,16000,20000,15000,17000,60000,15000,19000,44000,155000,80000,30000,25000,30000,18000,16000],\"y0\":\" \",\"yaxis\":\"y\",\"type\":\"box\"},{\"alignmentgroup\":\"True\",\"hovertemplate\":\"<b>%{hovertext}</b><br><br>model_year=2004<br>price=%{y}<extra></extra>\",\"hovertext\":[190.0,804.0,1330.0,1979.0,2165.0,2681.0,2691.0,2843.0,3250.0,3429.0,3561.0,4262.0,5175.0,5324.0,5345.0,5419.0,5530.0,5706.0,5873.0],\"legendgroup\":\"2004\",\"marker\":{\"color\":\"#FECB52\"},\"name\":\"2004\",\"notched\":false,\"offsetgroup\":\"2004\",\"orientation\":\"v\",\"showlegend\":true,\"x0\":\" \",\"xaxis\":\"x\",\"y\":[17000,70000,36900,45000,25000,50000,18000,15000,23000,18000,14000,13999,19000,27000,12000,15000,10500,70300,20000],\"y0\":\" \",\"yaxis\":\"y\",\"type\":\"box\"},{\"alignmentgroup\":\"True\",\"hovertemplate\":\"<b>%{hovertext}</b><br><br>model_year=1997<br>price=%{y}<extra></extra>\",\"hovertext\":[477.0,809.0,1145.0,1304.0,3728.0],\"legendgroup\":\"1997\",\"marker\":{\"color\":\"#636efa\"},\"name\":\"1997\",\"notched\":false,\"offsetgroup\":\"1997\",\"orientation\":\"v\",\"showlegend\":true,\"x0\":\" \",\"xaxis\":\"x\",\"y\":[21101,23000,23000,0,90000],\"y0\":\" \",\"yaxis\":\"y\",\"type\":\"box\"},{\"alignmentgroup\":\"True\",\"hovertemplate\":\"<b>%{hovertext}</b><br><br>model_year=1996<br>price=%{y}<extra></extra>\",\"hovertext\":[558.0,1412.0,4458.0],\"legendgroup\":\"1996\",\"marker\":{\"color\":\"#EF553B\"},\"name\":\"1996\",\"notched\":false,\"offsetgroup\":\"1996\",\"orientation\":\"v\",\"showlegend\":true,\"x0\":\" \",\"xaxis\":\"x\",\"y\":[0,75000,23000],\"y0\":\" \",\"yaxis\":\"y\",\"type\":\"box\"},{\"alignmentgroup\":\"True\",\"hovertemplate\":\"<b>%{hovertext}</b><br><br>model_year=2000<br>price=%{y}<extra></extra>\",\"hovertext\":[623.0,991.0,2211.0,3803.0,3919.0,4529.0,5283.0],\"legendgroup\":\"2000\",\"marker\":{\"color\":\"#00cc96\"},\"name\":\"2000\",\"notched\":false,\"offsetgroup\":\"2000\",\"orientation\":\"v\",\"showlegend\":true,\"x0\":\" \",\"xaxis\":\"x\",\"y\":[100000,105000,100000,105000,125000,112425,80000],\"y0\":\" \",\"yaxis\":\"y\",\"type\":\"box\"},{\"alignmentgroup\":\"True\",\"hovertemplate\":\"<b>%{hovertext}</b><br><br>model_year=1986<br>price=%{y}<extra></extra>\",\"hovertext\":[850.0,3415.0],\"legendgroup\":\"1986\",\"marker\":{\"color\":\"#ab63fa\"},\"name\":\"1986\",\"notched\":false,\"offsetgroup\":\"1986\",\"orientation\":\"v\",\"showlegend\":true,\"x0\":\" \",\"xaxis\":\"x\",\"y\":[60000,110000],\"y0\":\" \",\"yaxis\":\"y\",\"type\":\"box\"},{\"alignmentgroup\":\"True\",\"hovertemplate\":\"<b>%{hovertext}</b><br><br>model_year=1982<br>price=%{y}<extra></extra>\",\"hovertext\":[859.0,1916.0,2469.0,3099.0,3463.0,3968.0],\"legendgroup\":\"1982\",\"marker\":{\"color\":\"#FFA15A\"},\"name\":\"1982\",\"notched\":false,\"offsetgroup\":\"1982\",\"orientation\":\"v\",\"showlegend\":true,\"x0\":\" \",\"xaxis\":\"x\",\"y\":[80000,150000,170000,60000,125000,70000],\"y0\":\" \",\"yaxis\":\"y\",\"type\":\"box\"},{\"alignmentgroup\":\"True\",\"hovertemplate\":\"<b>%{hovertext}</b><br><br>model_year=1999<br>price=%{y}<extra></extra>\",\"hovertext\":[1349.0,2010.0,2355.0],\"legendgroup\":\"1999\",\"marker\":{\"color\":\"#19d3f3\"},\"name\":\"1999\",\"notched\":false,\"offsetgroup\":\"1999\",\"orientation\":\"v\",\"showlegend\":true,\"x0\":\" \",\"xaxis\":\"x\",\"y\":[14000,92000,80000],\"y0\":\" \",\"yaxis\":\"y\",\"type\":\"box\"},{\"alignmentgroup\":\"True\",\"hovertemplate\":\"<b>%{hovertext}</b><br><br>model_year=2002<br>price=%{y}<extra></extra>\",\"hovertext\":[1929.0,2748.0,3619.0,3834.0,4622.0,4899.0,5090.0],\"legendgroup\":\"2002\",\"marker\":{\"color\":\"#FF6692\"},\"name\":\"2002\",\"notched\":false,\"offsetgroup\":\"2002\",\"orientation\":\"v\",\"showlegend\":true,\"x0\":\" \",\"xaxis\":\"x\",\"y\":[16000,15000,20000,20580,14000,3900,3900],\"y0\":\" \",\"yaxis\":\"y\",\"type\":\"box\"},{\"alignmentgroup\":\"True\",\"hovertemplate\":\"<b>%{hovertext}</b><br><br>model_year=1993<br>price=%{y}<extra></extra>\",\"hovertext\":[2274.0,4493.0],\"legendgroup\":\"1993\",\"marker\":{\"color\":\"#B6E880\"},\"name\":\"1993\",\"notched\":false,\"offsetgroup\":\"1993\",\"orientation\":\"v\",\"showlegend\":true,\"x0\":\" \",\"xaxis\":\"x\",\"y\":[60000,25000],\"y0\":\" \",\"yaxis\":\"y\",\"type\":\"box\"},{\"alignmentgroup\":\"True\",\"hovertemplate\":\"<b>%{hovertext}</b><br><br>model_year=1950<br>price=%{y}<extra></extra>\",\"hovertext\":[2302.0,2750.0],\"legendgroup\":\"1950\",\"marker\":{\"color\":\"#FF97FF\"},\"name\":\"1950\",\"notched\":false,\"offsetgroup\":\"1950\",\"orientation\":\"v\",\"showlegend\":true,\"x0\":\" \",\"xaxis\":\"x\",\"y\":[55000,55000],\"y0\":\" \",\"yaxis\":\"y\",\"type\":\"box\"},{\"alignmentgroup\":\"True\",\"hovertemplate\":\"<b>%{hovertext}</b><br><br>model_year=1991<br>price=%{y}<extra></extra>\",\"hovertext\":[2312.0,4039.0,4522.0],\"legendgroup\":\"1991\",\"marker\":{\"color\":\"#FECB52\"},\"name\":\"1991\",\"notched\":false,\"offsetgroup\":\"1991\",\"orientation\":\"v\",\"showlegend\":true,\"x0\":\" \",\"xaxis\":\"x\",\"y\":[98000,95000,175000],\"y0\":\" \",\"yaxis\":\"y\",\"type\":\"box\"},{\"alignmentgroup\":\"True\",\"hovertemplate\":\"<b>%{hovertext}</b><br><br>model_year=1998<br>price=%{y}<extra></extra>\",\"hovertext\":[2841.0,3757.0],\"legendgroup\":\"1998\",\"marker\":{\"color\":\"#636efa\"},\"name\":\"1998\",\"notched\":false,\"offsetgroup\":\"1998\",\"orientation\":\"v\",\"showlegend\":true,\"x0\":\" \",\"xaxis\":\"x\",\"y\":[62000,6000],\"y0\":\" \",\"yaxis\":\"y\",\"type\":\"box\"},{\"alignmentgroup\":\"True\",\"hovertemplate\":\"<b>%{hovertext}</b><br><br>model_year=1990<br>price=%{y}<extra></extra>\",\"hovertext\":[3476.0,3496.0],\"legendgroup\":\"1990\",\"marker\":{\"color\":\"#EF553B\"},\"name\":\"1990\",\"notched\":false,\"offsetgroup\":\"1990\",\"orientation\":\"v\",\"showlegend\":true,\"x0\":\" \",\"xaxis\":\"x\",\"y\":[45000,100000],\"y0\":\" \",\"yaxis\":\"y\",\"type\":\"box\"},{\"alignmentgroup\":\"True\",\"hovertemplate\":\"<b>%{hovertext}</b><br><br>model_year=1994<br>price=%{y}<extra></extra>\",\"hovertext\":[4310.0],\"legendgroup\":\"1994\",\"marker\":{\"color\":\"#00cc96\"},\"name\":\"1994\",\"notched\":false,\"offsetgroup\":\"1994\",\"orientation\":\"v\",\"showlegend\":true,\"x0\":\" \",\"xaxis\":\"x\",\"y\":[36508],\"y0\":\" \",\"yaxis\":\"y\",\"type\":\"box\"}],                        {\"template\":{\"data\":{\"histogram2dcontour\":[{\"type\":\"histogram2dcontour\",\"colorbar\":{\"outlinewidth\":0,\"ticks\":\"\"},\"colorscale\":[[0.0,\"#0d0887\"],[0.1111111111111111,\"#46039f\"],[0.2222222222222222,\"#7201a8\"],[0.3333333333333333,\"#9c179e\"],[0.4444444444444444,\"#bd3786\"],[0.5555555555555556,\"#d8576b\"],[0.6666666666666666,\"#ed7953\"],[0.7777777777777778,\"#fb9f3a\"],[0.8888888888888888,\"#fdca26\"],[1.0,\"#f0f921\"]]}],\"choropleth\":[{\"type\":\"choropleth\",\"colorbar\":{\"outlinewidth\":0,\"ticks\":\"\"}}],\"histogram2d\":[{\"type\":\"histogram2d\",\"colorbar\":{\"outlinewidth\":0,\"ticks\":\"\"},\"colorscale\":[[0.0,\"#0d0887\"],[0.1111111111111111,\"#46039f\"],[0.2222222222222222,\"#7201a8\"],[0.3333333333333333,\"#9c179e\"],[0.4444444444444444,\"#bd3786\"],[0.5555555555555556,\"#d8576b\"],[0.6666666666666666,\"#ed7953\"],[0.7777777777777778,\"#fb9f3a\"],[0.8888888888888888,\"#fdca26\"],[1.0,\"#f0f921\"]]}],\"heatmap\":[{\"type\":\"heatmap\",\"colorbar\":{\"outlinewidth\":0,\"ticks\":\"\"},\"colorscale\":[[0.0,\"#0d0887\"],[0.1111111111111111,\"#46039f\"],[0.2222222222222222,\"#7201a8\"],[0.3333333333333333,\"#9c179e\"],[0.4444444444444444,\"#bd3786\"],[0.5555555555555556,\"#d8576b\"],[0.6666666666666666,\"#ed7953\"],[0.7777777777777778,\"#fb9f3a\"],[0.8888888888888888,\"#fdca26\"],[1.0,\"#f0f921\"]]}],\"heatmapgl\":[{\"type\":\"heatmapgl\",\"colorbar\":{\"outlinewidth\":0,\"ticks\":\"\"},\"colorscale\":[[0.0,\"#0d0887\"],[0.1111111111111111,\"#46039f\"],[0.2222222222222222,\"#7201a8\"],[0.3333333333333333,\"#9c179e\"],[0.4444444444444444,\"#bd3786\"],[0.5555555555555556,\"#d8576b\"],[0.6666666666666666,\"#ed7953\"],[0.7777777777777778,\"#fb9f3a\"],[0.8888888888888888,\"#fdca26\"],[1.0,\"#f0f921\"]]}],\"contourcarpet\":[{\"type\":\"contourcarpet\",\"colorbar\":{\"outlinewidth\":0,\"ticks\":\"\"}}],\"contour\":[{\"type\":\"contour\",\"colorbar\":{\"outlinewidth\":0,\"ticks\":\"\"},\"colorscale\":[[0.0,\"#0d0887\"],[0.1111111111111111,\"#46039f\"],[0.2222222222222222,\"#7201a8\"],[0.3333333333333333,\"#9c179e\"],[0.4444444444444444,\"#bd3786\"],[0.5555555555555556,\"#d8576b\"],[0.6666666666666666,\"#ed7953\"],[0.7777777777777778,\"#fb9f3a\"],[0.8888888888888888,\"#fdca26\"],[1.0,\"#f0f921\"]]}],\"surface\":[{\"type\":\"surface\",\"colorbar\":{\"outlinewidth\":0,\"ticks\":\"\"},\"colorscale\":[[0.0,\"#0d0887\"],[0.1111111111111111,\"#46039f\"],[0.2222222222222222,\"#7201a8\"],[0.3333333333333333,\"#9c179e\"],[0.4444444444444444,\"#bd3786\"],[0.5555555555555556,\"#d8576b\"],[0.6666666666666666,\"#ed7953\"],[0.7777777777777778,\"#fb9f3a\"],[0.8888888888888888,\"#fdca26\"],[1.0,\"#f0f921\"]]}],\"mesh3d\":[{\"type\":\"mesh3d\",\"colorbar\":{\"outlinewidth\":0,\"ticks\":\"\"}}],\"scatter\":[{\"fillpattern\":{\"fillmode\":\"overlay\",\"size\":10,\"solidity\":0.2},\"type\":\"scatter\"}],\"parcoords\":[{\"type\":\"parcoords\",\"line\":{\"colorbar\":{\"outlinewidth\":0,\"ticks\":\"\"}}}],\"scatterpolargl\":[{\"type\":\"scatterpolargl\",\"marker\":{\"colorbar\":{\"outlinewidth\":0,\"ticks\":\"\"}}}],\"bar\":[{\"error_x\":{\"color\":\"#2a3f5f\"},\"error_y\":{\"color\":\"#2a3f5f\"},\"marker\":{\"line\":{\"color\":\"#E5ECF6\",\"width\":0.5},\"pattern\":{\"fillmode\":\"overlay\",\"size\":10,\"solidity\":0.2}},\"type\":\"bar\"}],\"scattergeo\":[{\"type\":\"scattergeo\",\"marker\":{\"colorbar\":{\"outlinewidth\":0,\"ticks\":\"\"}}}],\"scatterpolar\":[{\"type\":\"scatterpolar\",\"marker\":{\"colorbar\":{\"outlinewidth\":0,\"ticks\":\"\"}}}],\"histogram\":[{\"marker\":{\"pattern\":{\"fillmode\":\"overlay\",\"size\":10,\"solidity\":0.2}},\"type\":\"histogram\"}],\"scattergl\":[{\"type\":\"scattergl\",\"marker\":{\"colorbar\":{\"outlinewidth\":0,\"ticks\":\"\"}}}],\"scatter3d\":[{\"type\":\"scatter3d\",\"line\":{\"colorbar\":{\"outlinewidth\":0,\"ticks\":\"\"}},\"marker\":{\"colorbar\":{\"outlinewidth\":0,\"ticks\":\"\"}}}],\"scattermapbox\":[{\"type\":\"scattermapbox\",\"marker\":{\"colorbar\":{\"outlinewidth\":0,\"ticks\":\"\"}}}],\"scatterternary\":[{\"type\":\"scatterternary\",\"marker\":{\"colorbar\":{\"outlinewidth\":0,\"ticks\":\"\"}}}],\"scattercarpet\":[{\"type\":\"scattercarpet\",\"marker\":{\"colorbar\":{\"outlinewidth\":0,\"ticks\":\"\"}}}],\"carpet\":[{\"aaxis\":{\"endlinecolor\":\"#2a3f5f\",\"gridcolor\":\"white\",\"linecolor\":\"white\",\"minorgridcolor\":\"white\",\"startlinecolor\":\"#2a3f5f\"},\"baxis\":{\"endlinecolor\":\"#2a3f5f\",\"gridcolor\":\"white\",\"linecolor\":\"white\",\"minorgridcolor\":\"white\",\"startlinecolor\":\"#2a3f5f\"},\"type\":\"carpet\"}],\"table\":[{\"cells\":{\"fill\":{\"color\":\"#EBF0F8\"},\"line\":{\"color\":\"white\"}},\"header\":{\"fill\":{\"color\":\"#C8D4E3\"},\"line\":{\"color\":\"white\"}},\"type\":\"table\"}],\"barpolar\":[{\"marker\":{\"line\":{\"color\":\"#E5ECF6\",\"width\":0.5},\"pattern\":{\"fillmode\":\"overlay\",\"size\":10,\"solidity\":0.2}},\"type\":\"barpolar\"}],\"pie\":[{\"automargin\":true,\"type\":\"pie\"}]},\"layout\":{\"autotypenumbers\":\"strict\",\"colorway\":[\"#636efa\",\"#EF553B\",\"#00cc96\",\"#ab63fa\",\"#FFA15A\",\"#19d3f3\",\"#FF6692\",\"#B6E880\",\"#FF97FF\",\"#FECB52\"],\"font\":{\"color\":\"#2a3f5f\"},\"hovermode\":\"closest\",\"hoverlabel\":{\"align\":\"left\"},\"paper_bgcolor\":\"white\",\"plot_bgcolor\":\"#E5ECF6\",\"polar\":{\"bgcolor\":\"#E5ECF6\",\"angularaxis\":{\"gridcolor\":\"white\",\"linecolor\":\"white\",\"ticks\":\"\"},\"radialaxis\":{\"gridcolor\":\"white\",\"linecolor\":\"white\",\"ticks\":\"\"}},\"ternary\":{\"bgcolor\":\"#E5ECF6\",\"aaxis\":{\"gridcolor\":\"white\",\"linecolor\":\"white\",\"ticks\":\"\"},\"baxis\":{\"gridcolor\":\"white\",\"linecolor\":\"white\",\"ticks\":\"\"},\"caxis\":{\"gridcolor\":\"white\",\"linecolor\":\"white\",\"ticks\":\"\"}},\"coloraxis\":{\"colorbar\":{\"outlinewidth\":0,\"ticks\":\"\"}},\"colorscale\":{\"sequential\":[[0.0,\"#0d0887\"],[0.1111111111111111,\"#46039f\"],[0.2222222222222222,\"#7201a8\"],[0.3333333333333333,\"#9c179e\"],[0.4444444444444444,\"#bd3786\"],[0.5555555555555556,\"#d8576b\"],[0.6666666666666666,\"#ed7953\"],[0.7777777777777778,\"#fb9f3a\"],[0.8888888888888888,\"#fdca26\"],[1.0,\"#f0f921\"]],\"sequentialminus\":[[0.0,\"#0d0887\"],[0.1111111111111111,\"#46039f\"],[0.2222222222222222,\"#7201a8\"],[0.3333333333333333,\"#9c179e\"],[0.4444444444444444,\"#bd3786\"],[0.5555555555555556,\"#d8576b\"],[0.6666666666666666,\"#ed7953\"],[0.7777777777777778,\"#fb9f3a\"],[0.8888888888888888,\"#fdca26\"],[1.0,\"#f0f921\"]],\"diverging\":[[0,\"#8e0152\"],[0.1,\"#c51b7d\"],[0.2,\"#de77ae\"],[0.3,\"#f1b6da\"],[0.4,\"#fde0ef\"],[0.5,\"#f7f7f7\"],[0.6,\"#e6f5d0\"],[0.7,\"#b8e186\"],[0.8,\"#7fbc41\"],[0.9,\"#4d9221\"],[1,\"#276419\"]]},\"xaxis\":{\"gridcolor\":\"white\",\"linecolor\":\"white\",\"ticks\":\"\",\"title\":{\"standoff\":15},\"zerolinecolor\":\"white\",\"automargin\":true,\"zerolinewidth\":2},\"yaxis\":{\"gridcolor\":\"white\",\"linecolor\":\"white\",\"ticks\":\"\",\"title\":{\"standoff\":15},\"zerolinecolor\":\"white\",\"automargin\":true,\"zerolinewidth\":2},\"scene\":{\"xaxis\":{\"backgroundcolor\":\"#E5ECF6\",\"gridcolor\":\"white\",\"linecolor\":\"white\",\"showbackground\":true,\"ticks\":\"\",\"zerolinecolor\":\"white\",\"gridwidth\":2},\"yaxis\":{\"backgroundcolor\":\"#E5ECF6\",\"gridcolor\":\"white\",\"linecolor\":\"white\",\"showbackground\":true,\"ticks\":\"\",\"zerolinecolor\":\"white\",\"gridwidth\":2},\"zaxis\":{\"backgroundcolor\":\"#E5ECF6\",\"gridcolor\":\"white\",\"linecolor\":\"white\",\"showbackground\":true,\"ticks\":\"\",\"zerolinecolor\":\"white\",\"gridwidth\":2}},\"shapedefaults\":{\"line\":{\"color\":\"#2a3f5f\"}},\"annotationdefaults\":{\"arrowcolor\":\"#2a3f5f\",\"arrowhead\":0,\"arrowwidth\":1},\"geo\":{\"bgcolor\":\"white\",\"landcolor\":\"#E5ECF6\",\"subunitcolor\":\"white\",\"showland\":true,\"showlakes\":true,\"lakecolor\":\"white\"},\"title\":{\"x\":0.05},\"mapbox\":{\"style\":\"light\"}}},\"xaxis\":{\"anchor\":\"y\",\"domain\":[0.0,1.0]},\"yaxis\":{\"anchor\":\"x\",\"domain\":[0.0,1.0],\"title\":{\"text\":\"price\"}},\"legend\":{\"title\":{\"text\":\"model_year\"},\"tracegroupgap\":0},\"title\":{\"text\":\"Box plot of the Bike Price w.r.t. model_year(Hover for details)\"},\"boxmode\":\"group\",\"height\":600,\"width\":800},                        {\"responsive\": true}                    ).then(function(){\n",
       "                            \n",
       "var gd = document.getElementById('28f48bbc-d178-448b-a1e5-0539c47ca1ea');\n",
       "var x = new MutationObserver(function (mutations, observer) {{\n",
       "        var display = window.getComputedStyle(gd).display;\n",
       "        if (!display || display === 'none') {{\n",
       "            console.log([gd, 'removed!']);\n",
       "            Plotly.purge(gd);\n",
       "            observer.disconnect();\n",
       "        }}\n",
       "}});\n",
       "\n",
       "// Listen for the removal of the full notebook cells\n",
       "var notebookContainer = gd.closest('#notebook-container');\n",
       "if (notebookContainer) {{\n",
       "    x.observe(notebookContainer, {childList: true});\n",
       "}}\n",
       "\n",
       "// Listen for the clearing of the current output cell\n",
       "var outputEl = gd.closest('.output');\n",
       "if (outputEl) {{\n",
       "    x.observe(outputEl, {childList: true});\n",
       "}}\n",
       "\n",
       "                        })                };                });            </script>        </div>"
      ]
     },
     "metadata": {},
     "output_type": "display_data"
    }
   ],
   "source": [
    "fig = px.box(data_frame = train_data,hover_name = 'bike_id',\n",
    "             y = 'price', color = 'model_year', width = 800,height = 600, title = 'Box plot of the Bike Price w.r.t. model_year(Hover for details)')\n",
    "fig.show()"
   ]
  },
  {
   "cell_type": "code",
   "execution_count": 16,
   "id": "288cce6c",
   "metadata": {
    "execution": {
     "iopub.execute_input": "2022-11-08T08:25:37.900004Z",
     "iopub.status.busy": "2022-11-08T08:25:37.898916Z",
     "iopub.status.idle": "2022-11-08T08:25:38.077462Z",
     "shell.execute_reply": "2022-11-08T08:25:38.076582Z"
    },
    "papermill": {
     "duration": 0.202191,
     "end_time": "2022-11-08T08:25:38.079974",
     "exception": false,
     "start_time": "2022-11-08T08:25:37.877783",
     "status": "completed"
    },
    "tags": []
   },
   "outputs": [
    {
     "data": {
      "image/png": "[encoded data removed]",
      "text/plain": [
       "<Figure size 432x288 with 1 Axes>"
      ]
     },
     "metadata": {
      "needs_background": "light"
     },
     "output_type": "display_data"
    }
   ],
   "source": [
    "plt.scatter(x='model_year' , y='price', data=train_data)\n",
    "# plt.scatter(x='model_year' , y='price', data=train_data, c='green', vmin=0, vmax=100, cmap='rainbow')\n",
    "\n",
    "# Change the X and Y ranges\n",
    "# plt.xlim( - , - )\n",
    "# plt.ylim( - , - )\n",
    "\n",
    "# Add in labels for the axes\n",
    "plt.ylabel('Price - p*10^6', fontsize=14)\n",
    "plt.xlabel('Model Year', fontsize=14)\n",
    "\n",
    "# Make the colorbar show\n",
    "# plt.colorbar(label='Gamma Ray - API')\n",
    "\n",
    "plt.show()"
   ]
  },
  {
   "cell_type": "code",
   "execution_count": 17,
   "id": "e09da1db",
   "metadata": {
    "execution": {
     "iopub.execute_input": "2022-11-08T08:25:38.118501Z",
     "iopub.status.busy": "2022-11-08T08:25:38.117733Z",
     "iopub.status.idle": "2022-11-08T08:25:38.565130Z",
     "shell.execute_reply": "2022-11-08T08:25:38.563913Z"
    },
    "papermill": {
     "duration": 0.469482,
     "end_time": "2022-11-08T08:25:38.567574",
     "exception": false,
     "start_time": "2022-11-08T08:25:38.098092",
     "status": "completed"
    },
    "tags": []
   },
   "outputs": [
    {
     "data": {
      "text/plain": [
       "<AxesSubplot:xlabel='price', ylabel='Count'>"
      ]
     },
     "execution_count": 17,
     "metadata": {},
     "output_type": "execute_result"
    },
    {
     "data": {
      "image/png": "[encoded data removed]",
      "text/plain": [
       "<Figure size 1080x576 with 1 Axes>"
      ]
     },
     "metadata": {},
     "output_type": "display_data"
    }
   ],
   "source": [
    "sns.set(rc = {'figure.figsize':(15,8)})\n",
    "sns.histplot(train_data['price'], kde=True, bins=20)"
   ]
  },
  {
   "cell_type": "markdown",
   "id": "6842145e",
   "metadata": {
    "papermill": {
     "duration": 0.018276,
     "end_time": "2022-11-08T08:25:38.604562",
     "exception": false,
     "start_time": "2022-11-08T08:25:38.586286",
     "status": "completed"
    },
    "tags": []
   },
   "source": [
    "# *Removing Outliers*"
   ]
  },
  {
   "cell_type": "markdown",
   "id": "aa781f1a",
   "metadata": {
    "papermill": {
     "duration": 0.018253,
     "end_time": "2022-11-08T08:25:38.641422",
     "exception": false,
     "start_time": "2022-11-08T08:25:38.623169",
     "status": "completed"
    },
    "tags": []
   },
   "source": [
    "**As we can see from the above graphs that there are a lot of outliers so we set a threshold for the *PRICE* and *MODEL_YEAR*. Here I have taken it to be 500000 for PRICE and 1995 for MODEL_YEAR (purely arbitary choice).**"
   ]
  },
  {
   "cell_type": "code",
   "execution_count": 18,
   "id": "b5c06ad1",
   "metadata": {
    "execution": {
     "iopub.execute_input": "2022-11-08T08:25:38.680758Z",
     "iopub.status.busy": "2022-11-08T08:25:38.680332Z",
     "iopub.status.idle": "2022-11-08T08:25:39.059917Z",
     "shell.execute_reply": "2022-11-08T08:25:39.058948Z"
    },
    "papermill": {
     "duration": 0.402544,
     "end_time": "2022-11-08T08:25:39.062890",
     "exception": false,
     "start_time": "2022-11-08T08:25:38.660346",
     "status": "completed"
    },
    "tags": []
   },
   "outputs": [
    {
     "name": "stdout",
     "output_type": "stream",
     "text": [
      "Total number of data points removed till now are: 233\n"
     ]
    }
   ],
   "source": [
    "removed = 0\n",
    "threshold1 = 450000\n",
    "threshold2 = 2005\n",
    "for i in train_data.index:\n",
    "    if (train_data['price'][i]>threshold1) or (train_data['model_year'][i]<threshold2):\n",
    "        train_data = train_data.drop(i)\n",
    "        removed+=1\n",
    "print('Total number of data points removed till now are: '+str(removed))"
   ]
  },
  {
   "cell_type": "markdown",
   "id": "d3e74d00",
   "metadata": {
    "papermill": {
     "duration": 0.018564,
     "end_time": "2022-11-08T08:25:39.101805",
     "exception": false,
     "start_time": "2022-11-08T08:25:39.083241",
     "status": "completed"
    },
    "tags": []
   },
   "source": [
    "**Since we do not want to remove too many data ponts, we will keep a track of how many data points have been removed. Here we have removed around 4% of the total dataset which seem like outliers.**# *3.4 Visualising Categorical Features*"
   ]
  },
  {
   "cell_type": "markdown",
   "id": "426b8184",
   "metadata": {
    "papermill": {
     "duration": 0.018904,
     "end_time": "2022-11-08T08:25:39.139514",
     "exception": false,
     "start_time": "2022-11-08T08:25:39.120610",
     "status": "completed"
    },
    "tags": []
   },
   "source": [
    "# *3.4 Visualising Categorical Features*"
   ]
  },
  {
   "cell_type": "markdown",
   "id": "5965fd61",
   "metadata": {
    "papermill": {
     "duration": 0.018609,
     "end_time": "2022-11-08T08:25:39.177510",
     "exception": false,
     "start_time": "2022-11-08T08:25:39.158901",
     "status": "completed"
    },
    "tags": []
   },
   "source": [
    "**Shows Model Years of the bikes with their respective percentages**"
   ]
  },
  {
   "cell_type": "code",
   "execution_count": 19,
   "id": "6fba1336",
   "metadata": {
    "execution": {
     "iopub.execute_input": "2022-11-08T08:25:39.218542Z",
     "iopub.status.busy": "2022-11-08T08:25:39.217761Z",
     "iopub.status.idle": "2022-11-08T08:25:39.655412Z",
     "shell.execute_reply": "2022-11-08T08:25:39.653975Z"
    },
    "papermill": {
     "duration": 0.461489,
     "end_time": "2022-11-08T08:25:39.658194",
     "exception": false,
     "start_time": "2022-11-08T08:25:39.196705",
     "status": "completed"
    },
    "tags": []
   },
   "outputs": [
    {
     "data": {
      "image/png": "[encoded data removed]",
      "text/plain": [
       "<Figure size 1080x1440 with 1 Axes>"
      ]
     },
     "metadata": {},
     "output_type": "display_data"
    }
   ],
   "source": [
    "labels = train_data['model_year'].astype('category').cat.categories.tolist()\n",
    "counts = train_data['model_year'].value_counts()\n",
    "sizes = [counts[var_cat] for var_cat in labels]\n",
    "fig1, ax1 = plt.subplots(figsize = (15,20))\n",
    "ax1.pie(sizes, labels=labels, autopct='%1.1f%%', shadow=True) #autopct is show the % on plot\n",
    "ax1.axis('equal')\n",
    "plt.show()"
   ]
  },
  {
   "cell_type": "markdown",
   "id": "a003c001",
   "metadata": {
    "papermill": {
     "duration": 0.022144,
     "end_time": "2022-11-08T08:25:39.703346",
     "exception": false,
     "start_time": "2022-11-08T08:25:39.681202",
     "status": "completed"
    },
    "tags": []
   },
   "source": [
    "**Shows Owners of the bikes with their respective percentages**"
   ]
  },
  {
   "cell_type": "code",
   "execution_count": 20,
   "id": "d55e3adb",
   "metadata": {
    "execution": {
     "iopub.execute_input": "2022-11-08T08:25:39.752062Z",
     "iopub.status.busy": "2022-11-08T08:25:39.751051Z",
     "iopub.status.idle": "2022-11-08T08:25:40.043926Z",
     "shell.execute_reply": "2022-11-08T08:25:40.042814Z"
    },
    "papermill": {
     "duration": 0.319945,
     "end_time": "2022-11-08T08:25:40.046297",
     "exception": false,
     "start_time": "2022-11-08T08:25:39.726352",
     "status": "completed"
    },
    "tags": []
   },
   "outputs": [
    {
     "data": {
      "image/png": "[encoded data removed]",
      "text/plain": [
       "<Figure size 1080x1440 with 1 Axes>"
      ]
     },
     "metadata": {},
     "output_type": "display_data"
    }
   ],
   "source": [
    "labels = train_data['owner'].astype('category').cat.categories.tolist()\n",
    "counts = train_data['owner'].value_counts()\n",
    "sizes = [counts[var_cat] for var_cat in labels]\n",
    "fig1, ax1 = plt.subplots(figsize = (15,20))\n",
    "ax1.pie(sizes, labels=labels, autopct='%1.1f%%', shadow=True) #autopct is show the % on plot\n",
    "ax1.axis('equal')\n",
    "plt.show()"
   ]
  },
  {
   "cell_type": "markdown",
   "id": "2484658b",
   "metadata": {
    "papermill": {
     "duration": 0.024639,
     "end_time": "2022-11-08T08:25:40.095418",
     "exception": false,
     "start_time": "2022-11-08T08:25:40.070779",
     "status": "completed"
    },
    "tags": []
   },
   "source": [
    "# *3.5 Encoding For Categorical Variables*"
   ]
  },
  {
   "cell_type": "code",
   "execution_count": 21,
   "id": "9d9a5ea0",
   "metadata": {
    "execution": {
     "iopub.execute_input": "2022-11-08T08:25:40.147196Z",
     "iopub.status.busy": "2022-11-08T08:25:40.146427Z",
     "iopub.status.idle": "2022-11-08T08:25:40.160133Z",
     "shell.execute_reply": "2022-11-08T08:25:40.158739Z"
    },
    "papermill": {
     "duration": 0.041827,
     "end_time": "2022-11-08T08:25:40.162608",
     "exception": false,
     "start_time": "2022-11-08T08:25:40.120781",
     "status": "completed"
    },
    "tags": []
   },
   "outputs": [
    {
     "name": "stdout",
     "output_type": "stream",
     "text": [
      "\n",
      "\n",
      "List of Categorical features: \n",
      " ['model_name', 'kms_driven', 'owner', 'location', 'mileage', 'power']\n",
      "\n",
      "\n",
      "Distinct Values in model_name : 1394\n",
      "Distinct Values in kms_driven : 1413\n",
      "Distinct Values in owner : 4\n",
      "Distinct Values in location : 474\n",
      "Distinct Values in mileage : 100\n",
      "Distinct Values in power : 206\n"
     ]
    }
   ],
   "source": [
    "categorical_vars = train_data.select_dtypes(include=['object']).columns.tolist()\n",
    "    \n",
    "print(\"\\n\\nList of Categorical features: \\n\" , categorical_vars)\n",
    "print(\"\\n\")\n",
    "for x in categorical_vars:\n",
    "    print(\"Distinct Values in \" + x + \" : \" + str(len(pd.unique(train_data[x]))) ) "
   ]
  },
  {
   "cell_type": "markdown",
   "id": "3a95cb34",
   "metadata": {
    "papermill": {
     "duration": 0.023982,
     "end_time": "2022-11-08T08:25:40.211092",
     "exception": false,
     "start_time": "2022-11-08T08:25:40.187110",
     "status": "completed"
    },
    "tags": []
   },
   "source": [
    "* Since owner has  have few distinct values we can safely apply dummy variable encoding or One hot encoding.\n",
    "* model_name, kms_driven, location, mileage and power have so many distinct values hence label encoding can be used."
   ]
  },
  {
   "cell_type": "markdown",
   "id": "98cbe976",
   "metadata": {
    "papermill": {
     "duration": 0.024228,
     "end_time": "2022-11-08T08:25:40.260600",
     "exception": false,
     "start_time": "2022-11-08T08:25:40.236372",
     "status": "completed"
    },
    "tags": []
   },
   "source": [
    "**3.5.1 Dummy Variable Encoding for owner**"
   ]
  },
  {
   "cell_type": "code",
   "execution_count": 22,
   "id": "fe11d15e",
   "metadata": {
    "execution": {
     "iopub.execute_input": "2022-11-08T08:25:40.313223Z",
     "iopub.status.busy": "2022-11-08T08:25:40.312519Z",
     "iopub.status.idle": "2022-11-08T08:25:40.335657Z",
     "shell.execute_reply": "2022-11-08T08:25:40.334482Z"
    },
    "papermill": {
     "duration": 0.05286,
     "end_time": "2022-11-08T08:25:40.338141",
     "exception": false,
     "start_time": "2022-11-08T08:25:40.285281",
     "status": "completed"
    },
    "tags": []
   },
   "outputs": [
    {
     "data": {
      "text/html": [
       "<div>\n",
       "<style scoped>\n",
       "    .dataframe tbody tr th:only-of-type {\n",
       "        vertical-align: middle;\n",
       "    }\n",
       "\n",
       "    .dataframe tbody tr th {\n",
       "        vertical-align: top;\n",
       "    }\n",
       "\n",
       "    .dataframe thead th {\n",
       "        text-align: right;\n",
       "    }\n",
       "</style>\n",
       "<table border=\"1\" class=\"dataframe\">\n",
       "  <thead>\n",
       "    <tr style=\"text-align: right;\">\n",
       "      <th></th>\n",
       "      <th>bike_id</th>\n",
       "      <th>model_name</th>\n",
       "      <th>model_year</th>\n",
       "      <th>kms_driven</th>\n",
       "      <th>location</th>\n",
       "      <th>mileage</th>\n",
       "      <th>power</th>\n",
       "      <th>price</th>\n",
       "      <th>first owner</th>\n",
       "      <th>fourth owner or more</th>\n",
       "      <th>second owner</th>\n",
       "      <th>third owner</th>\n",
       "    </tr>\n",
       "  </thead>\n",
       "  <tbody>\n",
       "    <tr>\n",
       "      <th>0</th>\n",
       "      <td>0</td>\n",
       "      <td>Bajaj V15 150cc 2017</td>\n",
       "      <td>2017</td>\n",
       "      <td>14000 Km</td>\n",
       "      <td>faridabad</td>\n",
       "      <td>57 kmpl</td>\n",
       "      <td>11.80 bhp</td>\n",
       "      <td>37000</td>\n",
       "      <td>1</td>\n",
       "      <td>0</td>\n",
       "      <td>0</td>\n",
       "      <td>0</td>\n",
       "    </tr>\n",
       "    <tr>\n",
       "      <th>1</th>\n",
       "      <td>1</td>\n",
       "      <td>Royal Enfield Classic 350cc 2015</td>\n",
       "      <td>2015</td>\n",
       "      <td>25350 Km</td>\n",
       "      <td>bangalore</td>\n",
       "      <td>35 kmpl</td>\n",
       "      <td>19.80 Bhp</td>\n",
       "      <td>103900</td>\n",
       "      <td>1</td>\n",
       "      <td>0</td>\n",
       "      <td>0</td>\n",
       "      <td>0</td>\n",
       "    </tr>\n",
       "    <tr>\n",
       "      <th>2</th>\n",
       "      <td>2</td>\n",
       "      <td>TVS Apache RTR 160cc 2019</td>\n",
       "      <td>2019</td>\n",
       "      <td>Mileage 60 Kmpl</td>\n",
       "      <td>etawah</td>\n",
       "      <td>60 Kmpl</td>\n",
       "      <td>15.2 bhp</td>\n",
       "      <td>85000</td>\n",
       "      <td>1</td>\n",
       "      <td>0</td>\n",
       "      <td>0</td>\n",
       "      <td>0</td>\n",
       "    </tr>\n",
       "    <tr>\n",
       "      <th>3</th>\n",
       "      <td>3</td>\n",
       "      <td>Royal Enfield Classic 500cc 2017</td>\n",
       "      <td>2017</td>\n",
       "      <td>14000 Km</td>\n",
       "      <td>bangalore</td>\n",
       "      <td>35 kmpl</td>\n",
       "      <td>27.20 bhp</td>\n",
       "      <td>140000</td>\n",
       "      <td>1</td>\n",
       "      <td>0</td>\n",
       "      <td>0</td>\n",
       "      <td>0</td>\n",
       "    </tr>\n",
       "    <tr>\n",
       "      <th>4</th>\n",
       "      <td>4</td>\n",
       "      <td>TVS Apache RTR 200 4V FI 2017</td>\n",
       "      <td>2017</td>\n",
       "      <td>Mileage 40 Kmpl</td>\n",
       "      <td>delhi</td>\n",
       "      <td>40 Kmpl</td>\n",
       "      <td>20.70 bhp</td>\n",
       "      <td>75000</td>\n",
       "      <td>1</td>\n",
       "      <td>0</td>\n",
       "      <td>0</td>\n",
       "      <td>0</td>\n",
       "    </tr>\n",
       "    <tr>\n",
       "      <th>5</th>\n",
       "      <td>5</td>\n",
       "      <td>TVS Apache RTR 200 4V Carburetor 2017</td>\n",
       "      <td>2017</td>\n",
       "      <td>Mileage 40 Kmpl</td>\n",
       "      <td>noida</td>\n",
       "      <td>40 Kmpl</td>\n",
       "      <td>20.70 bhp</td>\n",
       "      <td>70000</td>\n",
       "      <td>1</td>\n",
       "      <td>0</td>\n",
       "      <td>0</td>\n",
       "      <td>0</td>\n",
       "    </tr>\n",
       "    <tr>\n",
       "      <th>6</th>\n",
       "      <td>6</td>\n",
       "      <td>TVS Apache RR310 Slipper Clutch 2019</td>\n",
       "      <td>2019</td>\n",
       "      <td>5000 Km</td>\n",
       "      <td>delhi</td>\n",
       "      <td>22 kmpl</td>\n",
       "      <td>33 bhp</td>\n",
       "      <td>185000</td>\n",
       "      <td>1</td>\n",
       "      <td>0</td>\n",
       "      <td>0</td>\n",
       "      <td>0</td>\n",
       "    </tr>\n",
       "    <tr>\n",
       "      <th>7</th>\n",
       "      <td>7</td>\n",
       "      <td>Bajaj Pulsar 220F 2017</td>\n",
       "      <td>2017</td>\n",
       "      <td>20012 Km</td>\n",
       "      <td>noida</td>\n",
       "      <td>38 kmpl</td>\n",
       "      <td>21 bhp</td>\n",
       "      <td>56000</td>\n",
       "      <td>1</td>\n",
       "      <td>0</td>\n",
       "      <td>0</td>\n",
       "      <td>0</td>\n",
       "    </tr>\n",
       "    <tr>\n",
       "      <th>8</th>\n",
       "      <td>8</td>\n",
       "      <td>Honda CBR 150R 150cc 2017</td>\n",
       "      <td>2017</td>\n",
       "      <td>Mileage 38 Kmpl</td>\n",
       "      <td>gurgaon</td>\n",
       "      <td>38 Kmpl</td>\n",
       "      <td>18.28 bhp</td>\n",
       "      <td>70000</td>\n",
       "      <td>1</td>\n",
       "      <td>0</td>\n",
       "      <td>0</td>\n",
       "      <td>0</td>\n",
       "    </tr>\n",
       "    <tr>\n",
       "      <th>10</th>\n",
       "      <td>10</td>\n",
       "      <td>KTM RC 390cc 2017</td>\n",
       "      <td>2017</td>\n",
       "      <td>1900 Km</td>\n",
       "      <td>delhi</td>\n",
       "      <td>26kmpl</td>\n",
       "      <td>42.30 bhp</td>\n",
       "      <td>23000</td>\n",
       "      <td>1</td>\n",
       "      <td>0</td>\n",
       "      <td>0</td>\n",
       "      <td>0</td>\n",
       "    </tr>\n",
       "  </tbody>\n",
       "</table>\n",
       "</div>"
      ],
      "text/plain": [
       "    bike_id                             model_name  model_year  \\\n",
       "0         0                   Bajaj V15 150cc 2017        2017   \n",
       "1         1       Royal Enfield Classic 350cc 2015        2015   \n",
       "2         2              TVS Apache RTR 160cc 2019        2019   \n",
       "3         3       Royal Enfield Classic 500cc 2017        2017   \n",
       "4         4          TVS Apache RTR 200 4V FI 2017        2017   \n",
       "5         5  TVS Apache RTR 200 4V Carburetor 2017        2017   \n",
       "6         6   TVS Apache RR310 Slipper Clutch 2019        2019   \n",
       "7         7                 Bajaj Pulsar 220F 2017        2017   \n",
       "8         8              Honda CBR 150R 150cc 2017        2017   \n",
       "10       10                      KTM RC 390cc 2017        2017   \n",
       "\n",
       "         kms_driven   location   mileage      power   price  first owner  \\\n",
       "0          14000 Km  faridabad   57 kmpl  11.80 bhp   37000            1   \n",
       "1          25350 Km  bangalore   35 kmpl  19.80 Bhp  103900            1   \n",
       "2   Mileage 60 Kmpl     etawah   60 Kmpl   15.2 bhp   85000            1   \n",
       "3          14000 Km  bangalore   35 kmpl  27.20 bhp  140000            1   \n",
       "4   Mileage 40 Kmpl      delhi   40 Kmpl  20.70 bhp   75000            1   \n",
       "5   Mileage 40 Kmpl      noida   40 Kmpl  20.70 bhp   70000            1   \n",
       "6           5000 Km      delhi   22 kmpl     33 bhp  185000            1   \n",
       "7          20012 Km      noida   38 kmpl     21 bhp   56000            1   \n",
       "8   Mileage 38 Kmpl    gurgaon   38 Kmpl  18.28 bhp   70000            1   \n",
       "10          1900 Km      delhi    26kmpl  42.30 bhp   23000            1   \n",
       "\n",
       "    fourth owner or more  second owner  third owner  \n",
       "0                      0             0            0  \n",
       "1                      0             0            0  \n",
       "2                      0             0            0  \n",
       "3                      0             0            0  \n",
       "4                      0             0            0  \n",
       "5                      0             0            0  \n",
       "6                      0             0            0  \n",
       "7                      0             0            0  \n",
       "8                      0             0            0  \n",
       "10                     0             0            0  "
      ]
     },
     "execution_count": 22,
     "metadata": {},
     "output_type": "execute_result"
    }
   ],
   "source": [
    "# WE CREATE DUMMY VARIABLES FOR OWNER ATTRIBUTE\n",
    "# IT WILL ASSIGN 0 AND 1 TO ALL TYPES OF OWNERS\n",
    "dummies = pd.get_dummies(train_data.owner)\n",
    "\n",
    "# NOW ADDING DUMMY VARIABLE TO THE TRAIN_DATA\n",
    "train_data = pd.concat([train_data,dummies], axis='columns')\n",
    "\n",
    "# NOW AS WE HAVE ADDED THE DUMMY VARIABLE WE CAN REMOVE THE \"OWNER\" ATTRIBUTE\n",
    "train_data = train_data.drop(['owner'], axis='columns')\n",
    "train_data.head(10)"
   ]
  },
  {
   "cell_type": "markdown",
   "id": "1c5dcd7c",
   "metadata": {
    "papermill": {
     "duration": 0.024892,
     "end_time": "2022-11-08T08:25:40.388803",
     "exception": false,
     "start_time": "2022-11-08T08:25:40.363911",
     "status": "completed"
    },
    "tags": []
   },
   "source": [
    "**3.5.2 Label Encoding for model_name, kms_driven, location, mileage and power**"
   ]
  },
  {
   "cell_type": "markdown",
   "id": "3d6f9f2a",
   "metadata": {
    "papermill": {
     "duration": 0.024575,
     "end_time": "2022-11-08T08:25:40.438564",
     "exception": false,
     "start_time": "2022-11-08T08:25:40.413989",
     "status": "completed"
    },
    "tags": []
   },
   "source": [
    "*This will assign unique integer values to each of the columns {model_name, kms_driven, location, mileage and power} starting from 0 to the number of unique values - 1*"
   ]
  },
  {
   "cell_type": "code",
   "execution_count": 23,
   "id": "c388ee86",
   "metadata": {
    "execution": {
     "iopub.execute_input": "2022-11-08T08:25:40.490060Z",
     "iopub.status.busy": "2022-11-08T08:25:40.489698Z",
     "iopub.status.idle": "2022-11-08T08:25:40.523432Z",
     "shell.execute_reply": "2022-11-08T08:25:40.522316Z"
    },
    "papermill": {
     "duration": 0.061998,
     "end_time": "2022-11-08T08:25:40.525760",
     "exception": false,
     "start_time": "2022-11-08T08:25:40.463762",
     "status": "completed"
    },
    "tags": []
   },
   "outputs": [
    {
     "data": {
      "text/html": [
       "<div>\n",
       "<style scoped>\n",
       "    .dataframe tbody tr th:only-of-type {\n",
       "        vertical-align: middle;\n",
       "    }\n",
       "\n",
       "    .dataframe tbody tr th {\n",
       "        vertical-align: top;\n",
       "    }\n",
       "\n",
       "    .dataframe thead th {\n",
       "        text-align: right;\n",
       "    }\n",
       "</style>\n",
       "<table border=\"1\" class=\"dataframe\">\n",
       "  <thead>\n",
       "    <tr style=\"text-align: right;\">\n",
       "      <th></th>\n",
       "      <th>bike_id</th>\n",
       "      <th>model_name</th>\n",
       "      <th>model_year</th>\n",
       "      <th>kms_driven</th>\n",
       "      <th>location</th>\n",
       "      <th>mileage</th>\n",
       "      <th>power</th>\n",
       "      <th>price</th>\n",
       "      <th>first owner</th>\n",
       "      <th>fourth owner or more</th>\n",
       "      <th>second owner</th>\n",
       "      <th>third owner</th>\n",
       "    </tr>\n",
       "  </thead>\n",
       "  <tbody>\n",
       "    <tr>\n",
       "      <th>0</th>\n",
       "      <td>0</td>\n",
       "      <td>292</td>\n",
       "      <td>2017</td>\n",
       "      <td>180</td>\n",
       "      <td>150</td>\n",
       "      <td>64</td>\n",
       "      <td>16</td>\n",
       "      <td>37000</td>\n",
       "      <td>1</td>\n",
       "      <td>0</td>\n",
       "      <td>0</td>\n",
       "      <td>0</td>\n",
       "    </tr>\n",
       "    <tr>\n",
       "      <th>1</th>\n",
       "      <td>1</td>\n",
       "      <td>908</td>\n",
       "      <td>2015</td>\n",
       "      <td>629</td>\n",
       "      <td>52</td>\n",
       "      <td>27</td>\n",
       "      <td>82</td>\n",
       "      <td>103900</td>\n",
       "      <td>1</td>\n",
       "      <td>0</td>\n",
       "      <td>0</td>\n",
       "      <td>0</td>\n",
       "    </tr>\n",
       "    <tr>\n",
       "      <th>2</th>\n",
       "      <td>2</td>\n",
       "      <td>1154</td>\n",
       "      <td>2019</td>\n",
       "      <td>1400</td>\n",
       "      <td>149</td>\n",
       "      <td>68</td>\n",
       "      <td>48</td>\n",
       "      <td>85000</td>\n",
       "      <td>1</td>\n",
       "      <td>0</td>\n",
       "      <td>0</td>\n",
       "      <td>0</td>\n",
       "    </tr>\n",
       "    <tr>\n",
       "      <th>3</th>\n",
       "      <td>3</td>\n",
       "      <td>939</td>\n",
       "      <td>2017</td>\n",
       "      <td>180</td>\n",
       "      <td>52</td>\n",
       "      <td>27</td>\n",
       "      <td>128</td>\n",
       "      <td>140000</td>\n",
       "      <td>1</td>\n",
       "      <td>0</td>\n",
       "      <td>0</td>\n",
       "      <td>0</td>\n",
       "    </tr>\n",
       "    <tr>\n",
       "      <th>4</th>\n",
       "      <td>4</td>\n",
       "      <td>1196</td>\n",
       "      <td>2017</td>\n",
       "      <td>1392</td>\n",
       "      <td>133</td>\n",
       "      <td>35</td>\n",
       "      <td>92</td>\n",
       "      <td>75000</td>\n",
       "      <td>1</td>\n",
       "      <td>0</td>\n",
       "      <td>0</td>\n",
       "      <td>0</td>\n",
       "    </tr>\n",
       "    <tr>\n",
       "      <th>5</th>\n",
       "      <td>5</td>\n",
       "      <td>1185</td>\n",
       "      <td>2017</td>\n",
       "      <td>1392</td>\n",
       "      <td>340</td>\n",
       "      <td>35</td>\n",
       "      <td>92</td>\n",
       "      <td>70000</td>\n",
       "      <td>1</td>\n",
       "      <td>0</td>\n",
       "      <td>0</td>\n",
       "      <td>0</td>\n",
       "    </tr>\n",
       "    <tr>\n",
       "      <th>6</th>\n",
       "      <td>6</td>\n",
       "      <td>1125</td>\n",
       "      <td>2019</td>\n",
       "      <td>1060</td>\n",
       "      <td>133</td>\n",
       "      <td>9</td>\n",
       "      <td>138</td>\n",
       "      <td>185000</td>\n",
       "      <td>1</td>\n",
       "      <td>0</td>\n",
       "      <td>0</td>\n",
       "      <td>0</td>\n",
       "    </tr>\n",
       "    <tr>\n",
       "      <th>7</th>\n",
       "      <td>7</td>\n",
       "      <td>224</td>\n",
       "      <td>2017</td>\n",
       "      <td>440</td>\n",
       "      <td>340</td>\n",
       "      <td>31</td>\n",
       "      <td>94</td>\n",
       "      <td>56000</td>\n",
       "      <td>1</td>\n",
       "      <td>0</td>\n",
       "      <td>0</td>\n",
       "      <td>0</td>\n",
       "    </tr>\n",
       "    <tr>\n",
       "      <th>8</th>\n",
       "      <td>8</td>\n",
       "      <td>673</td>\n",
       "      <td>2017</td>\n",
       "      <td>1390</td>\n",
       "      <td>179</td>\n",
       "      <td>30</td>\n",
       "      <td>74</td>\n",
       "      <td>70000</td>\n",
       "      <td>1</td>\n",
       "      <td>0</td>\n",
       "      <td>0</td>\n",
       "      <td>0</td>\n",
       "    </tr>\n",
       "    <tr>\n",
       "      <th>10</th>\n",
       "      <td>10</td>\n",
       "      <td>816</td>\n",
       "      <td>2017</td>\n",
       "      <td>398</td>\n",
       "      <td>133</td>\n",
       "      <td>16</td>\n",
       "      <td>146</td>\n",
       "      <td>23000</td>\n",
       "      <td>1</td>\n",
       "      <td>0</td>\n",
       "      <td>0</td>\n",
       "      <td>0</td>\n",
       "    </tr>\n",
       "  </tbody>\n",
       "</table>\n",
       "</div>"
      ],
      "text/plain": [
       "    bike_id  model_name  model_year  kms_driven  location  mileage  power  \\\n",
       "0         0         292        2017         180       150       64     16   \n",
       "1         1         908        2015         629        52       27     82   \n",
       "2         2        1154        2019        1400       149       68     48   \n",
       "3         3         939        2017         180        52       27    128   \n",
       "4         4        1196        2017        1392       133       35     92   \n",
       "5         5        1185        2017        1392       340       35     92   \n",
       "6         6        1125        2019        1060       133        9    138   \n",
       "7         7         224        2017         440       340       31     94   \n",
       "8         8         673        2017        1390       179       30     74   \n",
       "10       10         816        2017         398       133       16    146   \n",
       "\n",
       "     price  first owner  fourth owner or more  second owner  third owner  \n",
       "0    37000            1                     0             0            0  \n",
       "1   103900            1                     0             0            0  \n",
       "2    85000            1                     0             0            0  \n",
       "3   140000            1                     0             0            0  \n",
       "4    75000            1                     0             0            0  \n",
       "5    70000            1                     0             0            0  \n",
       "6   185000            1                     0             0            0  \n",
       "7    56000            1                     0             0            0  \n",
       "8    70000            1                     0             0            0  \n",
       "10   23000            1                     0             0            0  "
      ]
     },
     "execution_count": 23,
     "metadata": {},
     "output_type": "execute_result"
    }
   ],
   "source": [
    "num = LabelEncoder()\n",
    "\n",
    "label_col = ['model_name', 'kms_driven', 'location', 'mileage', 'power']\n",
    "\n",
    "for x in label_col:\n",
    "    train_data[x] = num.fit_transform(train_data[x].astype(str))\n",
    "  \n",
    "train_data.head(10)"
   ]
  },
  {
   "cell_type": "markdown",
   "id": "7216c6cc",
   "metadata": {
    "papermill": {
     "duration": 0.024919,
     "end_time": "2022-11-08T08:25:40.576976",
     "exception": false,
     "start_time": "2022-11-08T08:25:40.552057",
     "status": "completed"
    },
    "tags": []
   },
   "source": [
    "# **4. Exploratory Data Analysis 📉**"
   ]
  },
  {
   "cell_type": "markdown",
   "id": "a9792c17",
   "metadata": {
    "papermill": {
     "duration": 0.02497,
     "end_time": "2022-11-08T08:25:40.627128",
     "exception": false,
     "start_time": "2022-11-08T08:25:40.602158",
     "status": "completed"
    },
    "tags": []
   },
   "source": [
    "**We find the correlation of all attributes with the target attribute ie. \"price\"**"
   ]
  },
  {
   "cell_type": "code",
   "execution_count": 24,
   "id": "f77b445b",
   "metadata": {
    "execution": {
     "iopub.execute_input": "2022-11-08T08:25:40.679131Z",
     "iopub.status.busy": "2022-11-08T08:25:40.678753Z",
     "iopub.status.idle": "2022-11-08T08:25:40.690907Z",
     "shell.execute_reply": "2022-11-08T08:25:40.689377Z"
    },
    "papermill": {
     "duration": 0.040912,
     "end_time": "2022-11-08T08:25:40.693231",
     "exception": false,
     "start_time": "2022-11-08T08:25:40.652319",
     "status": "completed"
    },
    "tags": []
   },
   "outputs": [
    {
     "name": "stdout",
     "output_type": "stream",
     "text": [
      "price                   1.000000\n",
      "model_year              0.450817\n",
      "power                   0.259414\n",
      "model_name              0.210821\n",
      "first owner             0.083188\n",
      "location                0.065799\n",
      "bike_id                 0.008865\n",
      "third owner            -0.038687\n",
      "fourth owner or more   -0.053010\n",
      "second owner           -0.059233\n",
      "kms_driven             -0.212279\n",
      "mileage                -0.571362\n",
      "Name: price, dtype: float64 \n",
      "\n"
     ]
    }
   ],
   "source": [
    "corr = train_data.corr()\n",
    "print(corr['price'].sort_values(ascending=False), '\\n')"
   ]
  },
  {
   "cell_type": "markdown",
   "id": "799cc25a",
   "metadata": {
    "papermill": {
     "duration": 0.0248,
     "end_time": "2022-11-08T08:25:40.743127",
     "exception": false,
     "start_time": "2022-11-08T08:25:40.718327",
     "status": "completed"
    },
    "tags": []
   },
   "source": [
    "**As we can observe the attributes \"bike_id\" and \"third_owner\" are having very low correlation with target variable. So we can remove them to improve oyr model.**"
   ]
  },
  {
   "cell_type": "code",
   "execution_count": 25,
   "id": "4ff394d8",
   "metadata": {
    "execution": {
     "iopub.execute_input": "2022-11-08T08:25:40.795685Z",
     "iopub.status.busy": "2022-11-08T08:25:40.794997Z",
     "iopub.status.idle": "2022-11-08T08:25:42.128994Z",
     "shell.execute_reply": "2022-11-08T08:25:42.127774Z"
    },
    "papermill": {
     "duration": 1.365283,
     "end_time": "2022-11-08T08:25:42.133381",
     "exception": false,
     "start_time": "2022-11-08T08:25:40.768098",
     "status": "completed"
    },
    "tags": []
   },
   "outputs": [
    {
     "data": {
      "text/plain": [
       "Text(0.5, 1.0, 'Multi-Collinearity of Features')"
      ]
     },
     "execution_count": 25,
     "metadata": {},
     "output_type": "execute_result"
    },
    {
     "data": {
      "image/png": "[encoded data removed]",
      "text/plain": [
       "<Figure size 2880x1440 with 2 Axes>"
      ]
     },
     "metadata": {},
     "output_type": "display_data"
    }
   ],
   "source": [
    "# Generate a custom diverging colormap\n",
    "cmap = sns.diverging_palette(320,20,as_cmap=True)\n",
    "# Create a covariance matrix\n",
    "corr = train_data.corr()\n",
    "# Set up the matplotlib figure\n",
    "f, ax = plt.subplots(figsize=(40,20))\n",
    "# Draw the heatmap\n",
    "sns.heatmap(corr, vmax=1,center=0, square=True, linewidth=1, linecolor='white', \n",
    "            annot=True, cmap=cmap)\n",
    "ax.set_title('Multi-Collinearity of Features')"
   ]
  },
  {
   "cell_type": "markdown",
   "id": "652b41a9",
   "metadata": {
    "papermill": {
     "duration": 0.027806,
     "end_time": "2022-11-08T08:25:42.189516",
     "exception": false,
     "start_time": "2022-11-08T08:25:42.161710",
     "status": "completed"
    },
    "tags": []
   },
   "source": [
    "**📌 Observations:**\n",
    "\n",
    "1. bike_id is not corelated to any feature, it's just an identification number so we will remove it.\n",
    "2. price and model_year are positvely correlated (0.39) which is obvious because cars become costly year by year.\n",
    "3. There is a negative correlation between kms_driven and model_year (-0.12). The reason behind this could be that old cars must be travelled more than new cars.\n",
    "4. There is a negative correlation between mileage and model_year (-0.3). The reason behind this could be that old cars must be travelled more which results in decreased mileage.\n",
    "5. There's a negative correlation between first_owner and second_owner (-0.89) because the entries having 1 in preowner_1st_owner must have a 0 in preowner_2nd_owner.\n",
    "6. No need to feed bike_id and third_owner as they are very loosely correalted to the target attribute ie. price."
   ]
  },
  {
   "cell_type": "markdown",
   "id": "f54031fa",
   "metadata": {
    "papermill": {
     "duration": 0.028407,
     "end_time": "2022-11-08T08:25:42.246218",
     "exception": false,
     "start_time": "2022-11-08T08:25:42.217811",
     "status": "completed"
    },
    "tags": []
   },
   "source": [
    "# **5. Building Machine Learning Model  🤖**"
   ]
  },
  {
   "cell_type": "code",
   "execution_count": 26,
   "id": "63813c40",
   "metadata": {
    "execution": {
     "iopub.execute_input": "2022-11-08T08:25:42.305556Z",
     "iopub.status.busy": "2022-11-08T08:25:42.304898Z",
     "iopub.status.idle": "2022-11-08T08:25:42.311485Z",
     "shell.execute_reply": "2022-11-08T08:25:42.310032Z"
    },
    "papermill": {
     "duration": 0.038529,
     "end_time": "2022-11-08T08:25:42.313686",
     "exception": false,
     "start_time": "2022-11-08T08:25:42.275157",
     "status": "completed"
    },
    "tags": []
   },
   "outputs": [
    {
     "name": "stdout",
     "output_type": "stream",
     "text": [
      "\n",
      "Columns in our dataset:  Index(['bike_id', 'model_name', 'model_year', 'kms_driven', 'location',\n",
      "       'mileage', 'power', 'price', 'first owner', 'fourth owner or more',\n",
      "       'second owner', 'third owner'],\n",
      "      dtype='object')\n"
     ]
    }
   ],
   "source": [
    "print(\"\\nColumns in our dataset: \" , train_data.columns)"
   ]
  },
  {
   "cell_type": "code",
   "execution_count": 27,
   "id": "2a0600b3",
   "metadata": {
    "execution": {
     "iopub.execute_input": "2022-11-08T08:25:42.372045Z",
     "iopub.status.busy": "2022-11-08T08:25:42.371392Z",
     "iopub.status.idle": "2022-11-08T08:25:42.382164Z",
     "shell.execute_reply": "2022-11-08T08:25:42.381171Z"
    },
    "papermill": {
     "duration": 0.042976,
     "end_time": "2022-11-08T08:25:42.384644",
     "exception": false,
     "start_time": "2022-11-08T08:25:42.341668",
     "status": "completed"
    },
    "tags": []
   },
   "outputs": [],
   "source": [
    "feed = train_data[['model_name', 'model_year', 'kms_driven', 'location',\n",
    "                   'mileage', 'power', 'price', 'first owner', 'second owner']]\n",
    "\n",
    "# Taking all independent variable columns\n",
    "df_train_x = feed.drop('price',axis = 1)\n",
    "\n",
    "# Target variable column\n",
    "df_train_y = feed['price']\n",
    "\n",
    "# Splitting into train and test sets\n",
    "x_train, x_test, y_train, y_test = train_test_split(df_train_x, df_train_y, test_size=0.25, random_state=42)"
   ]
  },
  {
   "cell_type": "markdown",
   "id": "2abf68a1",
   "metadata": {
    "papermill": {
     "duration": 0.028083,
     "end_time": "2022-11-08T08:25:42.441834",
     "exception": false,
     "start_time": "2022-11-08T08:25:42.413751",
     "status": "completed"
    },
    "tags": []
   },
   "source": [
    "**XG Boost Regressor**"
   ]
  },
  {
   "cell_type": "code",
   "execution_count": 28,
   "id": "2a40cc16",
   "metadata": {
    "execution": {
     "iopub.execute_input": "2022-11-08T08:25:42.501133Z",
     "iopub.status.busy": "2022-11-08T08:25:42.500485Z",
     "iopub.status.idle": "2022-11-08T08:25:43.026264Z",
     "shell.execute_reply": "2022-11-08T08:25:43.025305Z"
    },
    "papermill": {
     "duration": 0.558561,
     "end_time": "2022-11-08T08:25:43.029106",
     "exception": false,
     "start_time": "2022-11-08T08:25:42.470545",
     "status": "completed"
    },
    "tags": []
   },
   "outputs": [
    {
     "name": "stdout",
     "output_type": "stream",
     "text": [
      "The Root Mean Square Log Error{RMSLE} obtained is: 0.5856006213037059\n"
     ]
    }
   ],
   "source": [
    "xg = xgb.XGBRegressor()\n",
    "xg.fit(x_train, y_train)\n",
    "predictions_xg = xg.predict(x_test)\n",
    "predictions_xg = [max(0,x) for x in predictions_xg]\n",
    "\n",
    "print(\"The Root Mean Square Log Error{RMSLE} obtained is:\",\n",
    "      np.sqrt(mean_squared_log_error(y_test, predictions_xg)))"
   ]
  },
  {
   "cell_type": "markdown",
   "id": "75d3543d",
   "metadata": {
    "papermill": {
     "duration": 0.032338,
     "end_time": "2022-11-08T08:25:43.091955",
     "exception": false,
     "start_time": "2022-11-08T08:25:43.059617",
     "status": "completed"
    },
    "tags": []
   },
   "source": [
    "# **6. Loading Testing Dataset 📊**"
   ]
  },
  {
   "cell_type": "code",
   "execution_count": 29,
   "id": "0ceee289",
   "metadata": {
    "execution": {
     "iopub.execute_input": "2022-11-08T08:25:43.151952Z",
     "iopub.status.busy": "2022-11-08T08:25:43.151539Z",
     "iopub.status.idle": "2022-11-08T08:25:43.181923Z",
     "shell.execute_reply": "2022-11-08T08:25:43.181017Z"
    },
    "papermill": {
     "duration": 0.063471,
     "end_time": "2022-11-08T08:25:43.184511",
     "exception": false,
     "start_time": "2022-11-08T08:25:43.121040",
     "status": "completed"
    },
    "tags": []
   },
   "outputs": [
    {
     "name": "stdout",
     "output_type": "stream",
     "text": [
      "<class 'pandas.core.frame.DataFrame'>\n",
      "RangeIndex: 1965 entries, 0 to 1964\n",
      "Data columns (total 8 columns):\n",
      " #   Column      Non-Null Count  Dtype \n",
      "---  ------      --------------  ----- \n",
      " 0   bike_id     1965 non-null   int64 \n",
      " 1   model_name  1965 non-null   object\n",
      " 2   model_year  1965 non-null   int64 \n",
      " 3   kms_driven  1965 non-null   object\n",
      " 4   owner       1965 non-null   object\n",
      " 5   location    1959 non-null   object\n",
      " 6   mileage     1963 non-null   object\n",
      " 7   power       1957 non-null   object\n",
      "dtypes: int64(2), object(6)\n",
      "memory usage: 122.9+ KB\n"
     ]
    }
   ],
   "source": [
    "test_data = pd.read_csv('../input/bikeprice/test.csv')\n",
    "\n",
    "# Printing first 10 rows of the dataset\n",
    "# test_data.head(10)\n",
    "\n",
    "# test_data.isnull().sum()\n",
    "test_data.info()"
   ]
  },
  {
   "cell_type": "markdown",
   "id": "55d06fc2",
   "metadata": {
    "papermill": {
     "duration": 0.028227,
     "end_time": "2022-11-08T08:25:43.242153",
     "exception": false,
     "start_time": "2022-11-08T08:25:43.213926",
     "status": "completed"
    },
    "tags": []
   },
   "source": [
    "# **7. Applying all Data Preprocessing over Test Dataset**"
   ]
  },
  {
   "cell_type": "markdown",
   "id": "5c2691db",
   "metadata": {
    "papermill": {
     "duration": 0.027989,
     "end_time": "2022-11-08T08:25:43.298520",
     "exception": false,
     "start_time": "2022-11-08T08:25:43.270531",
     "status": "completed"
    },
    "tags": []
   },
   "source": [
    "# *Handling Missing Values*"
   ]
  },
  {
   "cell_type": "code",
   "execution_count": 30,
   "id": "40ad1662",
   "metadata": {
    "execution": {
     "iopub.execute_input": "2022-11-08T08:25:43.367929Z",
     "iopub.status.busy": "2022-11-08T08:25:43.366819Z",
     "iopub.status.idle": "2022-11-08T08:25:43.381193Z",
     "shell.execute_reply": "2022-11-08T08:25:43.378898Z"
    },
    "papermill": {
     "duration": 0.057157,
     "end_time": "2022-11-08T08:25:43.384644",
     "exception": false,
     "start_time": "2022-11-08T08:25:43.327487",
     "status": "completed"
    },
    "tags": []
   },
   "outputs": [
    {
     "data": {
      "text/plain": [
       "bike_id       0\n",
       "model_name    0\n",
       "model_year    0\n",
       "kms_driven    0\n",
       "owner         0\n",
       "location      6\n",
       "mileage       2\n",
       "power         8\n",
       "dtype: int64"
      ]
     },
     "execution_count": 30,
     "metadata": {},
     "output_type": "execute_result"
    }
   ],
   "source": [
    "test_data.isnull().sum()"
   ]
  },
  {
   "cell_type": "markdown",
   "id": "f9093e07",
   "metadata": {
    "papermill": {
     "duration": 0.031905,
     "end_time": "2022-11-08T08:25:43.447807",
     "exception": false,
     "start_time": "2022-11-08T08:25:43.415902",
     "status": "completed"
    },
    "tags": []
   },
   "source": [
    "**We have a total of 16 missing values in the same columns as we had in the training set.**"
   ]
  },
  {
   "cell_type": "code",
   "execution_count": 31,
   "id": "c2625672",
   "metadata": {
    "execution": {
     "iopub.execute_input": "2022-11-08T08:25:43.514660Z",
     "iopub.status.busy": "2022-11-08T08:25:43.513713Z",
     "iopub.status.idle": "2022-11-08T08:25:43.528653Z",
     "shell.execute_reply": "2022-11-08T08:25:43.527388Z"
    },
    "papermill": {
     "duration": 0.050392,
     "end_time": "2022-11-08T08:25:43.531169",
     "exception": false,
     "start_time": "2022-11-08T08:25:43.480777",
     "status": "completed"
    },
    "tags": []
   },
   "outputs": [
    {
     "data": {
      "text/plain": [
       "bike_id       0\n",
       "model_name    0\n",
       "model_year    0\n",
       "kms_driven    0\n",
       "owner         0\n",
       "location      6\n",
       "mileage       2\n",
       "power         0\n",
       "dtype: int64"
      ]
     },
     "execution_count": 31,
     "metadata": {},
     "output_type": "execute_result"
    }
   ],
   "source": [
    "test_data['power'] = test_data['power'].fillna(test_data['power'].mode()[0])\n",
    "test_data.isnull().sum()"
   ]
  },
  {
   "cell_type": "code",
   "execution_count": 32,
   "id": "956c5103",
   "metadata": {
    "execution": {
     "iopub.execute_input": "2022-11-08T08:25:43.602308Z",
     "iopub.status.busy": "2022-11-08T08:25:43.601383Z",
     "iopub.status.idle": "2022-11-08T08:25:43.615683Z",
     "shell.execute_reply": "2022-11-08T08:25:43.614252Z"
    },
    "papermill": {
     "duration": 0.05561,
     "end_time": "2022-11-08T08:25:43.618295",
     "exception": false,
     "start_time": "2022-11-08T08:25:43.562685",
     "status": "completed"
    },
    "tags": []
   },
   "outputs": [
    {
     "data": {
      "text/plain": [
       "bike_id       0\n",
       "model_name    0\n",
       "model_year    0\n",
       "kms_driven    0\n",
       "owner         0\n",
       "location      6\n",
       "mileage       0\n",
       "power         0\n",
       "dtype: int64"
      ]
     },
     "execution_count": 32,
     "metadata": {},
     "output_type": "execute_result"
    }
   ],
   "source": [
    "test_data['mileage'] = test_data['mileage'].fillna(test_data['mileage'].mode()[0])\n",
    "test_data.isnull().sum()"
   ]
  },
  {
   "cell_type": "code",
   "execution_count": 33,
   "id": "7454526c",
   "metadata": {
    "execution": {
     "iopub.execute_input": "2022-11-08T08:25:43.680000Z",
     "iopub.status.busy": "2022-11-08T08:25:43.678872Z",
     "iopub.status.idle": "2022-11-08T08:25:43.692656Z",
     "shell.execute_reply": "2022-11-08T08:25:43.690996Z"
    },
    "papermill": {
     "duration": 0.047989,
     "end_time": "2022-11-08T08:25:43.695838",
     "exception": false,
     "start_time": "2022-11-08T08:25:43.647849",
     "status": "completed"
    },
    "tags": []
   },
   "outputs": [
    {
     "data": {
      "text/plain": [
       "bike_id       0\n",
       "model_name    0\n",
       "model_year    0\n",
       "kms_driven    0\n",
       "owner         0\n",
       "location      0\n",
       "mileage       0\n",
       "power         0\n",
       "dtype: int64"
      ]
     },
     "execution_count": 33,
     "metadata": {},
     "output_type": "execute_result"
    }
   ],
   "source": [
    "test_data['location'] = test_data['location'].fillna(test_data['location'].mode()[0])\n",
    "test_data.isnull().sum()"
   ]
  },
  {
   "cell_type": "markdown",
   "id": "dd769973",
   "metadata": {
    "papermill": {
     "duration": 0.029733,
     "end_time": "2022-11-08T08:25:43.760736",
     "exception": false,
     "start_time": "2022-11-08T08:25:43.731003",
     "status": "completed"
    },
    "tags": []
   },
   "source": [
    "# *Categorical Variable Encodings*"
   ]
  },
  {
   "cell_type": "markdown",
   "id": "0cfe142f",
   "metadata": {
    "papermill": {
     "duration": 0.029091,
     "end_time": "2022-11-08T08:25:43.820061",
     "exception": false,
     "start_time": "2022-11-08T08:25:43.790970",
     "status": "completed"
    },
    "tags": []
   },
   "source": [
    "**Dummy Encoding for owner**"
   ]
  },
  {
   "cell_type": "code",
   "execution_count": 34,
   "id": "c13debdb",
   "metadata": {
    "execution": {
     "iopub.execute_input": "2022-11-08T08:25:43.880816Z",
     "iopub.status.busy": "2022-11-08T08:25:43.879540Z",
     "iopub.status.idle": "2022-11-08T08:25:43.907023Z",
     "shell.execute_reply": "2022-11-08T08:25:43.905754Z"
    },
    "papermill": {
     "duration": 0.060657,
     "end_time": "2022-11-08T08:25:43.909659",
     "exception": false,
     "start_time": "2022-11-08T08:25:43.849002",
     "status": "completed"
    },
    "tags": []
   },
   "outputs": [
    {
     "data": {
      "text/html": [
       "<div>\n",
       "<style scoped>\n",
       "    .dataframe tbody tr th:only-of-type {\n",
       "        vertical-align: middle;\n",
       "    }\n",
       "\n",
       "    .dataframe tbody tr th {\n",
       "        vertical-align: top;\n",
       "    }\n",
       "\n",
       "    .dataframe thead th {\n",
       "        text-align: right;\n",
       "    }\n",
       "</style>\n",
       "<table border=\"1\" class=\"dataframe\">\n",
       "  <thead>\n",
       "    <tr style=\"text-align: right;\">\n",
       "      <th></th>\n",
       "      <th>bike_id</th>\n",
       "      <th>model_name</th>\n",
       "      <th>model_year</th>\n",
       "      <th>kms_driven</th>\n",
       "      <th>location</th>\n",
       "      <th>mileage</th>\n",
       "      <th>power</th>\n",
       "      <th>first owner</th>\n",
       "      <th>fourth owner or more</th>\n",
       "      <th>second owner</th>\n",
       "      <th>third owner</th>\n",
       "    </tr>\n",
       "  </thead>\n",
       "  <tbody>\n",
       "    <tr>\n",
       "      <th>0</th>\n",
       "      <td>0</td>\n",
       "      <td>Royal Enfield Thunderbird X 350cc ABS 2019</td>\n",
       "      <td>2019</td>\n",
       "      <td>10500 Km</td>\n",
       "      <td>delhi</td>\n",
       "      <td></td>\n",
       "      <td>19.80 bhp</td>\n",
       "      <td>1</td>\n",
       "      <td>0</td>\n",
       "      <td>0</td>\n",
       "      <td>0</td>\n",
       "    </tr>\n",
       "    <tr>\n",
       "      <th>1</th>\n",
       "      <td>1</td>\n",
       "      <td>Bajaj Pulsar 180cc 2010</td>\n",
       "      <td>2010</td>\n",
       "      <td>25000 Km</td>\n",
       "      <td>bangalore</td>\n",
       "      <td>65 kmpl</td>\n",
       "      <td>15 bhp</td>\n",
       "      <td>1</td>\n",
       "      <td>0</td>\n",
       "      <td>0</td>\n",
       "      <td>0</td>\n",
       "    </tr>\n",
       "    <tr>\n",
       "      <th>2</th>\n",
       "      <td>2</td>\n",
       "      <td>Bajaj Avenger 180cc 2006</td>\n",
       "      <td>2006</td>\n",
       "      <td>57500 Km</td>\n",
       "      <td>bangalore</td>\n",
       "      <td>40 kmpl</td>\n",
       "      <td>19 bhp</td>\n",
       "      <td>1</td>\n",
       "      <td>0</td>\n",
       "      <td>0</td>\n",
       "      <td>0</td>\n",
       "    </tr>\n",
       "    <tr>\n",
       "      <th>3</th>\n",
       "      <td>3</td>\n",
       "      <td>Yamaha YZF-R15 V3 150CC ABS 2019</td>\n",
       "      <td>2019</td>\n",
       "      <td>7000 Km</td>\n",
       "      <td>sikar</td>\n",
       "      <td></td>\n",
       "      <td>18.70 bhp</td>\n",
       "      <td>1</td>\n",
       "      <td>0</td>\n",
       "      <td>0</td>\n",
       "      <td>0</td>\n",
       "    </tr>\n",
       "    <tr>\n",
       "      <th>4</th>\n",
       "      <td>4</td>\n",
       "      <td>Suzuki Gixxer 150cc SP Rear Disc 2018</td>\n",
       "      <td>2018</td>\n",
       "      <td>5300 Km</td>\n",
       "      <td>indore</td>\n",
       "      <td>63kmpl</td>\n",
       "      <td>14 bhp</td>\n",
       "      <td>1</td>\n",
       "      <td>0</td>\n",
       "      <td>0</td>\n",
       "      <td>0</td>\n",
       "    </tr>\n",
       "    <tr>\n",
       "      <th>5</th>\n",
       "      <td>5</td>\n",
       "      <td>Royal Enfield Thunderbird 350cc 2018</td>\n",
       "      <td>2018</td>\n",
       "      <td>15917 Km</td>\n",
       "      <td>mumbai</td>\n",
       "      <td>40 kmpl</td>\n",
       "      <td>19.80 bhp</td>\n",
       "      <td>1</td>\n",
       "      <td>0</td>\n",
       "      <td>0</td>\n",
       "      <td>0</td>\n",
       "    </tr>\n",
       "    <tr>\n",
       "      <th>6</th>\n",
       "      <td>6</td>\n",
       "      <td>Royal Enfield Classic 350cc 2015</td>\n",
       "      <td>2015</td>\n",
       "      <td>16500 Km</td>\n",
       "      <td>pune</td>\n",
       "      <td>35 kmpl</td>\n",
       "      <td>19.80 Bhp</td>\n",
       "      <td>1</td>\n",
       "      <td>0</td>\n",
       "      <td>0</td>\n",
       "      <td>0</td>\n",
       "    </tr>\n",
       "    <tr>\n",
       "      <th>7</th>\n",
       "      <td>7</td>\n",
       "      <td>Hero HF Deluxe Kick Alloy 100cc 2018</td>\n",
       "      <td>2018</td>\n",
       "      <td>11000 Km</td>\n",
       "      <td>gurgaon</td>\n",
       "      <td>55 kmpl</td>\n",
       "      <td>6.15kW (8.36 Ps)</td>\n",
       "      <td>1</td>\n",
       "      <td>0</td>\n",
       "      <td>0</td>\n",
       "      <td>0</td>\n",
       "    </tr>\n",
       "    <tr>\n",
       "      <th>8</th>\n",
       "      <td>8</td>\n",
       "      <td>Bajaj V15 150cc 2017</td>\n",
       "      <td>2017</td>\n",
       "      <td>4000 Km</td>\n",
       "      <td>delhi</td>\n",
       "      <td>57 kmpl</td>\n",
       "      <td>11.80 bhp</td>\n",
       "      <td>1</td>\n",
       "      <td>0</td>\n",
       "      <td>0</td>\n",
       "      <td>0</td>\n",
       "    </tr>\n",
       "    <tr>\n",
       "      <th>9</th>\n",
       "      <td>9</td>\n",
       "      <td>Bajaj Pulsar 220F 2016</td>\n",
       "      <td>2016</td>\n",
       "      <td>35000 Km</td>\n",
       "      <td>jaipur</td>\n",
       "      <td>38 kmpl</td>\n",
       "      <td>21 bhp</td>\n",
       "      <td>0</td>\n",
       "      <td>0</td>\n",
       "      <td>1</td>\n",
       "      <td>0</td>\n",
       "    </tr>\n",
       "  </tbody>\n",
       "</table>\n",
       "</div>"
      ],
      "text/plain": [
       "   bike_id                                  model_name  model_year kms_driven  \\\n",
       "0        0  Royal Enfield Thunderbird X 350cc ABS 2019        2019   10500 Km   \n",
       "1        1                     Bajaj Pulsar 180cc 2010        2010   25000 Km   \n",
       "2        2                    Bajaj Avenger 180cc 2006        2006   57500 Km   \n",
       "3        3            Yamaha YZF-R15 V3 150CC ABS 2019        2019    7000 Km   \n",
       "4        4       Suzuki Gixxer 150cc SP Rear Disc 2018        2018    5300 Km   \n",
       "5        5        Royal Enfield Thunderbird 350cc 2018        2018   15917 Km   \n",
       "6        6            Royal Enfield Classic 350cc 2015        2015   16500 Km   \n",
       "7        7        Hero HF Deluxe Kick Alloy 100cc 2018        2018   11000 Km   \n",
       "8        8                        Bajaj V15 150cc 2017        2017    4000 Km   \n",
       "9        9                      Bajaj Pulsar 220F 2016        2016   35000 Km   \n",
       "\n",
       "    location   mileage             power  first owner  fourth owner or more  \\\n",
       "0      delhi                   19.80 bhp            1                     0   \n",
       "1  bangalore   65 kmpl            15 bhp            1                     0   \n",
       "2  bangalore   40 kmpl            19 bhp            1                     0   \n",
       "3      sikar                   18.70 bhp            1                     0   \n",
       "4     indore    63kmpl            14 bhp            1                     0   \n",
       "5     mumbai   40 kmpl         19.80 bhp            1                     0   \n",
       "6       pune   35 kmpl         19.80 Bhp            1                     0   \n",
       "7    gurgaon   55 kmpl  6.15kW (8.36 Ps)            1                     0   \n",
       "8      delhi   57 kmpl         11.80 bhp            1                     0   \n",
       "9     jaipur   38 kmpl            21 bhp            0                     0   \n",
       "\n",
       "   second owner  third owner  \n",
       "0             0            0  \n",
       "1             0            0  \n",
       "2             0            0  \n",
       "3             0            0  \n",
       "4             0            0  \n",
       "5             0            0  \n",
       "6             0            0  \n",
       "7             0            0  \n",
       "8             0            0  \n",
       "9             1            0  "
      ]
     },
     "execution_count": 34,
     "metadata": {},
     "output_type": "execute_result"
    }
   ],
   "source": [
    "# WE CREATE DUMMY VARIABLES FOR OWNER ATTRIBUTE\n",
    "# IT WILL ASSIGN 0 AND 1 TO ALL TYPES OF OWNERS\n",
    "dum = pd.get_dummies(test_data.owner)\n",
    "\n",
    "# NOW ADDING DUMMY VARIABLE TO THE TRAIN_DATA\n",
    "test_data = pd.concat([test_data,dum], axis='columns')\n",
    "\n",
    "# NOW AS WE HAVE ADDED THE DUMMY VARIABLE WE CAN REMOVE THE \"OWNER\" ATTRIBUTE\n",
    "test_data = test_data.drop(['owner'], axis='columns')\n",
    "test_data.head(10)"
   ]
  },
  {
   "cell_type": "markdown",
   "id": "26164f29",
   "metadata": {
    "papermill": {
     "duration": 0.029126,
     "end_time": "2022-11-08T08:25:43.969023",
     "exception": false,
     "start_time": "2022-11-08T08:25:43.939897",
     "status": "completed"
    },
    "tags": []
   },
   "source": [
    "**Label Encoding for model_name, kms_driven, location, mileage and power**"
   ]
  },
  {
   "cell_type": "code",
   "execution_count": 35,
   "id": "abe74f57",
   "metadata": {
    "execution": {
     "iopub.execute_input": "2022-11-08T08:25:44.031569Z",
     "iopub.status.busy": "2022-11-08T08:25:44.030344Z",
     "iopub.status.idle": "2022-11-08T08:25:44.063121Z",
     "shell.execute_reply": "2022-11-08T08:25:44.061897Z"
    },
    "papermill": {
     "duration": 0.066859,
     "end_time": "2022-11-08T08:25:44.066104",
     "exception": false,
     "start_time": "2022-11-08T08:25:43.999245",
     "status": "completed"
    },
    "tags": []
   },
   "outputs": [
    {
     "data": {
      "text/html": [
       "<div>\n",
       "<style scoped>\n",
       "    .dataframe tbody tr th:only-of-type {\n",
       "        vertical-align: middle;\n",
       "    }\n",
       "\n",
       "    .dataframe tbody tr th {\n",
       "        vertical-align: top;\n",
       "    }\n",
       "\n",
       "    .dataframe thead th {\n",
       "        text-align: right;\n",
       "    }\n",
       "</style>\n",
       "<table border=\"1\" class=\"dataframe\">\n",
       "  <thead>\n",
       "    <tr style=\"text-align: right;\">\n",
       "      <th></th>\n",
       "      <th>bike_id</th>\n",
       "      <th>model_name</th>\n",
       "      <th>model_year</th>\n",
       "      <th>kms_driven</th>\n",
       "      <th>location</th>\n",
       "      <th>mileage</th>\n",
       "      <th>power</th>\n",
       "      <th>first owner</th>\n",
       "      <th>fourth owner or more</th>\n",
       "      <th>second owner</th>\n",
       "      <th>third owner</th>\n",
       "    </tr>\n",
       "  </thead>\n",
       "  <tbody>\n",
       "    <tr>\n",
       "      <th>0</th>\n",
       "      <td>0</td>\n",
       "      <td>664</td>\n",
       "      <td>2019</td>\n",
       "      <td>17</td>\n",
       "      <td>75</td>\n",
       "      <td>0</td>\n",
       "      <td>82</td>\n",
       "      <td>1</td>\n",
       "      <td>0</td>\n",
       "      <td>0</td>\n",
       "      <td>0</td>\n",
       "    </tr>\n",
       "    <tr>\n",
       "      <th>1</th>\n",
       "      <td>1</td>\n",
       "      <td>129</td>\n",
       "      <td>2010</td>\n",
       "      <td>235</td>\n",
       "      <td>30</td>\n",
       "      <td>73</td>\n",
       "      <td>47</td>\n",
       "      <td>1</td>\n",
       "      <td>0</td>\n",
       "      <td>0</td>\n",
       "      <td>0</td>\n",
       "    </tr>\n",
       "    <tr>\n",
       "      <th>2</th>\n",
       "      <td>2</td>\n",
       "      <td>5</td>\n",
       "      <td>2006</td>\n",
       "      <td>440</td>\n",
       "      <td>30</td>\n",
       "      <td>36</td>\n",
       "      <td>78</td>\n",
       "      <td>1</td>\n",
       "      <td>0</td>\n",
       "      <td>0</td>\n",
       "      <td>0</td>\n",
       "    </tr>\n",
       "    <tr>\n",
       "      <th>3</th>\n",
       "      <td>3</td>\n",
       "      <td>890</td>\n",
       "      <td>2019</td>\n",
       "      <td>481</td>\n",
       "      <td>231</td>\n",
       "      <td>0</td>\n",
       "      <td>75</td>\n",
       "      <td>1</td>\n",
       "      <td>0</td>\n",
       "      <td>0</td>\n",
       "      <td>0</td>\n",
       "    </tr>\n",
       "    <tr>\n",
       "      <th>4</th>\n",
       "      <td>4</td>\n",
       "      <td>683</td>\n",
       "      <td>2018</td>\n",
       "      <td>422</td>\n",
       "      <td>113</td>\n",
       "      <td>70</td>\n",
       "      <td>35</td>\n",
       "      <td>1</td>\n",
       "      <td>0</td>\n",
       "      <td>0</td>\n",
       "      <td>0</td>\n",
       "    </tr>\n",
       "    <tr>\n",
       "      <th>5</th>\n",
       "      <td>5</td>\n",
       "      <td>653</td>\n",
       "      <td>2018</td>\n",
       "      <td>100</td>\n",
       "      <td>176</td>\n",
       "      <td>36</td>\n",
       "      <td>82</td>\n",
       "      <td>1</td>\n",
       "      <td>0</td>\n",
       "      <td>0</td>\n",
       "      <td>0</td>\n",
       "    </tr>\n",
       "    <tr>\n",
       "      <th>6</th>\n",
       "      <td>6</td>\n",
       "      <td>562</td>\n",
       "      <td>2015</td>\n",
       "      <td>110</td>\n",
       "      <td>201</td>\n",
       "      <td>28</td>\n",
       "      <td>81</td>\n",
       "      <td>1</td>\n",
       "      <td>0</td>\n",
       "      <td>0</td>\n",
       "      <td>0</td>\n",
       "    </tr>\n",
       "    <tr>\n",
       "      <th>7</th>\n",
       "      <td>7</td>\n",
       "      <td>263</td>\n",
       "      <td>2018</td>\n",
       "      <td>24</td>\n",
       "      <td>99</td>\n",
       "      <td>58</td>\n",
       "      <td>139</td>\n",
       "      <td>1</td>\n",
       "      <td>0</td>\n",
       "      <td>0</td>\n",
       "      <td>0</td>\n",
       "    </tr>\n",
       "    <tr>\n",
       "      <th>8</th>\n",
       "      <td>8</td>\n",
       "      <td>204</td>\n",
       "      <td>2017</td>\n",
       "      <td>350</td>\n",
       "      <td>75</td>\n",
       "      <td>61</td>\n",
       "      <td>13</td>\n",
       "      <td>1</td>\n",
       "      <td>0</td>\n",
       "      <td>0</td>\n",
       "      <td>0</td>\n",
       "    </tr>\n",
       "    <tr>\n",
       "      <th>9</th>\n",
       "      <td>9</td>\n",
       "      <td>152</td>\n",
       "      <td>2016</td>\n",
       "      <td>319</td>\n",
       "      <td>116</td>\n",
       "      <td>32</td>\n",
       "      <td>93</td>\n",
       "      <td>0</td>\n",
       "      <td>0</td>\n",
       "      <td>1</td>\n",
       "      <td>0</td>\n",
       "    </tr>\n",
       "  </tbody>\n",
       "</table>\n",
       "</div>"
      ],
      "text/plain": [
       "   bike_id  model_name  model_year  kms_driven  location  mileage  power  \\\n",
       "0        0         664        2019          17        75        0     82   \n",
       "1        1         129        2010         235        30       73     47   \n",
       "2        2           5        2006         440        30       36     78   \n",
       "3        3         890        2019         481       231        0     75   \n",
       "4        4         683        2018         422       113       70     35   \n",
       "5        5         653        2018         100       176       36     82   \n",
       "6        6         562        2015         110       201       28     81   \n",
       "7        7         263        2018          24        99       58    139   \n",
       "8        8         204        2017         350        75       61     13   \n",
       "9        9         152        2016         319       116       32     93   \n",
       "\n",
       "   first owner  fourth owner or more  second owner  third owner  \n",
       "0            1                     0             0            0  \n",
       "1            1                     0             0            0  \n",
       "2            1                     0             0            0  \n",
       "3            1                     0             0            0  \n",
       "4            1                     0             0            0  \n",
       "5            1                     0             0            0  \n",
       "6            1                     0             0            0  \n",
       "7            1                     0             0            0  \n",
       "8            1                     0             0            0  \n",
       "9            0                     0             1            0  "
      ]
     },
     "execution_count": 35,
     "metadata": {},
     "output_type": "execute_result"
    }
   ],
   "source": [
    "nums = LabelEncoder()\n",
    "\n",
    "label_col = ['model_name', 'kms_driven', 'location', 'mileage', 'power']\n",
    "\n",
    "for x in label_col:\n",
    "    test_data[x] = nums.fit_transform(test_data[x].astype(str))\n",
    "  \n",
    "test_data.head(10)"
   ]
  },
  {
   "cell_type": "markdown",
   "id": "a768bb3d",
   "metadata": {
    "papermill": {
     "duration": 0.029537,
     "end_time": "2022-11-08T08:25:44.126239",
     "exception": false,
     "start_time": "2022-11-08T08:25:44.096702",
     "status": "completed"
    },
    "tags": []
   },
   "source": [
    "# **8. Predicting Over Test Dataset 📊**"
   ]
  },
  {
   "cell_type": "code",
   "execution_count": 36,
   "id": "3ce4a490",
   "metadata": {
    "execution": {
     "iopub.execute_input": "2022-11-08T08:25:44.188987Z",
     "iopub.status.busy": "2022-11-08T08:25:44.188054Z",
     "iopub.status.idle": "2022-11-08T08:25:44.208896Z",
     "shell.execute_reply": "2022-11-08T08:25:44.207641Z"
    },
    "papermill": {
     "duration": 0.055428,
     "end_time": "2022-11-08T08:25:44.211326",
     "exception": false,
     "start_time": "2022-11-08T08:25:44.155898",
     "status": "completed"
    },
    "tags": []
   },
   "outputs": [
    {
     "data": {
      "text/html": [
       "<div>\n",
       "<style scoped>\n",
       "    .dataframe tbody tr th:only-of-type {\n",
       "        vertical-align: middle;\n",
       "    }\n",
       "\n",
       "    .dataframe tbody tr th {\n",
       "        vertical-align: top;\n",
       "    }\n",
       "\n",
       "    .dataframe thead th {\n",
       "        text-align: right;\n",
       "    }\n",
       "</style>\n",
       "<table border=\"1\" class=\"dataframe\">\n",
       "  <thead>\n",
       "    <tr style=\"text-align: right;\">\n",
       "      <th></th>\n",
       "      <th>model_name</th>\n",
       "      <th>model_year</th>\n",
       "      <th>kms_driven</th>\n",
       "      <th>location</th>\n",
       "      <th>mileage</th>\n",
       "      <th>power</th>\n",
       "      <th>first owner</th>\n",
       "      <th>second owner</th>\n",
       "    </tr>\n",
       "  </thead>\n",
       "  <tbody>\n",
       "    <tr>\n",
       "      <th>0</th>\n",
       "      <td>664</td>\n",
       "      <td>2019</td>\n",
       "      <td>17</td>\n",
       "      <td>75</td>\n",
       "      <td>0</td>\n",
       "      <td>82</td>\n",
       "      <td>1</td>\n",
       "      <td>0</td>\n",
       "    </tr>\n",
       "    <tr>\n",
       "      <th>1</th>\n",
       "      <td>129</td>\n",
       "      <td>2010</td>\n",
       "      <td>235</td>\n",
       "      <td>30</td>\n",
       "      <td>73</td>\n",
       "      <td>47</td>\n",
       "      <td>1</td>\n",
       "      <td>0</td>\n",
       "    </tr>\n",
       "    <tr>\n",
       "      <th>2</th>\n",
       "      <td>5</td>\n",
       "      <td>2006</td>\n",
       "      <td>440</td>\n",
       "      <td>30</td>\n",
       "      <td>36</td>\n",
       "      <td>78</td>\n",
       "      <td>1</td>\n",
       "      <td>0</td>\n",
       "    </tr>\n",
       "    <tr>\n",
       "      <th>3</th>\n",
       "      <td>890</td>\n",
       "      <td>2019</td>\n",
       "      <td>481</td>\n",
       "      <td>231</td>\n",
       "      <td>0</td>\n",
       "      <td>75</td>\n",
       "      <td>1</td>\n",
       "      <td>0</td>\n",
       "    </tr>\n",
       "    <tr>\n",
       "      <th>4</th>\n",
       "      <td>683</td>\n",
       "      <td>2018</td>\n",
       "      <td>422</td>\n",
       "      <td>113</td>\n",
       "      <td>70</td>\n",
       "      <td>35</td>\n",
       "      <td>1</td>\n",
       "      <td>0</td>\n",
       "    </tr>\n",
       "    <tr>\n",
       "      <th>...</th>\n",
       "      <td>...</td>\n",
       "      <td>...</td>\n",
       "      <td>...</td>\n",
       "      <td>...</td>\n",
       "      <td>...</td>\n",
       "      <td>...</td>\n",
       "      <td>...</td>\n",
       "      <td>...</td>\n",
       "    </tr>\n",
       "    <tr>\n",
       "      <th>1960</th>\n",
       "      <td>502</td>\n",
       "      <td>2020</td>\n",
       "      <td>449</td>\n",
       "      <td>7</td>\n",
       "      <td>28</td>\n",
       "      <td>104</td>\n",
       "      <td>1</td>\n",
       "      <td>0</td>\n",
       "    </tr>\n",
       "    <tr>\n",
       "      <th>1961</th>\n",
       "      <td>378</td>\n",
       "      <td>2015</td>\n",
       "      <td>121</td>\n",
       "      <td>75</td>\n",
       "      <td>7</td>\n",
       "      <td>69</td>\n",
       "      <td>1</td>\n",
       "      <td>0</td>\n",
       "    </tr>\n",
       "    <tr>\n",
       "      <th>1962</th>\n",
       "      <td>468</td>\n",
       "      <td>2020</td>\n",
       "      <td>285</td>\n",
       "      <td>92</td>\n",
       "      <td>0</td>\n",
       "      <td>121</td>\n",
       "      <td>1</td>\n",
       "      <td>0</td>\n",
       "    </tr>\n",
       "    <tr>\n",
       "      <th>1963</th>\n",
       "      <td>67</td>\n",
       "      <td>2010</td>\n",
       "      <td>421</td>\n",
       "      <td>5</td>\n",
       "      <td>73</td>\n",
       "      <td>182</td>\n",
       "      <td>1</td>\n",
       "      <td>0</td>\n",
       "    </tr>\n",
       "    <tr>\n",
       "      <th>1964</th>\n",
       "      <td>880</td>\n",
       "      <td>2012</td>\n",
       "      <td>547</td>\n",
       "      <td>75</td>\n",
       "      <td>40</td>\n",
       "      <td>61</td>\n",
       "      <td>1</td>\n",
       "      <td>0</td>\n",
       "    </tr>\n",
       "  </tbody>\n",
       "</table>\n",
       "<p>1965 rows × 8 columns</p>\n",
       "</div>"
      ],
      "text/plain": [
       "      model_name  model_year  kms_driven  location  mileage  power  \\\n",
       "0            664        2019          17        75        0     82   \n",
       "1            129        2010         235        30       73     47   \n",
       "2              5        2006         440        30       36     78   \n",
       "3            890        2019         481       231        0     75   \n",
       "4            683        2018         422       113       70     35   \n",
       "...          ...         ...         ...       ...      ...    ...   \n",
       "1960         502        2020         449         7       28    104   \n",
       "1961         378        2015         121        75        7     69   \n",
       "1962         468        2020         285        92        0    121   \n",
       "1963          67        2010         421         5       73    182   \n",
       "1964         880        2012         547        75       40     61   \n",
       "\n",
       "      first owner  second owner  \n",
       "0               1             0  \n",
       "1               1             0  \n",
       "2               1             0  \n",
       "3               1             0  \n",
       "4               1             0  \n",
       "...           ...           ...  \n",
       "1960            1             0  \n",
       "1961            1             0  \n",
       "1962            1             0  \n",
       "1963            1             0  \n",
       "1964            1             0  \n",
       "\n",
       "[1965 rows x 8 columns]"
      ]
     },
     "execution_count": 36,
     "metadata": {},
     "output_type": "execute_result"
    }
   ],
   "source": [
    "df_test = test_data.drop(['bike_id', 'third owner', 'fourth owner or more'], axis=1)\n",
    "df_test"
   ]
  },
  {
   "cell_type": "code",
   "execution_count": 37,
   "id": "09c44d48",
   "metadata": {
    "execution": {
     "iopub.execute_input": "2022-11-08T08:25:44.277627Z",
     "iopub.status.busy": "2022-11-08T08:25:44.276894Z",
     "iopub.status.idle": "2022-11-08T08:25:44.300996Z",
     "shell.execute_reply": "2022-11-08T08:25:44.299203Z"
    },
    "papermill": {
     "duration": 0.061616,
     "end_time": "2022-11-08T08:25:44.304039",
     "exception": false,
     "start_time": "2022-11-08T08:25:44.242423",
     "status": "completed"
    },
    "tags": []
   },
   "outputs": [
    {
     "name": "stdout",
     "output_type": "stream",
     "text": [
      "<class 'pandas.core.frame.DataFrame'>\n",
      "RangeIndex: 1965 entries, 0 to 1964\n",
      "Data columns (total 12 columns):\n",
      " #   Column                Non-Null Count  Dtype  \n",
      "---  ------                --------------  -----  \n",
      " 0   bike_id               1965 non-null   int64  \n",
      " 1   model_name            1965 non-null   int64  \n",
      " 2   model_year            1965 non-null   int64  \n",
      " 3   kms_driven            1965 non-null   int64  \n",
      " 4   location              1965 non-null   int64  \n",
      " 5   mileage               1965 non-null   int64  \n",
      " 6   power                 1965 non-null   int64  \n",
      " 7   first owner           1965 non-null   uint8  \n",
      " 8   fourth owner or more  1965 non-null   uint8  \n",
      " 9   second owner          1965 non-null   uint8  \n",
      " 10  third owner           1965 non-null   uint8  \n",
      " 11  price                 1965 non-null   float32\n",
      "dtypes: float32(1), int64(7), uint8(4)\n",
      "memory usage: 122.9 KB\n"
     ]
    }
   ],
   "source": [
    "test_data_predictions = xg.predict(df_test)\n",
    "test_data['price'] = test_data_predictions\n",
    "test_data.info()"
   ]
  },
  {
   "cell_type": "code",
   "execution_count": 38,
   "id": "5523c61b",
   "metadata": {
    "execution": {
     "iopub.execute_input": "2022-11-08T08:25:44.367380Z",
     "iopub.status.busy": "2022-11-08T08:25:44.366661Z",
     "iopub.status.idle": "2022-11-08T08:25:44.379250Z",
     "shell.execute_reply": "2022-11-08T08:25:44.378339Z"
    },
    "papermill": {
     "duration": 0.047268,
     "end_time": "2022-11-08T08:25:44.381983",
     "exception": false,
     "start_time": "2022-11-08T08:25:44.334715",
     "status": "completed"
    },
    "tags": []
   },
   "outputs": [],
   "source": [
    "data = test_data[['bike_id', 'price']]\n",
    "data.to_csv('submission.csv',index=False)"
   ]
  },
  {
   "cell_type": "code",
   "execution_count": 39,
   "id": "f15731fb",
   "metadata": {
    "execution": {
     "iopub.execute_input": "2022-11-08T08:25:44.445317Z",
     "iopub.status.busy": "2022-11-08T08:25:44.444616Z",
     "iopub.status.idle": "2022-11-08T08:25:44.460553Z",
     "shell.execute_reply": "2022-11-08T08:25:44.459372Z"
    },
    "papermill": {
     "duration": 0.05011,
     "end_time": "2022-11-08T08:25:44.462927",
     "exception": false,
     "start_time": "2022-11-08T08:25:44.412817",
     "status": "completed"
    },
    "tags": []
   },
   "outputs": [
    {
     "data": {
      "text/html": [
       "<a download=\"submission.csv\" href=\"data:text/csv;base64,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\" target=\"_blank\">Download CSV file</a>"
      ],
      "text/plain": [
       "<IPython.core.display.HTML object>"
      ]
     },
     "execution_count": 39,
     "metadata": {},
     "output_type": "execute_result"
    }
   ],
   "source": [
    "from IPython.display import HTML\n",
    "import base64\n",
    "\n",
    "# function that takes in a dataframe and creates a text link to  \n",
    "def create_download_link(df, title = \"Download CSV file\", filename = \"submission.csv\"):  \n",
    "    csv = df.to_csv()\n",
    "    b64 = base64.b64encode(csv.encode())\n",
    "    payload = b64.decode()\n",
    "    html = '<a download=\"{filename}\" href=\"data:text/csv;base64,{payload}\" target=\"_blank\">{title}</a>'\n",
    "    html = html.format(payload=payload,title=title,filename=filename)\n",
    "    return HTML(html)\n",
    "\n",
    "# create a random sample dataframe\n",
    "df = data\n",
    "\n",
    "# create a link to download the dataframe\n",
    "create_download_link(df)"
   ]
  }
 ],
 "metadata": {
  "kernelspec": {
   "display_name": "Python 3",
   "language": "python",
   "name": "python3"
  },
  "language_info": {
   "codemirror_mode": {
    "name": "ipython",
    "version": 3
   },
   "file_extension": ".py",
   "mimetype": "text/x-python",
   "name": "python",
   "nbconvert_exporter": "python",
   "pygments_lexer": "ipython3",
   "version": "3.7.12"
  },
  "papermill": {
   "default_parameters": {},
   "duration": 21.414571,
   "end_time": "2022-11-08T08:25:45.417154",
   "environment_variables": {},
   "exception": null,
   "input_path": "__notebook__.ipynb",
   "output_path": "__notebook__.ipynb",
   "parameters": {},
   "start_time": "2022-11-08T08:25:24.002583",
   "version": "2.3.4"
  }
 },
 "nbformat": 4,
 "nbformat_minor": 5
}
